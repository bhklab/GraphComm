{
 "cells": [
  {
   "cell_type": "code",
   "execution_count": 1,
   "id": "9e51bff7",
   "metadata": {},
   "outputs": [],
   "source": [
    "import liana \n",
    "import anndata\n",
    "import pandas as pd\n",
    "import matplotlib.pyplot as plt\n",
    "from scipy.stats import wilcoxon\n",
    "import anndata\n",
    "import scanpy as sc\n",
    "from liana.mt import rank_aggregate\n",
    "from liana.mt import singlecellsignalr, connectome, cellphonedb, natmi, logfc, cellchat, geometric_mean\n",
    "import numpy as np\n",
    "from matplotlib.pyplot import figure\n",
    "import math\n",
    "from scipy.stats import wilcoxon\n",
    "import seaborn as sns\n",
    "import matplotlib.gridspec as grid_spec\n",
    "\n",
    "%matplotlib inline"
   ]
  },
  {
   "cell_type": "markdown",
   "id": "febde582",
   "metadata": {},
   "source": [
    "# Data PreProcessing"
   ]
  },
  {
   "cell_type": "markdown",
   "id": "4e4049a4-6991-4460-a229-c66704edfdba",
   "metadata": {},
   "source": [
    "# Dataset 3: Pre and Post Drug Treatment Dataset"
   ]
  },
  {
   "cell_type": "markdown",
   "id": "e7f49967-cf30-44b8-b0f9-29199f943ebf",
   "metadata": {},
   "source": [
    "## Day 0"
   ]
  },
  {
   "cell_type": "code",
   "execution_count": null,
   "id": "f2b1611f",
   "metadata": {},
   "outputs": [
    {
     "name": "stderr",
     "output_type": "stream",
     "text": [
      "<ipython-input-67-5c7cf8dafc1e>:13: FutureWarning: X.dtype being converted to np.float32 from float64. In the next version of anndata (0.9) conversion will not be automatic. Pass dtype explicitly to avoid this warning. Pass `AnnData(X, dtype=X.dtype, ...)` to get the future behavour.\n"
     ]
    },
    {
     "name": "stdout",
     "output_type": "stream",
     "text": [
      "WARNING: You’re trying to run this on 14855 dimensions of `.X`, if you really want this, set `use_rep='X'`.\n",
      "         Falling back to preprocessing with `sc.pp.pca` and default params.\n"
     ]
    },
    {
     "name": "stderr",
     "output_type": "stream",
     "text": [
      "<ipython-input-67-5c7cf8dafc1e>:23: FutureWarning: X.dtype being converted to np.float32 from float64. In the next version of anndata (0.9) conversion will not be automatic. Pass dtype explicitly to avoid this warning. Pass `AnnData(X, dtype=X.dtype, ...)` to get the future behavour.\n"
     ]
    },
    {
     "name": "stdout",
     "output_type": "stream",
     "text": [
      "WARNING: Default of the method has been changed to 't-test' from 't-test_overestim_var'\n"
     ]
    }
   ],
   "source": [
    "matrix = pd.read_csv(\"../../data/GraphComm_Input/Pre_Post/Day0/matrix.csv\",index_col=0)\n",
    "\n",
    "matrix.index = [str(i).upper() for i in matrix.index.tolist()]\n",
    "\n",
    "from scipy.stats import wilcoxon\n",
    "import anndata\n",
    "import scanpy as sc\n",
    "\n",
    "index = matrix.index.tolist()\n",
    "\n",
    "matrix = matrix.fillna(0)\n",
    "\n",
    "adata = anndata.AnnData(matrix.transpose())\n",
    "\n",
    "sc.pp.normalize_total(adata)\n",
    "sc.pp.neighbors(adata)\n",
    "sc.tl.leiden(adata)\n",
    "\n",
    "meta = pd.DataFrame({\"cell\":adata.obs[\"leiden\"].index.tolist(),\"label\":adata.obs[\"leiden\"].tolist()})\n",
    "\n",
    "meta.index = meta[\"cell\"].tolist()\n",
    "\n",
    "adata = anndata.AnnData(matrix.transpose())\n",
    "adata.raw = adata\n",
    "adata.obs = meta\n",
    "adata.obs[\"label\"] = adata.obs[\"label\"].astype(\"category\")\n",
    "sc.tl.rank_genes_groups(adata, 'label')"
   ]
  },
  {
   "cell_type": "code",
   "execution_count": null,
   "id": "10701433",
   "metadata": {},
   "outputs": [
    {
     "name": "stdout",
     "output_type": "stream",
     "text": [
      "Generating ligand-receptor stats for 6778 samples and 14855 features\n",
      "Generating ligand-receptor stats for 6778 samples and 14855 features\n",
      "Generating ligand-receptor stats for 6778 samples and 14855 features\n"
     ]
    }
   ],
   "source": [
    "connectome(adata,groupby=\"label\",expr_prop=0)\n",
    "connectome_df = adata.uns[\"liana_res\"][[\"source\",\"target\",\"ligand\",\"receptor\",\"expr_prod\"]].sort_values(\"expr_prod\",ascending=False)\n",
    "cellphonedb(adata,groupby=\"label\")\n",
    "cellphone_df = adata.uns[\"liana_res\"][[\"source\",\"target\",\"ligand\",\"receptor\",\"lr_means\"]].sort_values(\"lr_means\",ascending=False)\n",
    "cellchat(adata,groupby=\"label\")\n",
    "cellchat_df = adata.uns[\"liana_res\"][[\"source\",\"target\",\"ligand\",\"receptor\",\"lr_probs\"]].sort_values(\"lr_probs\",ascending=False)"
   ]
  },
  {
   "cell_type": "code",
   "execution_count": null,
   "id": "ea7298a5",
   "metadata": {},
   "outputs": [],
   "source": [
    "day0_list = [connectome_df,cellphone_df,cellchat_df]"
   ]
  },
  {
   "cell_type": "markdown",
   "id": "6c8b2a51-ccc7-474b-b795-edf0654df5dc",
   "metadata": {},
   "source": [
    "## Day 7 - replicate 1"
   ]
  },
  {
   "cell_type": "code",
   "execution_count": null,
   "id": "d854aecf",
   "metadata": {},
   "outputs": [
    {
     "name": "stdout",
     "output_type": "stream",
     "text": [
      "WARNING: You’re trying to run this on 14573 dimensions of `.X`, if you really want this, set `use_rep='X'`.\n",
      "         Falling back to preprocessing with `sc.pp.pca` and default params.\n"
     ]
    },
    {
     "name": "stderr",
     "output_type": "stream",
     "text": [
      "<ipython-input-70-ddecc45062e1>:13: FutureWarning: X.dtype being converted to np.float32 from float64. In the next version of anndata (0.9) conversion will not be automatic. Pass dtype explicitly to avoid this warning. Pass `AnnData(X, dtype=X.dtype, ...)` to get the future behavour.\n",
      "<ipython-input-70-ddecc45062e1>:23: FutureWarning: X.dtype being converted to np.float32 from float64. In the next version of anndata (0.9) conversion will not be automatic. Pass dtype explicitly to avoid this warning. Pass `AnnData(X, dtype=X.dtype, ...)` to get the future behavour.\n"
     ]
    },
    {
     "name": "stdout",
     "output_type": "stream",
     "text": [
      "WARNING: Default of the method has been changed to 't-test' from 't-test_overestim_var'\n"
     ]
    }
   ],
   "source": [
    "matrix = pd.read_csv(\"../../data/GraphComm_Input/Pre_Post/Day7_1/matrix.csv\",index_col=0)\n",
    "\n",
    "matrix.index = [str(i).upper() for i in matrix.index.tolist()]\n",
    "\n",
    "from scipy.stats import wilcoxon\n",
    "import anndata\n",
    "import scanpy as sc\n",
    "\n",
    "index = matrix.index.tolist()\n",
    "\n",
    "matrix = matrix.fillna(0)\n",
    "\n",
    "adata = anndata.AnnData(matrix.transpose())\n",
    "\n",
    "sc.pp.normalize_total(adata)\n",
    "sc.pp.neighbors(adata)\n",
    "sc.tl.leiden(adata)\n",
    "\n",
    "meta = pd.DataFrame({\"cell\":adata.obs[\"leiden\"].index.tolist(),\"label\":adata.obs[\"leiden\"].tolist()})\n",
    "\n",
    "meta.index = meta[\"cell\"].tolist()\n",
    "\n",
    "adata = anndata.AnnData(matrix.transpose())\n",
    "adata.raw = adata\n",
    "adata.obs = meta\n",
    "adata.obs[\"label\"] = adata.obs[\"label\"].astype(\"category\")\n",
    "sc.tl.rank_genes_groups(adata, 'label')"
   ]
  },
  {
   "cell_type": "code",
   "execution_count": null,
   "id": "25bdc74d",
   "metadata": {},
   "outputs": [
    {
     "name": "stdout",
     "output_type": "stream",
     "text": [
      "Generating ligand-receptor stats for 4770 samples and 14573 features\n",
      "Generating ligand-receptor stats for 4770 samples and 14573 features\n",
      "Generating ligand-receptor stats for 4770 samples and 14573 features\n"
     ]
    }
   ],
   "source": [
    "connectome(adata,groupby=\"label\",expr_prop=0)\n",
    "connectome_df = adata.uns[\"liana_res\"][[\"source\",\"target\",\"ligand\",\"receptor\",\"expr_prod\"]].sort_values(\"expr_prod\",ascending=False)\n",
    "cellphonedb(adata,groupby=\"label\")\n",
    "cellphone_df = adata.uns[\"liana_res\"][[\"source\",\"target\",\"ligand\",\"receptor\",\"lr_means\"]].sort_values(\"lr_means\",ascending=False)\n",
    "cellchat(adata,groupby=\"label\")\n",
    "cellchat_df = adata.uns[\"liana_res\"][[\"source\",\"target\",\"ligand\",\"receptor\",\"lr_probs\"]].sort_values(\"lr_probs\",ascending=False)"
   ]
  },
  {
   "cell_type": "code",
   "execution_count": null,
   "id": "36eee720",
   "metadata": {},
   "outputs": [],
   "source": [
    "day7_rep1_list = [connectome_df,cellphone_df,cellchat_df]"
   ]
  },
  {
   "cell_type": "markdown",
   "id": "5cb3afa2-5dcd-4383-9119-a1e231dda23a",
   "metadata": {},
   "source": [
    "## Day 7 - replicate 2"
   ]
  },
  {
   "cell_type": "code",
   "execution_count": null,
   "id": "d6b6467e",
   "metadata": {},
   "outputs": [
    {
     "name": "stdout",
     "output_type": "stream",
     "text": [
      "WARNING: You’re trying to run this on 14362 dimensions of `.X`, if you really want this, set `use_rep='X'`.\n",
      "         Falling back to preprocessing with `sc.pp.pca` and default params.\n"
     ]
    },
    {
     "name": "stderr",
     "output_type": "stream",
     "text": [
      "<ipython-input-73-75e4e07a80c6>:14: FutureWarning: X.dtype being converted to np.float32 from float64. In the next version of anndata (0.9) conversion will not be automatic. Pass dtype explicitly to avoid this warning. Pass `AnnData(X, dtype=X.dtype, ...)` to get the future behavour.\n"
     ]
    },
    {
     "name": "stdout",
     "output_type": "stream",
     "text": [
      "WARNING: Default of the method has been changed to 't-test' from 't-test_overestim_var'\n"
     ]
    },
    {
     "name": "stderr",
     "output_type": "stream",
     "text": [
      "<ipython-input-73-75e4e07a80c6>:26: FutureWarning: X.dtype being converted to np.float32 from float64. In the next version of anndata (0.9) conversion will not be automatic. Pass dtype explicitly to avoid this warning. Pass `AnnData(X, dtype=X.dtype, ...)` to get the future behavour.\n"
     ]
    }
   ],
   "source": [
    "#matrix = pd.read_csv(\"../data/GSE95025/GSM2494785_dge_mel_rep3.txt\",sep=\"\\t\")\n",
    "matrix = pd.read_csv(\"../../data/GraphComm_Input/Pre_Post/Day7_2/matrix.csv\",index_col=0)\n",
    "\n",
    "matrix.index = [str(i).upper() for i in matrix.index.tolist()]\n",
    "\n",
    "from scipy.stats import wilcoxon\n",
    "import anndata\n",
    "import scanpy as sc\n",
    "\n",
    "index = matrix.index.tolist()\n",
    "\n",
    "matrix = matrix.fillna(0)\n",
    "\n",
    "adata = anndata.AnnData(matrix.transpose())\n",
    "\n",
    "#meta = pd.read_csv(\"../data/Pre_Post/GSE150949_metaData_with_lineage.txt\",sep=\"\\t\")\n",
    "\n",
    "sc.pp.normalize_total(adata)\n",
    "sc.pp.neighbors(adata)\n",
    "sc.tl.leiden(adata)\n",
    "\n",
    "meta = pd.DataFrame({\"cell\":adata.obs[\"leiden\"].index.tolist(),\"label\":adata.obs[\"leiden\"].tolist()})\n",
    "\n",
    "meta.index = meta[\"cell\"].tolist()\n",
    "\n",
    "adata = anndata.AnnData(matrix.transpose())\n",
    "adata.raw = adata\n",
    "adata.obs = meta\n",
    "adata.obs[\"label\"] = adata.obs[\"label\"].astype(\"category\")\n",
    "sc.tl.rank_genes_groups(adata, 'label')\n",
    "pval_df = pd.DataFrame.from_records(adata.uns[\"rank_genes_groups\"][\"pvals\"])\n",
    "pval_df.index = matrix.index.tolist()\n",
    "cell_type_df = {}\n",
    "for i in pval_df.columns.tolist():\n",
    "    sub = pval_df[i]\n",
    "    sub = sub[sub < 0.05]\n",
    "    cell_type_df[i] = sub.index.tolist()"
   ]
  },
  {
   "cell_type": "code",
   "execution_count": null,
   "id": "b84e0389",
   "metadata": {},
   "outputs": [
    {
     "name": "stdout",
     "output_type": "stream",
     "text": [
      "Generating ligand-receptor stats for 3515 samples and 14362 features\n",
      "Generating ligand-receptor stats for 3515 samples and 14362 features\n",
      "Generating ligand-receptor stats for 3515 samples and 14362 features\n"
     ]
    }
   ],
   "source": [
    "connectome(adata,groupby=\"label\",expr_prop=0)\n",
    "connectome_df = adata.uns[\"liana_res\"][[\"source\",\"target\",\"ligand\",\"receptor\",\"expr_prod\"]].sort_values(\"expr_prod\",ascending=False)\n",
    "cellphonedb(adata,groupby=\"label\")\n",
    "cellphone_df = adata.uns[\"liana_res\"][[\"source\",\"target\",\"ligand\",\"receptor\",\"lr_means\"]].sort_values(\"lr_means\",ascending=False)\n",
    "cellchat(adata,groupby=\"label\")\n",
    "cellchat_df = adata.uns[\"liana_res\"][[\"source\",\"target\",\"ligand\",\"receptor\",\"lr_probs\"]].sort_values(\"lr_probs\",ascending=False)"
   ]
  },
  {
   "cell_type": "code",
   "execution_count": 36,
   "id": "ef69d1d5-8cfc-478b-ac51-e969a6ed2162",
   "metadata": {},
   "outputs": [],
   "source": [
    "day7_rep2_list = [connectome_df,cellphone_df,cellchat_df]"
   ]
  },
  {
   "cell_type": "markdown",
   "id": "71ec8352-dbbd-4dc8-ac9f-f6bce06a511f",
   "metadata": {},
   "source": [
    "### pathway analysis"
   ]
  },
  {
   "cell_type": "markdown",
   "id": "254d662e-fccc-4e53-a512-3c2e2c95f8d1",
   "metadata": {},
   "source": [
    "### get unique ligand receptor interactions"
   ]
  },
  {
   "cell_type": "code",
   "execution_count": 78,
   "id": "731b954d",
   "metadata": {},
   "outputs": [],
   "source": [
    "day0_list = [i[[\"ligand\",\"receptor\"]].drop_duplicates() for i in day0_list]\n",
    "day7_rep1_list = [i[[\"ligand\",\"receptor\"]].drop_duplicates() for i in day7_rep1_list]\n",
    "day7_rep2_list = [i[[\"ligand\",\"receptor\"]].drop_duplicates() for i in day7_rep2_list]"
   ]
  },
  {
   "cell_type": "markdown",
   "id": "af25b9f9-484d-4634-9f5f-36f548334818",
   "metadata": {},
   "source": [
    "### for each method's result of each dataset, retrieve the top 50 interactions"
   ]
  },
  {
   "cell_type": "code",
   "execution_count": 80,
   "id": "bfa45152",
   "metadata": {},
   "outputs": [],
   "source": [
    "day0_list = [i.head(100) for i in day0_list]\n",
    "day7_rep1_list = [i.head(100) for i in day7_rep1_list]\n",
    "day7_rep2_list = [i.head(100) for i in day7_rep2_list]\n"
   ]
  },
  {
   "cell_type": "markdown",
   "id": "39f05e85-008d-4f20-90bc-eb1dd837b938",
   "metadata": {},
   "source": [
    "### for each method's result of each dataset, only retain intercell validated interactions"
   ]
  },
  {
   "cell_type": "code",
   "execution_count": 81,
   "id": "41d3a782",
   "metadata": {},
   "outputs": [],
   "source": [
    "Omnipath_db = pd.read_csv(\"../../data/LR_database/consensus_Omnipath.csv\",index_col=0)[[\"source\",\"target\"]].drop_duplicates()\n",
    "Omnipath_db.columns = [\"from\",\"to\"]\n",
    "Omnipath_db = Omnipath_db.drop_duplicates()"
   ]
  },
  {
   "cell_type": "code",
   "execution_count": 84,
   "id": "acefa218",
   "metadata": {},
   "outputs": [],
   "source": [
    "day0_list = [pd.merge(i,Omnipath_db,left_on=[\"ligand\",\"receptor\"],right_on=[\"from\",\"to\"]) for i in day0_list]\n",
    "day7_rep1_list = [pd.merge(i,Omnipath_db,left_on=[\"ligand\",\"receptor\"],right_on=[\"from\",\"to\"]) for i in day7_rep1_list]\n",
    "day7_rep2_list = [pd.merge(i,Omnipath_db,left_on=[\"ligand\",\"receptor\"],right_on=[\"from\",\"to\"]) for i in day7_rep2_list]\n",
    "\n",
    "day0_list = [i[[\"ligand\",\"receptor\"]] for i in day0_list]\n",
    "day7_rep1_list = [i[[\"ligand\",\"receptor\"]] for i in day7_rep1_list]\n",
    "day7_rep2_list = [i[[\"ligand\",\"receptor\"]] for i in day7_rep2_list]"
   ]
  },
  {
   "cell_type": "markdown",
   "id": "37f15d14-18e9-4691-863d-ca756c889a74",
   "metadata": {},
   "source": [
    "### for each method, capture maximum # of unique interactions between top 100 CCC interactions between pre and post treatment datasets"
   ]
  },
  {
   "cell_type": "code",
   "execution_count": 86,
   "id": "30a3280c",
   "metadata": {},
   "outputs": [],
   "source": [
    "pre_post_list = []\n",
    "for i,j,k in zip(day0_list,day7_rep1_list,day7_rep2_list):\n",
    "    day0_day7_rep1_common = pd.merge(i,j).shape[0]/100\n",
    "    day0_day7_rep2_common = pd.merge(i,k).shape[0]/100\n",
    "    pre_post_list.append(min(1-day0_day7_rep1_common,1-day0_day7_rep2_common))"
   ]
  },
  {
   "cell_type": "markdown",
   "id": "5aa3a844-b69a-4e52-b765-44e9a4da5cf9",
   "metadata": {},
   "source": [
    "### import GraphComm's results, perform same preprocessing"
   ]
  },
  {
   "cell_type": "code",
   "execution_count": 87,
   "id": "8167b918",
   "metadata": {},
   "outputs": [],
   "source": [
    "total_day7_1 = pd.read_csv(\"../../results/GraphComm_Output/Pre_Post/Day0/CCI.csv\")[[\"Src\",\"Dst\"]]\n",
    "total_day7_2 = pd.read_csv(\"../../results/GraphComm_Output/Pre_Post/Day7_1/CCI.csv\")[[\"Src\",\"Dst\"]]\n",
    "total_day0 = pd.read_csv(\"../../results/GraphComm_Output/Pre_Post/Day7_2/CCI.csv\")[[\"Src\",\"Dst\"]]\n",
    "\n",
    "total_day0 = pd.merge(total_day0,Omnipath_db,left_on=[\"Src\",\"Dst\"],right_on=[\"from\",\"to\"]).head(100)[[\"Src\",\"Dst\"]]\n",
    "total_day7_1 = pd.merge(total_day7_1,Omnipath_db,left_on=[\"Src\",\"Dst\"],right_on=[\"from\",\"to\"]).head(100)[[\"Src\",\"Dst\"]]\n",
    "total_day7_2 = pd.merge(total_day7_2,Omnipath_db,left_on=[\"Src\",\"Dst\"],right_on=[\"from\",\"to\"]).head(100)[[\"Src\",\"Dst\"]]"
   ]
  },
  {
   "cell_type": "code",
   "execution_count": 88,
   "id": "c4e71764",
   "metadata": {},
   "outputs": [],
   "source": [
    "total_day0_day7_1 = pd.merge(total_day0,total_day7_1).shape[0]/100\n",
    "total_day0_day7_2 = pd.merge(total_day0,total_day7_2).shape[0]/100\n",
    "\n",
    "total_pre_post = min(1-total_day0_day7_1,1-total_day0_day7_2)"
   ]
  },
  {
   "cell_type": "code",
   "execution_count": null,
   "id": "21b44a65-55d0-4585-bf87-4cc526964dd7",
   "metadata": {},
   "outputs": [],
   "source": []
  },
  {
   "cell_type": "code",
   "execution_count": 89,
   "id": "bd661672",
   "metadata": {},
   "outputs": [
    {
     "data": {
      "text/plain": [
       "0.45"
      ]
     },
     "execution_count": 89,
     "metadata": {},
     "output_type": "execute_result"
    }
   ],
   "source": [
    "total_day0_day7_2"
   ]
  },
  {
   "cell_type": "code",
   "execution_count": 90,
   "id": "31dd0c7c",
   "metadata": {},
   "outputs": [
    {
     "data": {
      "text/plain": [
       "Text(0, 0.5, 'Fraction of Unique Interactions')"
      ]
     },
     "execution_count": 90,
     "metadata": {},
     "output_type": "execute_result"
    },
    {
     "data": {
      "image/png": "[encoded data removed]",
      "text/plain": [
       "<Figure size 800x480 with 1 Axes>"
      ]
     },
     "metadata": {},
     "output_type": "display_data"
    }
   ],
   "source": [
    "%matplotlib inline\n",
    "from matplotlib.pyplot import figure\n",
    "figure(figsize=(10,6), dpi=80)\n",
    "plt.bar([\"GraphComm\",\"Connectome\",\"CellphoneDB\",\"CellChat\"],[total_pre_post] + pre_post_list)\n",
    "plt.xticks(fontsize=16)\n",
    "plt.title(\"Fraction of Unique Interactions between Pre and Post Treatment Datasets\",fontdict={'fontsize':17})\n",
    "plt.ylabel(\"Fraction of Unique Interactions\",fontdict={'fontsize':17})"
   ]
  },
  {
   "cell_type": "markdown",
   "id": "f1414a40",
   "metadata": {},
   "source": [
    "## Dataset 5 - Spatial cardiovascular data (Fig 2E)"
   ]
  },
  {
   "cell_type": "code",
   "execution_count": 91,
   "id": "3ccf5be7",
   "metadata": {},
   "outputs": [
    {
     "name": "stdout",
     "output_type": "stream",
     "text": [
      "WARNING: Default of the method has been changed to 't-test' from 't-test_overestim_var'\n"
     ]
    }
   ],
   "source": [
    "adata = sc.read_h5ad(\"../../data/raw_data/Cardiac_cells//Visium-FZ_GT_P19.h5ad\")\n",
    "sc.pp.normalize_total(adata)\n",
    "sc.pp.log1p(adata)\n",
    "sc.tl.pca(adata)\n",
    "sc.pp.neighbors(adata)\n",
    "sc.tl.leiden(adata)\n",
    "matrix = pd.DataFrame.sparse.from_spmatrix(adata.X,index=adata.obs.index.tolist(),columns=adata.var[\"feature_name\"].tolist())\n",
    "\n",
    "meta = pd.DataFrame({\"cell\":adata.obs.index.tolist(),\"label\":adata.obs[\"cell_type_original\"].tolist()})\n",
    "meta = meta[meta[\"label\"] != \"Lymphoid\"]\n",
    "meta.index = meta[\"cell\"].tolist()\n",
    "\n",
    "matrix = matrix.transpose()\n",
    "\n",
    "matrix = matrix[meta.index.tolist()]\n",
    "\n",
    "from scipy.stats import wilcoxon\n",
    "import anndata\n",
    "import scanpy as sc\n",
    "\n",
    "index = matrix.index.tolist()\n",
    "\n",
    "meta['label'] = meta[\"label\"].astype(\"string\").tolist()\n",
    "\n",
    "meta[\"cell\"] = meta[\"cell\"].astype(\"category\")\n",
    "meta[\"label\"] = meta[\"label\"].astype(\"category\")\n",
    "\n",
    "matrix = matrix.loc[:,~matrix.columns.duplicated()].copy()\n",
    "meta = meta.loc[~meta.index.duplicated(),:].copy()\n",
    "\n",
    "adata = anndata.AnnData(matrix.transpose())\n",
    "adata.raw = adata\n",
    "adata.obs = meta\n",
    "adata.obs[\"label\"] = adata.obs[\"label\"].astype(\"category\")\n",
    "sc.tl.rank_genes_groups(adata, 'label')"
   ]
  },
  {
   "cell_type": "code",
   "execution_count": 92,
   "id": "f17ad53f",
   "metadata": {},
   "outputs": [
    {
     "name": "stdout",
     "output_type": "stream",
     "text": [
      "Generating ligand-receptor stats for 3095 samples and 14078 features\n",
      "Generating ligand-receptor stats for 3095 samples and 14078 features\n",
      "Generating ligand-receptor stats for 3095 samples and 14078 features\n"
     ]
    }
   ],
   "source": [
    "connectome(adata,groupby=\"label\",expr_prop=0)\n",
    "spatial_connectome_df = adata.uns[\"liana_res\"][[\"source\",\"target\",\"ligand\",\"receptor\",\"expr_prod\"]].sort_values(\"expr_prod\",ascending=False)\n",
    "cellphonedb(adata,groupby=\"label\")\n",
    "spatial_cellphone_df = adata.uns[\"liana_res\"][[\"source\",\"target\",\"ligand\",\"receptor\",\"lr_means\"]].sort_values(\"lr_means\",ascending=False)\n",
    "cellchat(adata,groupby=\"label\")\n",
    "spatial_cellchat_df = adata.uns[\"liana_res\"][[\"source\",\"target\",\"ligand\",\"receptor\",\"lr_probs\"]].sort_values(\"lr_probs\",ascending=False)"
   ]
  },
  {
   "cell_type": "markdown",
   "id": "d1c0e402-b21b-4133-8cf5-fb1759269cf6",
   "metadata": {},
   "source": [
    "\n",
    "### remove self-loops for cell groups"
   ]
  },
  {
   "cell_type": "code",
   "execution_count": 93,
   "id": "54edc84c",
   "metadata": {},
   "outputs": [],
   "source": [
    "spatial_cellphone_df = spatial_cellphone_df[spatial_cellphone_df[\"source\"] != spatial_cellphone_df[\"target\"]]\n",
    "spatial_cellchat_df = spatial_cellchat_df[spatial_cellchat_df[\"source\"] != spatial_cellchat_df[\"target\"]]\n",
    "spatial_connectome_df = spatial_connectome_df[spatial_connectome_df[\"source\"] != spatial_connectome_df[\"target\"]]\n"
   ]
  },
  {
   "cell_type": "markdown",
   "id": "c4fd7d4a-65db-4f15-bd07-15864090add2",
   "metadata": {},
   "source": [
    "### for each method's results, capture the top 10 unique cell group interactions"
   ]
  },
  {
   "cell_type": "code",
   "execution_count": 94,
   "id": "d7852f53",
   "metadata": {},
   "outputs": [],
   "source": [
    "temp_cellphone_df = spatial_cellphone_df.drop_duplicates([\"source\",\"target\"]).head(10)\n",
    "temp_cellchat_df = spatial_cellchat_df.drop_duplicates([\"source\",\"target\"]).head(10)\n",
    "temp_connectome_df = spatial_connectome_df.drop_duplicates([\"source\",\"target\"]).head(10)"
   ]
  },
  {
   "cell_type": "markdown",
   "id": "c02f3abd-b543-494c-a7fd-5424da5dc6d8",
   "metadata": {},
   "source": [
    "### import GraphComm results, remove self loops and capture the top 10 unique cell group interactions"
   ]
  },
  {
   "cell_type": "code",
   "execution_count": 95,
   "id": "57e7d649",
   "metadata": {},
   "outputs": [],
   "source": [
    "total_spatial = pd.read_csv(\"../../results/GraphComm_Output/Cardiac_cells/FZ_GT_P19/CCI.csv\",index_col=0)\n",
    "total_spatial = total_spatial[total_spatial[\"Src Cell\"] != total_spatial[\"Dst Cell\"]]\n",
    "total_spatial = total_spatial.drop_duplicates([\"Src Cell\",\"Dst Cell\"]).head(10)"
   ]
  },
  {
   "cell_type": "markdown",
   "id": "697bc166-9de2-4cc2-a667-ba4e28870e4f",
   "metadata": {},
   "source": [
    "### retrieve cell group spatial coordinates"
   ]
  },
  {
   "cell_type": "code",
   "execution_count": 96,
   "id": "5556af1e-afac-45ba-bee8-e28b0202f20a",
   "metadata": {},
   "outputs": [],
   "source": [
    "adata = sc.read_h5ad(\"../../data/raw_data/Cardiac_cells/Visium-FZ_GT_P19.h5ad\")\n"
   ]
  },
  {
   "cell_type": "code",
   "execution_count": 97,
   "id": "a4004a17",
   "metadata": {},
   "outputs": [],
   "source": [
    "meta = pd.DataFrame({\"cell\":adata.obs.index.tolist(),\"label\":adata.obs[\"cell_type_original\"].tolist()})\n",
    "meta = meta[meta[\"label\"] != \"Lymphoid\"]\n",
    "meta.index = meta[\"cell\"].tolist()\n",
    "\n",
    "adata = adata[meta.index.tolist()]\n",
    "spatial_coordinates = adata.obsm[\"X_spatial\"]\n",
    "spatial_df = pd.DataFrame({\"x\":spatial_coordinates[:,0],\"y\":spatial_coordinates[:,1]},index=meta.index.tolist())\n",
    "cell_groups = meta[\"label\"].unique().tolist()"
   ]
  },
  {
   "cell_type": "markdown",
   "id": "980bbb1e-013e-452e-9bfe-0b7e67acac26",
   "metadata": {},
   "source": [
    "### extract from each method, the average eucleadian distance for the top 10 cell group interactions"
   ]
  },
  {
   "cell_type": "code",
   "execution_count": 98,
   "id": "ccf650ab",
   "metadata": {},
   "outputs": [],
   "source": [
    "cellphone_spatial = []\n",
    "for one,two in zip(temp_cellphone_df[\"source\"].tolist(),temp_cellphone_df[\"target\"].tolist()):\n",
    "    cells = meta[meta[\"label\"]==one].index.tolist()\n",
    "    spatial_coords = [(i,j) for i,j in zip(spatial_df.loc[cells][\"x\"].tolist(),spatial_df.loc[cells][\"y\"].tolist())]\n",
    "    second_cells = meta[meta[\"label\"]==two].index.tolist()\n",
    "    second_spatial_coords = [(i,j) for i,j in zip(spatial_df.loc[second_cells][\"x\"].tolist(),spatial_df.loc[second_cells][\"y\"].tolist())]\n",
    "    min_list = []\n",
    "    for k in spatial_coords:\n",
    "        min_list.append(np.mean([math.dist(k,l) for l in second_spatial_coords]))\n",
    "    cellphone_spatial.append(np.mean(min_list))\n"
   ]
  },
  {
   "cell_type": "code",
   "execution_count": 99,
   "id": "a9a7b272",
   "metadata": {},
   "outputs": [],
   "source": [
    "cellchat_spatial = []\n",
    "for one,two in zip(temp_cellchat_df[\"source\"].tolist(),temp_cellchat_df[\"target\"].tolist()):\n",
    "    cells = meta[meta[\"label\"]==one].index.tolist()\n",
    "    spatial_coords = [(i,j) for i,j in zip(spatial_df.loc[cells][\"x\"].tolist(),spatial_df.loc[cells][\"y\"].tolist())]\n",
    "    second_cells = meta[meta[\"label\"]==two].index.tolist()\n",
    "    second_spatial_coords = [(i,j) for i,j in zip(spatial_df.loc[second_cells][\"x\"].tolist(),spatial_df.loc[second_cells][\"y\"].tolist())]\n",
    "    min_list = []\n",
    "    for k in spatial_coords:\n",
    "        min_list.append(np.mean([math.dist(k,l) for l in second_spatial_coords]))\n",
    "    cellchat_spatial.append(np.mean(min_list))\n"
   ]
  },
  {
   "cell_type": "code",
   "execution_count": 100,
   "id": "1bc8e7f2",
   "metadata": {},
   "outputs": [],
   "source": [
    "connectome_spatial = []\n",
    "for one,two in zip(temp_connectome_df[\"source\"].tolist(),temp_connectome_df[\"target\"].tolist()):\n",
    "    cells = meta[meta[\"label\"]==one].index.tolist()\n",
    "    spatial_coords = [(i,j) for i,j in zip(spatial_df.loc[cells][\"x\"].tolist(),spatial_df.loc[cells][\"y\"].tolist())]\n",
    "    second_cells = meta[meta[\"label\"]==two].index.tolist()\n",
    "    second_spatial_coords = [(i,j) for i,j in zip(spatial_df.loc[second_cells][\"x\"].tolist(),spatial_df.loc[second_cells][\"y\"].tolist())]\n",
    "    min_list = []\n",
    "    for k in spatial_coords:\n",
    "        min_list.append(np.mean([math.dist(k,l) for l in second_spatial_coords]))\n",
    "    connectome_spatial.append(np.mean(min_list))\n"
   ]
  },
  {
   "cell_type": "code",
   "execution_count": 101,
   "id": "ea722e16",
   "metadata": {},
   "outputs": [],
   "source": [
    "graphcomm_total_spatial = []\n",
    "for one,two in zip(total_spatial[\"Src Cell\"].tolist(),total_spatial[\"Dst Cell\"].tolist()):\n",
    "    cells = meta[meta[\"label\"]==one].index.tolist()\n",
    "    spatial_coords = [(i,j) for i,j in zip(spatial_df.loc[cells][\"x\"].tolist(),spatial_df.loc[cells][\"y\"].tolist())]\n",
    "    second_cells = meta[meta[\"label\"]==two].index.tolist()\n",
    "    second_spatial_coords = [(i,j) for i,j in zip(spatial_df.loc[second_cells][\"x\"].tolist(),spatial_df.loc[second_cells][\"y\"].tolist())]\n",
    "    min_list = []\n",
    "    for k in spatial_coords:\n",
    "        min_list.append(np.mean([math.dist(k,l) for l in second_spatial_coords]))\n",
    "    graphcomm_total_spatial.append(np.mean(min_list))\n"
   ]
  },
  {
   "cell_type": "markdown",
   "id": "b5ed4c19-db4f-4f47-ad70-d9e354185a38",
   "metadata": {},
   "source": [
    "### extract randomized iterations"
   ]
  },
  {
   "cell_type": "code",
   "execution_count": 102,
   "id": "c44f011d",
   "metadata": {},
   "outputs": [],
   "source": [
    "df_list = []\n",
    "for i in range(100):\n",
    "    df_list.append(pd.read_csv(f\"../../data/random_data/Cardiac_Cells/spatial_{i+1}_random.csv\",index_col=0).drop_duplicates([\"Src Cell\",\"Dst Cell\"]))"
   ]
  },
  {
   "cell_type": "code",
   "execution_count": 103,
   "id": "2a9d8015",
   "metadata": {},
   "outputs": [
    {
     "name": "stderr",
     "output_type": "stream",
     "text": [
      "/opt/conda/lib/python3.9/site-packages/numpy/core/fromnumeric.py:3474: RuntimeWarning: Mean of empty slice.\n",
      "/opt/conda/lib/python3.9/site-packages/numpy/core/_methods.py:189: RuntimeWarning: invalid value encountered in double_scalars\n"
     ]
    }
   ],
   "source": [
    "random_spatial = []\n",
    "for i in df_list:\n",
    "    temp_input = i\n",
    "    input_spatial = []\n",
    "    for one,two in zip(temp_input[\"Src Cell\"].tolist(),temp_input[\"Dst Cell\"].tolist()):\n",
    "        cells = meta[meta[\"label\"]==one].index.tolist()\n",
    "        spatial_coords = [(i,j) for i,j in zip(spatial_df.loc[cells][\"x\"].tolist(),spatial_df.loc[cells][\"y\"].tolist())]\n",
    "        if two != one:\n",
    "            second_cells = meta[meta[\"label\"]==two].index.tolist()\n",
    "            second_spatial_coords = [(i,j) for i,j in zip(spatial_df.loc[second_cells][\"x\"].tolist(),spatial_df.loc[second_cells][\"y\"].tolist())]\n",
    "            min_list = []\n",
    "            for k in spatial_coords:\n",
    "                min_list.append(np.mean([math.dist(k,l) for l in second_spatial_coords]))\n",
    "            input_spatial.append(np.mean(min_list))\n",
    "    random_spatial.append(input_spatial)\n"
   ]
  },
  {
   "cell_type": "code",
   "execution_count": 104,
   "id": "b660c203-d546-484f-b0ab-d61c3e3b0b0a",
   "metadata": {},
   "outputs": [],
   "source": [
    "new_random_spatial = []\n",
    "for i in random_spatial:\n",
    "    new_random_spatial.append([min([k for k in i if not np.isnan(k)]) if np.isnan(j) else j for j in i])"
   ]
  },
  {
   "cell_type": "code",
   "execution_count": 105,
   "id": "05177229",
   "metadata": {},
   "outputs": [],
   "source": [
    "random_average = []\n",
    "for i in range(10):\n",
    "    random_average.append(np.mean([j[i] for j in new_random_spatial]))"
   ]
  },
  {
   "cell_type": "code",
   "execution_count": 106,
   "id": "e2e26dca",
   "metadata": {},
   "outputs": [],
   "source": [
    "x = [connectome_spatial,cellchat_spatial,cellphone_spatial,graphcomm_total_spatial]\n",
    "comparison_labels = ['Connectome',\"CellChat\",\"CellPhone\",\"GraphComm\"]\n",
    "df = pd.DataFrame(x, index=comparison_labels)\n"
   ]
  },
  {
   "cell_type": "markdown",
   "id": "9eab76c5-9c82-4d77-97e2-226071c30496",
   "metadata": {},
   "source": [
    "### visualize via ridgeline plot"
   ]
  },
  {
   "cell_type": "code",
   "execution_count": 107,
   "id": "7e93fd10-4086-45d4-9535-e65d5ffb3b38",
   "metadata": {},
   "outputs": [
    {
     "data": {
      "text/html": [
       "<div>\n",
       "<style scoped>\n",
       "    .dataframe tbody tr th:only-of-type {\n",
       "        vertical-align: middle;\n",
       "    }\n",
       "\n",
       "    .dataframe tbody tr th {\n",
       "        vertical-align: top;\n",
       "    }\n",
       "\n",
       "    .dataframe thead th {\n",
       "        text-align: right;\n",
       "    }\n",
       "</style>\n",
       "<table border=\"1\" class=\"dataframe\">\n",
       "  <thead>\n",
       "    <tr style=\"text-align: right;\">\n",
       "      <th></th>\n",
       "      <th>0</th>\n",
       "      <th>1</th>\n",
       "      <th>2</th>\n",
       "      <th>3</th>\n",
       "      <th>4</th>\n",
       "      <th>5</th>\n",
       "      <th>6</th>\n",
       "      <th>7</th>\n",
       "      <th>8</th>\n",
       "      <th>9</th>\n",
       "    </tr>\n",
       "  </thead>\n",
       "  <tbody>\n",
       "    <tr>\n",
       "      <th>Connectome</th>\n",
       "      <td>0.508076</td>\n",
       "      <td>0.579552</td>\n",
       "      <td>0.437746</td>\n",
       "      <td>0.513490</td>\n",
       "      <td>0.433397</td>\n",
       "      <td>0.437746</td>\n",
       "      <td>0.484351</td>\n",
       "      <td>0.511083</td>\n",
       "      <td>0.496317</td>\n",
       "      <td>0.439119</td>\n",
       "    </tr>\n",
       "    <tr>\n",
       "      <th>CellChat</th>\n",
       "      <td>0.579552</td>\n",
       "      <td>0.508076</td>\n",
       "      <td>0.437746</td>\n",
       "      <td>0.513490</td>\n",
       "      <td>0.433397</td>\n",
       "      <td>0.511083</td>\n",
       "      <td>0.484351</td>\n",
       "      <td>0.475336</td>\n",
       "      <td>0.496317</td>\n",
       "      <td>0.385759</td>\n",
       "    </tr>\n",
       "    <tr>\n",
       "      <th>CellPhone</th>\n",
       "      <td>0.508076</td>\n",
       "      <td>0.579552</td>\n",
       "      <td>0.437746</td>\n",
       "      <td>0.385759</td>\n",
       "      <td>0.484351</td>\n",
       "      <td>0.511083</td>\n",
       "      <td>0.433397</td>\n",
       "      <td>0.437746</td>\n",
       "      <td>0.417550</td>\n",
       "      <td>0.475336</td>\n",
       "    </tr>\n",
       "    <tr>\n",
       "      <th>GraphComm</th>\n",
       "      <td>0.538530</td>\n",
       "      <td>0.538530</td>\n",
       "      <td>0.397472</td>\n",
       "      <td>0.662036</td>\n",
       "      <td>0.459234</td>\n",
       "      <td>0.436435</td>\n",
       "      <td>0.372023</td>\n",
       "      <td>0.489707</td>\n",
       "      <td>0.372023</td>\n",
       "      <td>0.447851</td>\n",
       "    </tr>\n",
       "  </tbody>\n",
       "</table>\n",
       "</div>"
      ],
      "text/plain": [
       "                   0         1         2         3         4         5  \\\n",
       "Connectome  0.508076  0.579552  0.437746  0.513490  0.433397  0.437746   \n",
       "CellChat    0.579552  0.508076  0.437746  0.513490  0.433397  0.511083   \n",
       "CellPhone   0.508076  0.579552  0.437746  0.385759  0.484351  0.511083   \n",
       "GraphComm   0.538530  0.538530  0.397472  0.662036  0.459234  0.436435   \n",
       "\n",
       "                   6         7         8         9  \n",
       "Connectome  0.484351  0.511083  0.496317  0.439119  \n",
       "CellChat    0.484351  0.475336  0.496317  0.385759  \n",
       "CellPhone   0.433397  0.437746  0.417550  0.475336  \n",
       "GraphComm   0.372023  0.489707  0.372023  0.447851  "
      ]
     },
     "execution_count": 107,
     "metadata": {},
     "output_type": "execute_result"
    }
   ],
   "source": [
    "df"
   ]
  },
  {
   "cell_type": "code",
   "execution_count": null,
   "id": "717ca3f7-adb4-4e26-a0e9-b2ee825eae7c",
   "metadata": {},
   "outputs": [
    {
     "data": {
      "text/plain": [
       "Connectome    0.490334\n",
       "CellChat      0.490334\n",
       "CellPhone     0.456541\n",
       "GraphComm     0.453542\n",
       "dtype: float64"
      ]
     },
     "execution_count": 108,
     "metadata": {},
     "output_type": "execute_result"
    }
   ],
   "source": [
    "df.median(axis=1)"
   ]
  },
  {
   "cell_type": "code",
   "execution_count": null,
   "id": "d1c9eeba-0bdd-4921-a588-ffaa46853102",
   "metadata": {},
   "outputs": [],
   "source": [
    "colors = ['#0000ff', '#3300cc', '#660099', '#990066', '#cc0033', '#ff0000']"
   ]
  },
  {
   "cell_type": "code",
   "execution_count": null,
   "id": "31273b60-3ceb-42cc-b197-392864fcc833",
   "metadata": {},
   "outputs": [],
   "source": [
    "graphcomm_total_df = pd.DataFrame([graphcomm_total_spatial], index=[\"GraphComm\"]).transpose()\n",
    "connectome_df= pd.DataFrame([connectome_spatial], index=[\"Connectome\"]).transpose()\n",
    "cellchat_df= pd.DataFrame([cellchat_spatial], index=[\"CellChat\"]).transpose()\n",
    "cellphone_df= pd.DataFrame([cellphone_spatial], index=[\"CellPhone\"]).transpose()"
   ]
  },
  {
   "cell_type": "code",
   "execution_count": null,
   "id": "863470d8-d26b-4bf7-9a17-2206420db9c5",
   "metadata": {},
   "outputs": [],
   "source": [
    "df_list = [connectome_df,cellchat_df,cellphone_df,graphcomm_total_df]"
   ]
  },
  {
   "cell_type": "code",
   "execution_count": null,
   "id": "3558e4ad-23be-4cd5-a18d-cafc1ed5d837",
   "metadata": {},
   "outputs": [],
   "source": [
    "random_df = pd.DataFrame([random_average]).T\n",
    "random_df.columns = [\"Random\"]"
   ]
  },
  {
   "cell_type": "code",
   "execution_count": null,
   "id": "6d4584c4",
   "metadata": {},
   "outputs": [
    {
     "data": {
      "text/plain": [
       "Random    0.473624\n",
       "dtype: float64"
      ]
     },
     "execution_count": 113,
     "metadata": {},
     "output_type": "execute_result"
    }
   ],
   "source": [
    "random_df.median()"
   ]
  },
  {
   "cell_type": "markdown",
   "id": "81977825-c94b-438e-9818-17b256c542e0",
   "metadata": {},
   "source": [
    "## scale randomization data"
   ]
  },
  {
   "cell_type": "code",
   "execution_count": 115,
   "id": "02e0f063-3313-41a1-aa91-962899c3339c",
   "metadata": {},
   "outputs": [
    {
     "data": {
      "image/png": "[encoded data removed]",
      "text/plain": [
       "<Figure size 800x600 with 1 Axes>"
      ]
     },
     "metadata": {},
     "output_type": "display_data"
    }
   ],
   "source": [
    "i = 0\n",
    "gs = (grid_spec.GridSpec(len(comparison_labels),1))\n",
    "\n",
    "fig = plt.figure(figsize=(8,6))\n",
    "ax_objs = []\n",
    "ax_objs.append(fig.add_subplot(gs[i:i+1, 0:]))\n",
    "random_x = random_df.plot.kde(ax=ax_objs[-1],ind=10).get_children()[0]._x\n",
    "random_y= random_df.plot.kde(ax=ax_objs[-1],ind=10).get_children()[0]._y\n",
    "random_y = random_y / 4"
   ]
  },
  {
   "cell_type": "code",
   "execution_count": 116,
   "id": "4e7d9339-3327-4b6c-9eaf-e9de0db8cb16",
   "metadata": {},
   "outputs": [
    {
     "data": {
      "image/png": "[encoded data removed]",
      "text/plain": [
       "<Figure size 800x800 with 4 Axes>"
      ]
     },
     "metadata": {},
     "output_type": "display_data"
    }
   ],
   "source": [
    "import matplotlib.gridspec as grid_spec\n",
    "%matplotlib inline\n",
    "gs = (grid_spec.GridSpec(len(comparison_labels),1))\n",
    "\n",
    "fig = plt.figure(figsize=(8,8))\n",
    "\n",
    "i = 0\n",
    "\n",
    "#creating empty list\n",
    "ax_objs = []\n",
    "\n",
    "for df,label in zip(df_list,comparison_labels):\n",
    "    # creating new axes object and appending to ax_objs\n",
    "    ax_objs.append(fig.add_subplot(gs[i:i+1, 0:]))\n",
    "\n",
    "    # plotting the distribution\n",
    "    plot = (df.plot.kde(ax=ax_objs[-1],color=colors[i], lw=1,ind=10)\n",
    "           )\n",
    "\n",
    "    # grabbing x and y data from the kde plot\n",
    "    x = plot.get_children()[0]._x\n",
    "    y = plot.get_children()[0]._y\n",
    "    ax_objs[-1].plot(random_x,random_y,color=\"orange\",label=\"GraphComm Random\")\n",
    "    plot.legend()\n",
    "    # filling the space beneath the distribution\n",
    "    ax_objs[-1].fill_between(x,y,color=colors[i])\n",
    "    ax_objs[-1].fill_between(random_x,random_y,color=\"orange\",alpha=0.6)\n",
    "\n",
    "    # setting uniform x and y lims\n",
    "    ax_objs[-1].set_xlim(0,1)\n",
    "    #ax_objs[-1].set_ylim(0,10)\n",
    "    ax_objs[-1].set_title(label,fontdict={\"fontsize\":14})\n",
    "    ax_objs[-1].set_ylabel(\"Density\",fontdict={\"fontsize\":14})\n",
    "    i += 1\n",
    "plt.annotate('', xy=(0, -0.3), xycoords='axes fraction', xytext=(1, -0.3), \n",
    "            arrowprops=dict(arrowstyle=\"<->\"))\n",
    "plt.text(0.1,-12, 'Cell groups spatially\\ncloser/CCC more\\nprobable',ha=\"center\",fontdict={\"fontsize\":16})\n",
    "plt.text(0.9,-12, 'Cell groups spatially\\nfarther/CCC less\\nprobable',ha=\"center\",fontdict={\"fontsize\":16})\n",
    "plt.tight_layout()\n",
    "plt.show()"
   ]
  },
  {
   "cell_type": "code",
   "execution_count": null,
   "id": "bc952059",
   "metadata": {},
   "outputs": [],
   "source": []
  }
 ],
 "metadata": {
  "kernelspec": {
   "display_name": "Python 3",
   "language": "python",
   "name": "python3"
  },
  "language_info": {
   "codemirror_mode": {
    "name": "ipython",
    "version": 3
   },
   "file_extension": ".py",
   "mimetype": "text/x-python",
   "name": "python",
   "nbconvert_exporter": "python",
   "pygments_lexer": "ipython3",
   "version": "3.9.12"
  }
 },
 "nbformat": 4,
 "nbformat_minor": 5
}
