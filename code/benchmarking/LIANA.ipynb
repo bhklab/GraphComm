{
 "cells": [
  {
   "cell_type": "code",
   "execution_count": 1,
   "id": "9e51bff7",
   "metadata": {},
   "outputs": [],
   "source": [
    "import liana \n",
    "import anndata\n",
    "import pandas as pd\n",
    "import matplotlib.pyplot as plt\n",
    "from scipy.stats import wilcoxon\n",
    "import anndata\n",
    "import scanpy as sc\n",
    "from liana.mt import rank_aggregate\n",
    "from liana.mt import singlecellsignalr, connectome, cellphonedb, natmi, logfc, cellchat, geometric_mean"
   ]
  },
  {
   "cell_type": "markdown",
   "id": "febde582",
   "metadata": {},
   "source": [
    "# Data PreProcessing"
   ]
  },
  {
   "cell_type": "markdown",
   "id": "9a7eb04d-faf4-4f51-a044-0740c4cf39c2",
   "metadata": {},
   "source": [
    "## Dataset 1 - Compare Hippo pathway coverage in *Drosophila* embryo dataset from GraphComm compared to other CCC methods (Fig2D)"
   ]
  },
  {
   "cell_type": "markdown",
   "id": "c69a255e-f30f-47d2-9308-3dde4dbe2843",
   "metadata": {},
   "source": [
    "### load dataset"
   ]
  },
  {
   "cell_type": "code",
   "execution_count": 2,
   "id": "250579ef-e308-4351-934c-8a9939fe5f9d",
   "metadata": {},
   "outputs": [],
   "source": [
    "#matrix = pd.read_csv(\"../data/GSE95025/GSM2494785_dge_mel_rep3.txt\",sep=\"\\t\")\n",
    "matrix_list = []\n",
    "common_genes = []\n",
    "for i,j in zip(range(3,8),range(5,10)):\n",
    "    matrix_list.append(pd.read_csv(f\"/data/raw_data/Drosophila/GSM249478{j}_dge_mel_rep{i}.txt\",sep=\"\\t\",index_col=0))\n",
    "    if not common_genes:\n",
    "        common_genes = pd.read_csv(f\"/data/raw_data/Drosophila/GSM249478{j}_dge_mel_rep{i}.txt\",sep=\"\\t\",index_col=0).index.tolist()\n",
    "    else:\n",
    "        common_genes = list(set(common_genes) & set(pd.read_csv(f\"/data/raw_data/Drosophila/GSM249478{j}_dge_mel_rep{i}.txt\",sep=\"\\t\",index_col=0).index.tolist()))\n",
    "        #matrix_list = [i.loc[common_genes] for i in matrix_list]\n",
    "matrix = pd.concat(matrix_list)\n",
    "matrix = matrix.loc[common_genes]\n",
    "matrix = matrix[~matrix.index.duplicated(keep='first')]\n",
    "matrix.index = [str(i).upper() for i in matrix.index.tolist()]\n",
    "matrix = matrix[~matrix.index.duplicated(keep='first')]\n",
    "matrix = matrix.fillna(0)\n",
    "matrix = matrix.loc[:, (matrix != 0).any(axis=0)]\n"
   ]
  },
  {
   "cell_type": "code",
   "execution_count": 3,
   "id": "133da380-32a7-4c1f-88f5-1cd29fa4c708",
   "metadata": {},
   "outputs": [
    {
     "name": "stderr",
     "output_type": "stream",
     "text": [
      "/tmp/ipykernel_122/2399961009.py:1: FutureWarning: X.dtype being converted to np.float32 from float64. In the next version of anndata (0.9) conversion will not be automatic. Pass dtype explicitly to avoid this warning. Pass `AnnData(X, dtype=X.dtype, ...)` to get the future behavour.\n",
      "/opt/conda/lib/python3.9/site-packages/tqdm/auto.py:22: TqdmWarning: IProgress not found. Please update jupyter and ipywidgets. See https://ipywidgets.readthedocs.io/en/stable/user_install.html\n"
     ]
    }
   ],
   "source": [
    "adata = anndata.AnnData(matrix.transpose())\n",
    "sc.pp.normalize_total(adata)\n",
    "sc.pp.log1p(adata)\n",
    "sc.tl.pca(adata)\n",
    "sc.pp.neighbors(adata)\n",
    "sc.tl.leiden(adata)\n",
    "meta = pd.DataFrame({\"cell\":adata.obs[\"leiden\"].index.tolist(),\"label\":adata.obs[\"leiden\"].tolist()})\n",
    "adata.obs = meta\n",
    "adata.raw = adata\n",
    "adata.obs[\"label\"] = adata.obs[\"label\"].astype(\"category\")"
   ]
  },
  {
   "cell_type": "markdown",
   "id": "59270b5a-f5de-468d-9d7f-96d7c0186a91",
   "metadata": {},
   "source": [
    "### run CCC methods Conncetome, CellPhoneDB and CellChat. extract the results"
   ]
  },
  {
   "cell_type": "code",
   "execution_count": 4,
   "id": "39c957fd",
   "metadata": {},
   "outputs": [
    {
     "name": "stderr",
     "output_type": "stream",
     "text": [
      "/opt/conda/lib/python3.9/site-packages/anndata/_core/anndata.py:121: ImplicitModificationWarning: Transforming to str index.\n"
     ]
    }
   ],
   "source": [
    "connectome(adata,groupby=\"label\")\n",
    "drosophila_connectome_df = adata.uns[\"liana_res\"][[\"source\",\"target\",\"ligand\",\"receptor\",\"expr_prod\"]].sort_values(\"expr_prod\",ascending=False)"
   ]
  },
  {
   "cell_type": "code",
   "execution_count": 5,
   "id": "3a905313",
   "metadata": {},
   "outputs": [],
   "source": [
    "cellphonedb(adata,groupby=\"label\")\n",
    "drosophila_cellphone_df = adata.uns[\"liana_res\"][[\"source\",\"target\",\"ligand\",\"receptor\",\"lr_means\"]].sort_values(\"lr_means\",ascending=False)"
   ]
  },
  {
   "cell_type": "code",
   "execution_count": 6,
   "id": "b7628f6b",
   "metadata": {},
   "outputs": [],
   "source": [
    "cellchat(adata,groupby=\"label\")\n",
    "drosophila_cellchat_df = adata.uns[\"liana_res\"][[\"source\",\"target\",\"ligand\",\"receptor\",\"lr_probs\"]].sort_values(\"lr_probs\",ascending=False)"
   ]
  },
  {
   "cell_type": "markdown",
   "id": "4e4049a4-6991-4460-a229-c66704edfdba",
   "metadata": {},
   "source": [
    "# Dataset 2: Pre and Post Drug Treatment Dataset"
   ]
  },
  {
   "cell_type": "code",
   "execution_count": null,
   "id": "f2b1611f",
   "metadata": {},
   "outputs": [
    {
     "name": "stderr",
     "output_type": "stream",
     "text": [
      "/tmp/ipykernel_189/2495707260.py:14: FutureWarning: X.dtype being converted to np.float32 from int64. In the next version of anndata (0.9) conversion will not be automatic. Pass dtype explicitly to avoid this warning. Pass `AnnData(X, dtype=X.dtype, ...)` to get the future behavour.\n"
     ]
    },
    {
     "name": "stdout",
     "output_type": "stream",
     "text": [
      "WARNING: You’re trying to run this on 22166 dimensions of `.X`, if you really want this, set `use_rep='X'`.\n",
      "         Falling back to preprocessing with `sc.pp.pca` and default params.\n"
     ]
    },
    {
     "name": "stderr",
     "output_type": "stream",
     "text": [
      "/tmp/ipykernel_189/2495707260.py:26: FutureWarning: X.dtype being converted to np.float32 from int64. In the next version of anndata (0.9) conversion will not be automatic. Pass dtype explicitly to avoid this warning. Pass `AnnData(X, dtype=X.dtype, ...)` to get the future behavour.\n"
     ]
    },
    {
     "name": "stdout",
     "output_type": "stream",
     "text": [
      "WARNING: Default of the method has been changed to 't-test' from 't-test_overestim_var'\n",
      "WARNING: It seems you use rank_genes_groups on the raw count data. Please logarithmize your data before calling rank_genes_groups.\n"
     ]
    }
   ],
   "source": [
    "#matrix = pd.read_csv(\"../data/GSE95025/GSM2494785_dge_mel_rep3.txt\",sep=\"\\t\")\n",
    "matrix = pd.read_csv(\"/data/raw_data/Pre_Post/GSE150949/pc9_t0.csv\",index_col=0)\n",
    "\n",
    "matrix.index = [str(i).upper() for i in matrix.index.tolist()]\n",
    "\n",
    "from scipy.stats import wilcoxon\n",
    "import anndata\n",
    "import scanpy as sc\n",
    "\n",
    "index = matrix.index.tolist()\n",
    "\n",
    "matrix = matrix.fillna(0)\n",
    "\n",
    "adata = anndata.AnnData(matrix.transpose())\n",
    "\n",
    "#meta = pd.read_csv(\"../data/Pre_Post/GSE150949_metaData_with_lineage.txt\",sep=\"\\t\")\n",
    "\n",
    "sc.pp.normalize_total(adata)\n",
    "sc.pp.neighbors(adata)\n",
    "sc.tl.leiden(adata)\n",
    "\n",
    "meta = pd.DataFrame({\"cell\":adata.obs[\"leiden\"].index.tolist(),\"label\":adata.obs[\"leiden\"].tolist()})\n",
    "\n",
    "meta.index = meta[\"cell\"].tolist()\n",
    "\n",
    "adata = anndata.AnnData(matrix.transpose())\n",
    "adata.raw = adata\n",
    "adata.obs = meta\n",
    "adata.obs[\"label\"] = adata.obs[\"label\"].astype(\"category\")\n",
    "sc.tl.rank_genes_groups(adata, 'label')"
   ]
  },
  {
   "cell_type": "code",
   "execution_count": null,
   "id": "10701433",
   "metadata": {},
   "outputs": [],
   "source": [
    "connectome(adata,groupby=\"label\",expr_prop=0)\n",
    "connectome_df = adata.uns[\"liana_res\"][[\"source\",\"target\",\"ligand\",\"receptor\",\"expr_prod\"]].sort_values(\"expr_prod\",ascending=False)"
   ]
  },
  {
   "cell_type": "code",
   "execution_count": null,
   "id": "aa044ac6",
   "metadata": {},
   "outputs": [],
   "source": [
    "cellphonedb(adata,groupby=\"label\")\n",
    "cellphone_df = adata.uns[\"liana_res\"][[\"source\",\"target\",\"ligand\",\"receptor\",\"lr_means\"]].sort_values(\"lr_means\",ascending=False)"
   ]
  },
  {
   "cell_type": "code",
   "execution_count": null,
   "id": "6a7a7bd4",
   "metadata": {},
   "outputs": [],
   "source": [
    "cellchat(adata,groupby=\"label\")\n",
    "cellchat_df = adata.uns[\"liana_res\"][[\"source\",\"target\",\"ligand\",\"receptor\",\"lr_probs\"]].sort_values(\"lr_probs\",ascending=False)"
   ]
  },
  {
   "cell_type": "code",
   "execution_count": null,
   "id": "ea7298a5",
   "metadata": {},
   "outputs": [],
   "source": [
    "day0_list = [connectome_df,cellphone_df,cellchat_df]"
   ]
  },
  {
   "cell_type": "code",
   "execution_count": null,
   "id": "d854aecf",
   "metadata": {},
   "outputs": [
    {
     "name": "stderr",
     "output_type": "stream",
     "text": [
      "/tmp/ipykernel_189/2781942719.py:14: FutureWarning: X.dtype being converted to np.float32 from int64. In the next version of anndata (0.9) conversion will not be automatic. Pass dtype explicitly to avoid this warning. Pass `AnnData(X, dtype=X.dtype, ...)` to get the future behavour.\n"
     ]
    },
    {
     "name": "stdout",
     "output_type": "stream",
     "text": [
      "WARNING: You’re trying to run this on 22166 dimensions of `.X`, if you really want this, set `use_rep='X'`.\n",
      "         Falling back to preprocessing with `sc.pp.pca` and default params.\n"
     ]
    },
    {
     "name": "stderr",
     "output_type": "stream",
     "text": [
      "/tmp/ipykernel_189/2781942719.py:26: FutureWarning: X.dtype being converted to np.float32 from int64. In the next version of anndata (0.9) conversion will not be automatic. Pass dtype explicitly to avoid this warning. Pass `AnnData(X, dtype=X.dtype, ...)` to get the future behavour.\n"
     ]
    },
    {
     "name": "stdout",
     "output_type": "stream",
     "text": [
      "WARNING: Default of the method has been changed to 't-test' from 't-test_overestim_var'\n",
      "WARNING: It seems you use rank_genes_groups on the raw count data. Please logarithmize your data before calling rank_genes_groups.\n"
     ]
    },
    {
     "name": "stderr",
     "output_type": "stream",
     "text": [
      "/opt/conda/lib/python3.9/site-packages/scanpy/tools/_rank_genes_groups.py:417: RuntimeWarning: overflow encountered in expm1\n"
     ]
    }
   ],
   "source": [
    "#matrix = pd.read_csv(\"../data/GSE95025/GSM2494785_dge_mel_rep3.txt\",sep=\"\\t\")\n",
    "matrix = pd.read_csv(\"/data/raw_data/Pre_Post/GSE150949/pc9_t7_rep1.csv\",index_col=0)\n",
    "\n",
    "matrix.index = [str(i).upper() for i in matrix.index.tolist()]\n",
    "\n",
    "from scipy.stats import wilcoxon\n",
    "import anndata\n",
    "import scanpy as sc\n",
    "\n",
    "index = matrix.index.tolist()\n",
    "\n",
    "matrix = matrix.fillna(0)\n",
    "\n",
    "adata = anndata.AnnData(matrix.transpose())\n",
    "\n",
    "#meta = pd.read_csv(\"../data/Pre_Post/GSE150949_metaData_with_lineage.txt\",sep=\"\\t\")\n",
    "\n",
    "sc.pp.normalize_total(adata)\n",
    "sc.pp.neighbors(adata)\n",
    "sc.tl.leiden(adata)\n",
    "\n",
    "meta = pd.DataFrame({\"cell\":adata.obs[\"leiden\"].index.tolist(),\"label\":adata.obs[\"leiden\"].tolist()})\n",
    "\n",
    "meta.index = meta[\"cell\"].tolist()\n",
    "\n",
    "adata = anndata.AnnData(matrix.transpose())\n",
    "adata.raw = adata\n",
    "adata.obs = meta\n",
    "adata.obs[\"label\"] = adata.obs[\"label\"].astype(\"category\")\n",
    "sc.tl.rank_genes_groups(adata, 'label')"
   ]
  },
  {
   "cell_type": "code",
   "execution_count": null,
   "id": "25bdc74d",
   "metadata": {},
   "outputs": [],
   "source": [
    "connectome(adata,groupby=\"label\",expr_prop=0)\n",
    "connectome_df = adata.uns[\"liana_res\"][[\"source\",\"target\",\"ligand\",\"receptor\",\"expr_prod\"]].sort_values(\"expr_prod\",ascending=False)"
   ]
  },
  {
   "cell_type": "code",
   "execution_count": null,
   "id": "768e740a",
   "metadata": {},
   "outputs": [],
   "source": [
    "cellphonedb(adata,groupby=\"label\")\n",
    "cellphone_df = adata.uns[\"liana_res\"][[\"source\",\"target\",\"ligand\",\"receptor\",\"lr_means\"]].sort_values(\"lr_means\",ascending=False)"
   ]
  },
  {
   "cell_type": "code",
   "execution_count": null,
   "id": "01ead5af",
   "metadata": {},
   "outputs": [],
   "source": [
    "cellchat(adata,groupby=\"label\")\n",
    "cellchat_df = adata.uns[\"liana_res\"][[\"source\",\"target\",\"ligand\",\"receptor\",\"lr_probs\"]].sort_values(\"lr_probs\",ascending=False)"
   ]
  },
  {
   "cell_type": "code",
   "execution_count": null,
   "id": "36eee720",
   "metadata": {},
   "outputs": [],
   "source": [
    "day7_rep1_list = [connectome_df,cellphone_df,cellchat_df]"
   ]
  },
  {
   "cell_type": "code",
   "execution_count": null,
   "id": "d6b6467e",
   "metadata": {},
   "outputs": [
    {
     "name": "stdout",
     "output_type": "stream",
     "text": [
      "WARNING: You’re trying to run this on 22166 dimensions of `.X`, if you really want this, set `use_rep='X'`.\n",
      "         Falling back to preprocessing with `sc.pp.pca` and default params.\n"
     ]
    },
    {
     "name": "stderr",
     "output_type": "stream",
     "text": [
      "/tmp/ipykernel_189/2809233977.py:14: FutureWarning: X.dtype being converted to np.float32 from int64. In the next version of anndata (0.9) conversion will not be automatic. Pass dtype explicitly to avoid this warning. Pass `AnnData(X, dtype=X.dtype, ...)` to get the future behavour.\n"
     ]
    },
    {
     "name": "stdout",
     "output_type": "stream",
     "text": [
      "WARNING: Default of the method has been changed to 't-test' from 't-test_overestim_var'\n"
     ]
    },
    {
     "name": "stderr",
     "output_type": "stream",
     "text": [
      "/tmp/ipykernel_189/2809233977.py:26: FutureWarning: X.dtype being converted to np.float32 from int64. In the next version of anndata (0.9) conversion will not be automatic. Pass dtype explicitly to avoid this warning. Pass `AnnData(X, dtype=X.dtype, ...)` to get the future behavour.\n"
     ]
    },
    {
     "name": "stdout",
     "output_type": "stream",
     "text": [
      "WARNING: It seems you use rank_genes_groups on the raw count data. Please logarithmize your data before calling rank_genes_groups.\n"
     ]
    },
    {
     "name": "stderr",
     "output_type": "stream",
     "text": [
      "/opt/conda/lib/python3.9/site-packages/scanpy/tools/_rank_genes_groups.py:417: RuntimeWarning: overflow encountered in expm1\n"
     ]
    }
   ],
   "source": [
    "#matrix = pd.read_csv(\"../data/GSE95025/GSM2494785_dge_mel_rep3.txt\",sep=\"\\t\")\n",
    "matrix = pd.read_csv(\"/data/raw_data/Pre_Post/GSE150949/pc9_t7_rep2.csv\",index_col=0)\n",
    "\n",
    "matrix.index = [str(i).upper() for i in matrix.index.tolist()]\n",
    "\n",
    "from scipy.stats import wilcoxon\n",
    "import anndata\n",
    "import scanpy as sc\n",
    "\n",
    "index = matrix.index.tolist()\n",
    "\n",
    "matrix = matrix.fillna(0)\n",
    "\n",
    "adata = anndata.AnnData(matrix.transpose())\n",
    "\n",
    "#meta = pd.read_csv(\"../data/Pre_Post/GSE150949_metaData_with_lineage.txt\",sep=\"\\t\")\n",
    "\n",
    "sc.pp.normalize_total(adata)\n",
    "sc.pp.neighbors(adata)\n",
    "sc.tl.leiden(adata)\n",
    "\n",
    "meta = pd.DataFrame({\"cell\":adata.obs[\"leiden\"].index.tolist(),\"label\":adata.obs[\"leiden\"].tolist()})\n",
    "\n",
    "meta.index = meta[\"cell\"].tolist()\n",
    "\n",
    "adata = anndata.AnnData(matrix.transpose())\n",
    "adata.raw = adata\n",
    "adata.obs = meta\n",
    "adata.obs[\"label\"] = adata.obs[\"label\"].astype(\"category\")\n",
    "sc.tl.rank_genes_groups(adata, 'label')\n",
    "pval_df = pd.DataFrame.from_records(adata.uns[\"rank_genes_groups\"][\"pvals\"])\n",
    "pval_df.index = matrix.index.tolist()\n",
    "cell_type_df = {}\n",
    "for i in pval_df.columns.tolist():\n",
    "    sub = pval_df[i]\n",
    "    sub = sub[sub < 0.05]\n",
    "    cell_type_df[i] = sub.index.tolist()"
   ]
  },
  {
   "cell_type": "code",
   "execution_count": null,
   "id": "b84e0389",
   "metadata": {},
   "outputs": [],
   "source": [
    "connectome(adata,groupby=\"label\",expr_prop=0)\n",
    "connectome_df = adata.uns[\"liana_res\"][[\"source\",\"target\",\"ligand\",\"receptor\",\"expr_prod\"]].sort_values(\"expr_prod\",ascending=False)"
   ]
  },
  {
   "cell_type": "code",
   "execution_count": null,
   "id": "7c4cb947",
   "metadata": {},
   "outputs": [],
   "source": [
    "cellphonedb(adata,groupby=\"label\")\n",
    "cellphone_df = adata.uns[\"liana_res\"][[\"source\",\"target\",\"ligand\",\"receptor\",\"lr_means\"]].sort_values(\"lr_means\",ascending=False)"
   ]
  },
  {
   "cell_type": "code",
   "execution_count": null,
   "id": "471de9ce",
   "metadata": {},
   "outputs": [],
   "source": [
    "cellchat(adata,groupby=\"label\")\n",
    "cellchat_df = adata.uns[\"liana_res\"][[\"source\",\"target\",\"ligand\",\"receptor\",\"lr_probs\"]].sort_values(\"lr_probs\",ascending=False)"
   ]
  },
  {
   "cell_type": "code",
   "execution_count": null,
   "id": "c26170f1",
   "metadata": {},
   "outputs": [],
   "source": [
    "#day7_rep2_list = [connectome_df,cellphone_df,cellchat_df]\n",
    "day7_rep2_list = [connectome_df,cellphone_df,cellchat_df]"
   ]
  },
  {
   "cell_type": "markdown",
   "id": "f1414a40",
   "metadata": {},
   "source": [
    "## Dataset 2 - Spatial cardiovascular data (Fig 2E)"
   ]
  },
  {
   "cell_type": "code",
   "execution_count": 7,
   "id": "3ccf5be7",
   "metadata": {},
   "outputs": [
    {
     "name": "stdout",
     "output_type": "stream",
     "text": [
      "WARNING: Default of the method has been changed to 't-test' from 't-test_overestim_var'\n"
     ]
    }
   ],
   "source": [
    "adata = sc.read_h5ad(\"/data/raw_data/Cardiac_cells//Visium-FZ_GT_P19.h5ad\")\n",
    "sc.pp.normalize_total(adata)\n",
    "sc.pp.log1p(adata)\n",
    "sc.tl.pca(adata)\n",
    "sc.pp.neighbors(adata)\n",
    "sc.tl.leiden(adata)\n",
    "matrix = pd.DataFrame.sparse.from_spmatrix(adata.X,index=adata.obs.index.tolist(),columns=adata.var[\"feature_name\"].tolist())\n",
    "\n",
    "meta = pd.DataFrame({\"cell\":adata.obs.index.tolist(),\"label\":adata.obs[\"cell_type_original\"].tolist()})\n",
    "meta = meta[meta[\"label\"] != \"Lymphoid\"]\n",
    "meta.index = meta[\"cell\"].tolist()\n",
    "\n",
    "matrix = matrix.transpose()\n",
    "\n",
    "matrix = matrix[meta.index.tolist()]\n",
    "\n",
    "from scipy.stats import wilcoxon\n",
    "import anndata\n",
    "import scanpy as sc\n",
    "\n",
    "index = matrix.index.tolist()\n",
    "\n",
    "meta['label'] = meta[\"label\"].astype(\"string\").tolist()\n",
    "\n",
    "meta[\"cell\"] = meta[\"cell\"].astype(\"category\")\n",
    "meta[\"label\"] = meta[\"label\"].astype(\"category\")\n",
    "\n",
    "matrix = matrix.loc[:,~matrix.columns.duplicated()].copy()\n",
    "meta = meta.loc[~meta.index.duplicated(),:].copy()\n",
    "\n",
    "\n",
    "\n",
    "\n",
    "adata = anndata.AnnData(matrix.transpose())\n",
    "adata.raw = adata\n",
    "adata.obs = meta\n",
    "adata.obs[\"label\"] = adata.obs[\"label\"].astype(\"category\")\n",
    "sc.tl.rank_genes_groups(adata, 'label')"
   ]
  },
  {
   "cell_type": "code",
   "execution_count": 8,
   "id": "f17ad53f",
   "metadata": {},
   "outputs": [],
   "source": [
    "connectome(adata,groupby=\"label\",expr_prop=0)\n",
    "spatial_connectome_df = adata.uns[\"liana_res\"][[\"source\",\"target\",\"ligand\",\"receptor\",\"expr_prod\"]].sort_values(\"expr_prod\",ascending=False)"
   ]
  },
  {
   "cell_type": "code",
   "execution_count": 9,
   "id": "9dc59728",
   "metadata": {},
   "outputs": [],
   "source": [
    "cellphonedb(adata,groupby=\"label\")\n",
    "spatial_cellphone_df = adata.uns[\"liana_res\"][[\"source\",\"target\",\"ligand\",\"receptor\",\"lr_means\"]].sort_values(\"lr_means\",ascending=False)"
   ]
  },
  {
   "cell_type": "code",
   "execution_count": 10,
   "id": "176deea5",
   "metadata": {},
   "outputs": [],
   "source": [
    "cellchat(adata,groupby=\"label\")\n",
    "spatial_cellchat_df = adata.uns[\"liana_res\"][[\"source\",\"target\",\"ligand\",\"receptor\",\"lr_probs\"]].sort_values(\"lr_probs\",ascending=False)"
   ]
  },
  {
   "cell_type": "markdown",
   "id": "4837150f",
   "metadata": {},
   "source": [
    "# Gathering LIANA benchmarking Results"
   ]
  },
  {
   "cell_type": "markdown",
   "id": "efd0dbc8-1f46-4347-9582-8979cd8bf499",
   "metadata": {},
   "source": [
    "## Dataset 1: *Drosophila* embryo (Fig 2D)"
   ]
  },
  {
   "cell_type": "markdown",
   "id": "172b73f9-e117-4be3-99f3-b391516ce259",
   "metadata": {},
   "source": [
    "for each dataset, get the pathway coverage for Hippo pathway genes"
   ]
  },
  {
   "cell_type": "code",
   "execution_count": null,
   "id": "ae479756",
   "metadata": {},
   "outputs": [],
   "source": [
    "inputs = [drosophila_connectome_df[[\"ligand\",\"receptor\",\"expr_prod\"]],drosophila_cellchat_df[[\"ligand\",\"receptor\",\"lr_probs\"]],drosophila_cellphone_df[[\"ligand\",\"receptor\",\"lr_means\"]]]"
   ]
  },
  {
   "cell_type": "code",
   "execution_count": null,
   "id": "2da2a14e",
   "metadata": {},
   "outputs": [],
   "source": [
    "for i in inputs:\n",
    "    i.columns = [\"Ligand\",\"Receptor\",\"Prob\"]"
   ]
  },
  {
   "cell_type": "code",
   "execution_count": 52,
   "id": "d0e340f0",
   "metadata": {},
   "outputs": [],
   "source": [
    "pathways = pd.read_csv(\"/data/LR_database/kegg_pathways.csv\",index_col=0)\n",
    "pathways.index = pathways[\"genesymbol\"].tolist()\n",
    "pathways = pathways.drop_duplicates(\"genesymbol\")"
   ]
  },
  {
   "cell_type": "code",
   "execution_count": 53,
   "id": "8717d159",
   "metadata": {},
   "outputs": [],
   "source": [
    "hippo_genes = pathways[(pathways[\"pathway\"].str.contains(\"Hippo\"))][\"genesymbol\"].tolist()"
   ]
  },
  {
   "cell_type": "code",
   "execution_count": 54,
   "id": "bf9574dd",
   "metadata": {},
   "outputs": [],
   "source": [
    "available_hippo_genes = list(set(matrix.index.tolist()) & set(hippo_genes))"
   ]
  },
  {
   "cell_type": "code",
   "execution_count": 55,
   "id": "dda58ba0",
   "metadata": {},
   "outputs": [],
   "source": [
    "inputs = [i.head(1000) for i in inputs]"
   ]
  },
  {
   "cell_type": "code",
   "execution_count": 56,
   "id": "ffcd96d1",
   "metadata": {},
   "outputs": [],
   "source": [
    "benchmarking_list = []\n",
    "for input_data in inputs:\n",
    "    input_data = input_data[(input_data[\"Ligand\"].isin(pathways[\"genesymbol\"].tolist())) | (input_data[\"Receptor\"].isin(pathways[\"genesymbol\"].tolist()))]\n",
    "    involved_ligands = list(set(input_data[\"Ligand\"].tolist()) & set(pathways[\"genesymbol\"].tolist()))\n",
    "    involved_receptors = list(set(input_data[\"Receptor\"].tolist()) & set(pathways[\"genesymbol\"].tolist()))\n",
    "    input_data[\"Ligand Pathway\"] = [pathways.loc[i][\"pathway\"] if i in pathways[\"genesymbol\"].tolist() else \"\" for i in input_data[\"Ligand\"].tolist()]\n",
    "    input_data[\"Receptor Pathway\"] = [pathways.loc[i][\"pathway\"] if i in pathways[\"genesymbol\"].tolist() else \"\" for i in input_data[\"Receptor\"].tolist()]\n",
    "    signaling_pathway = input_data[input_data[\"Ligand\"].isin(hippo_genes) | input_data[\"Receptor\"].isin(hippo_genes)]\n",
    "    sizes_list = [] \n",
    "    for i in range(0,1000,100):\n",
    "        temp = signaling_pathway.head(i)\n",
    "        found_genes = temp[\"Ligand\"].tolist() + temp[\"Receptor\"].tolist()\n",
    "        found_hippo_genes = list(set(found_genes) & set(hippo_genes))\n",
    "        sizes_list.append(len(found_hippo_genes) / len(available_hippo_genes)) \n",
    "    benchmarking_list.append(sizes_list)\n",
    "                                  "
   ]
  },
  {
   "cell_type": "markdown",
   "id": "59629229-8544-49b5-becc-7859dc634672",
   "metadata": {},
   "source": [
    "import GraphComm result coverage"
   ]
  },
  {
   "cell_type": "code",
   "execution_count": 57,
   "id": "372111db",
   "metadata": {},
   "outputs": [],
   "source": [
    "graphcomm_data = pd.read_csv(\"/data/GraphComm_Output/Drosophila/CCI.csv\",index_col=0)"
   ]
  },
  {
   "cell_type": "code",
   "execution_count": 58,
   "id": "e29a24e4",
   "metadata": {},
   "outputs": [],
   "source": [
    "graphcomm_data = graphcomm_data[(graphcomm_data[\"Src\"].isin(pathways[\"genesymbol\"].tolist())) & (graphcomm_data[\"Dst\"].isin(pathways[\"genesymbol\"].tolist()))]"
   ]
  },
  {
   "cell_type": "code",
   "execution_count": 59,
   "id": "1fa05561",
   "metadata": {},
   "outputs": [],
   "source": [
    "graphcomm_data.columns = [\"Ligand\",\"Receptor\",\"Prob\"]"
   ]
  },
  {
   "cell_type": "code",
   "execution_count": 60,
   "id": "8bbd18f7",
   "metadata": {},
   "outputs": [],
   "source": [
    "graphcomm_inputs = [graphcomm_data.head(1000)]"
   ]
  },
  {
   "cell_type": "code",
   "execution_count": 61,
   "id": "e7023c0f",
   "metadata": {},
   "outputs": [],
   "source": [
    "graphcomm_data = graphcomm_data.head(1000)"
   ]
  },
  {
   "cell_type": "code",
   "execution_count": 62,
   "id": "f5394c3b",
   "metadata": {},
   "outputs": [],
   "source": [
    "graphcomm_list = []\n",
    "for i in range(0,1000,100):\n",
    "    temp = graphcomm_data.head(i)\n",
    "    found_genes = temp[\"Ligand\"].tolist() + temp[\"Receptor\"].tolist()\n",
    "    found_hippo_genes = list(set(found_genes) & set(hippo_genes))\n",
    "    graphcomm_list.append(len(found_hippo_genes) / len(available_hippo_genes))\n",
    "                                  "
   ]
  },
  {
   "cell_type": "code",
   "execution_count": 63,
   "id": "8ab9d0b6",
   "metadata": {},
   "outputs": [
    {
     "data": {
      "text/plain": [
       "<matplotlib.legend.Legend at 0x7f8917e2d520>"
      ]
     },
     "execution_count": 63,
     "metadata": {},
     "output_type": "execute_result"
    },
    {
     "data": {
      "image/png": "[encoded data removed]",
      "text/plain": [
       "<Figure size 500x500 with 1 Axes>"
      ]
     },
     "metadata": {},
     "output_type": "display_data"
    }
   ],
   "source": [
    "%matplotlib inline\n",
    "plt.figure(figsize=(5,5))\n",
    "line_styles = [\"-.\",'--',\":\"]*4\n",
    "methods_list = [\"Connectome\",\"CellChat\",\"CellPhone\"]\n",
    "for i in range(len(benchmarking_list)):\n",
    "    plt.plot(range(0,1000,100),benchmarking_list[i],markersize=5,marker=\"o\",linestyle=line_styles[i],label=methods_list[i],linewidth=3,alpha=0.75)\n",
    "plt.plot(range(0,1000,100),graphcomm_list,markersize=5,marker=\"o\",label=\"GraphComm\",linewidth=3,alpha=0.75)\n",
    "\n",
    "plt.xticks(range(0,1000,100))\n",
    "plt.grid(axis = 'x')\n",
    "plt.title(\"GraphComm coverage of identified pathways vs. other methods\")\n",
    "plt.xlabel(\"Top N interactions\")\n",
    "plt.ylabel(\"Fraction of genes involved in interactions\")\n",
    "plt.legend()"
   ]
  },
  {
   "cell_type": "markdown",
   "id": "c1c31eb6-0447-47c4-bf83-5f640900fd99",
   "metadata": {},
   "source": [
    "# Dataset 2: Pre and Post Treatment Dataset (Fig 3E)"
   ]
  },
  {
   "cell_type": "markdown",
   "id": "066ebf76-d3ec-4e32-b47e-156e00f3f94d",
   "metadata": {},
   "source": [
    "### get unique ligand receptor interactions"
   ]
  },
  {
   "cell_type": "code",
   "execution_count": 125,
   "id": "731b954d",
   "metadata": {},
   "outputs": [],
   "source": [
    "day0_list = [i[[\"ligand\",\"receptor\"]].drop_duplicates() for i in day0_list]\n",
    "day7_rep1_list = [i[[\"ligand\",\"receptor\"]].drop_duplicates() for i in day7_rep1_list]\n",
    "day7_rep2_list = [i[[\"ligand\",\"receptor\"]].drop_duplicates() for i in day7_rep2_list]"
   ]
  },
  {
   "cell_type": "code",
   "execution_count": 126,
   "id": "b617d42c",
   "metadata": {},
   "outputs": [],
   "source": [
    "original_day0 = day0_list\n",
    "original_day7_rep1 = day7_rep1_list\n",
    "original_day7_rep2 = day7_rep2_list\n"
   ]
  },
  {
   "cell_type": "markdown",
   "id": "99fdae6a-6ab0-4ab3-82c9-e451898efad9",
   "metadata": {},
   "source": [
    "### for each method's result of each dataset, retrieve the top 1000 interactions"
   ]
  },
  {
   "cell_type": "code",
   "execution_count": 159,
   "id": "bfa45152",
   "metadata": {},
   "outputs": [],
   "source": [
    "day0_list = [i.head(100) for i in day0_list]\n",
    "day7_rep1_list = [i.head(100) for i in day7_rep1_list]\n",
    "day7_rep2_list = [i.head(100) for i in day7_rep2_list]\n"
   ]
  },
  {
   "cell_type": "markdown",
   "id": "e9a5d003-452d-47d4-bea8-b29fa093e88e",
   "metadata": {},
   "source": [
    "### for each method's result of each dataset, only retain intercell validated interactions"
   ]
  },
  {
   "cell_type": "code",
   "execution_count": 160,
   "id": "41d3a782",
   "metadata": {},
   "outputs": [],
   "source": [
    "Omnipath_db = pd.read_csv(\"/data/LR_database/intercell_Omnipath.csv\",index_col=0)[[\"source\",\"target\"]].drop_duplicates()"
   ]
  },
  {
   "cell_type": "code",
   "execution_count": 161,
   "id": "a413739a-a38e-4348-af3b-80e7892af151",
   "metadata": {},
   "outputs": [],
   "source": [
    "Omnipath_db.columns = [\"from\",\"to\"]"
   ]
  },
  {
   "cell_type": "code",
   "execution_count": 162,
   "id": "acefa218",
   "metadata": {},
   "outputs": [],
   "source": [
    "day0_list = [pd.merge(i,Omnipath_db,left_on=[\"ligand\",\"receptor\"],right_on=[\"from\",\"to\"]) for i in day0_list]\n",
    "day7_rep1_list = [pd.merge(i,Omnipath_db,left_on=[\"ligand\",\"receptor\"],right_on=[\"from\",\"to\"]) for i in day7_rep1_list]\n",
    "day7_rep2_list = [pd.merge(i,Omnipath_db,left_on=[\"ligand\",\"receptor\"],right_on=[\"from\",\"to\"]) for i in day7_rep2_list]"
   ]
  },
  {
   "cell_type": "code",
   "execution_count": 163,
   "id": "1f734386",
   "metadata": {},
   "outputs": [],
   "source": [
    "day0_list = [i[[\"ligand\",\"receptor\"]] for i in day0_list]\n",
    "day7_rep1_list = [i[[\"ligand\",\"receptor\"]] for i in day7_rep1_list]\n",
    "day7_rep2_list = [i[[\"ligand\",\"receptor\"]] for i in day7_rep2_list]"
   ]
  },
  {
   "cell_type": "markdown",
   "id": "3e0aae07-7d25-4af4-9f58-1017231223f9",
   "metadata": {},
   "source": [
    "### for each method, capture maximum # of unique interactions between top 100 CCC interactions between pre and post treatment datasets"
   ]
  },
  {
   "cell_type": "code",
   "execution_count": 170,
   "id": "30a3280c",
   "metadata": {},
   "outputs": [],
   "source": [
    "pre_post_list = []\n",
    "for i,j,k in zip(day0_list,day7_rep1_list,day7_rep2_list):\n",
    "    day0_day7_rep1_common = pd.merge(i,j).shape[0]/100\n",
    "    day0_day7_rep2_common = pd.merge(i,k).shape[0]/100\n",
    "    pre_post_list.append(max(1-day0_day7_rep1_common,1-day0_day7_rep2_common))"
   ]
  },
  {
   "cell_type": "markdown",
   "id": "e5260ce8-81b6-4400-b6f2-7ba0af3fff68",
   "metadata": {},
   "source": [
    "### import GraphComm's results, perform same preprocessing"
   ]
  },
  {
   "cell_type": "code",
   "execution_count": 172,
   "id": "8167b918",
   "metadata": {},
   "outputs": [],
   "source": [
    "input_day7_1 = pd.read_csv(\"/data/GraphComm_Output/Pre_Post/Day0/CCI.csv\")[[\"Src\",\"Dst\"]]\n",
    "input_day7_2 = pd.read_csv(\"/data/GraphComm_Output/Pre_Post/Day7_1/CCI.csv\")[[\"Src\",\"Dst\"]]\n",
    "input_day0 = pd.read_csv(\"/data/GraphComm_Output/Pre_Post/Day7_2/CCI.csv\")[[\"Src\",\"Dst\"]]"
   ]
  },
  {
   "cell_type": "code",
   "execution_count": 175,
   "id": "4534a881",
   "metadata": {},
   "outputs": [],
   "source": [
    "Omnipath_db = Omnipath_db.drop_duplicates()\n",
    "input_day0 = pd.merge(input_day0,Omnipath_db,left_on=[\"Src\",\"Dst\"],right_on=[\"from\",\"to\"]).head(100)[[\"Src\",\"Dst\"]]\n",
    "input_day7_1 = pd.merge(input_day7_1,Omnipath_db,left_on=[\"Src\",\"Dst\"],right_on=[\"from\",\"to\"]).head(100)[[\"Src\",\"Dst\"]]\n",
    "input_day7_2 = pd.merge(input_day7_2,Omnipath_db,left_on=[\"Src\",\"Dst\"],right_on=[\"from\",\"to\"]).head(100)[[\"Src\",\"Dst\"]]"
   ]
  },
  {
   "cell_type": "code",
   "execution_count": 176,
   "id": "c4e71764",
   "metadata": {},
   "outputs": [],
   "source": [
    "input_day0_day7_1 = pd.merge(input_day0,input_day7_1).shape[0]/100\n",
    "input_day0_day7_2 = pd.merge(input_day0,input_day7_2).shape[0]/100"
   ]
  },
  {
   "cell_type": "code",
   "execution_count": 179,
   "id": "cffa6285",
   "metadata": {},
   "outputs": [],
   "source": [
    "graphcomm_pre_post = max(1-input_day0_day7_1,1-input_day0_day7_2)"
   ]
  },
  {
   "cell_type": "code",
   "execution_count": 183,
   "id": "31dd0c7c",
   "metadata": {},
   "outputs": [
    {
     "data": {
      "text/plain": [
       "Text(0, 0.5, 'Fraction of Unique Interactions')"
      ]
     },
     "execution_count": 183,
     "metadata": {},
     "output_type": "execute_result"
    },
    {
     "data": {
      "image/png": "[encoded data removed]",
      "text/plain": [
       "<Figure size 640x480 with 1 Axes>"
      ]
     },
     "metadata": {},
     "output_type": "display_data"
    }
   ],
   "source": [
    "%matplotlib inline\n",
    "plt.bar([\"GraphComm\",\"Connectome\",\"CellphoneDB\",\"CellChat\"],[graphcomm_pre_post] + pre_post_list)\n",
    "plt.title(\"Fraction of Unique Interactions between Pre and Post Treatment Datasets\")\n",
    "plt.ylabel(\"Fraction of Unique Interactions\")"
   ]
  },
  {
   "cell_type": "markdown",
   "id": "17ec87e9",
   "metadata": {},
   "source": [
    "# Analyzing spatial data (Fig 4E)"
   ]
  },
  {
   "cell_type": "markdown",
   "id": "d1c0e402-b21b-4133-8cf5-fb1759269cf6",
   "metadata": {},
   "source": [
    "### remove self-loops for cell groups"
   ]
  },
  {
   "cell_type": "code",
   "execution_count": 11,
   "id": "54edc84c",
   "metadata": {},
   "outputs": [],
   "source": [
    "spatial_cellphone_df = spatial_cellphone_df[spatial_cellphone_df[\"source\"] != spatial_cellphone_df[\"target\"]]\n",
    "spatial_cellchat_df = spatial_cellchat_df[spatial_cellchat_df[\"source\"] != spatial_cellchat_df[\"target\"]]\n",
    "spatial_connectome_df = spatial_connectome_df[spatial_connectome_df[\"source\"] != spatial_connectome_df[\"target\"]]\n"
   ]
  },
  {
   "cell_type": "markdown",
   "id": "c4fd7d4a-65db-4f15-bd07-15864090add2",
   "metadata": {},
   "source": [
    "### for each method's results, capture the top 10 unique cell group interactions"
   ]
  },
  {
   "cell_type": "code",
   "execution_count": 12,
   "id": "d7852f53",
   "metadata": {},
   "outputs": [],
   "source": [
    "temp_cellphone_df = spatial_cellphone_df.drop_duplicates([\"source\",\"target\"]).head(10)\n",
    "temp_cellchat_df = spatial_cellchat_df.drop_duplicates([\"source\",\"target\"]).head(10)\n",
    "temp_connectome_df = spatial_connectome_df.drop_duplicates([\"source\",\"target\"]).head(10)"
   ]
  },
  {
   "cell_type": "markdown",
   "id": "c02f3abd-b543-494c-a7fd-5424da5dc6d8",
   "metadata": {},
   "source": [
    "### import GraphComm results, remove self loops and capture the top 10 unique cell group interactions"
   ]
  },
  {
   "cell_type": "code",
   "execution_count": 14,
   "id": "57e7d649",
   "metadata": {},
   "outputs": [],
   "source": [
    "input_data = pd.read_csv(\"/data/GraphComm_Output/Cardiac_cells/CCI.csv\",index_col=0)"
   ]
  },
  {
   "cell_type": "code",
   "execution_count": 15,
   "id": "8eb2a4a1-1af9-4327-868c-fb188f0abf08",
   "metadata": {},
   "outputs": [],
   "source": [
    "input_data = input_data[input_data[\"Src Cell\"] != input_data[\"Dst Cell\"]]"
   ]
  },
  {
   "cell_type": "code",
   "execution_count": 16,
   "id": "1c72be79",
   "metadata": {},
   "outputs": [],
   "source": [
    "input_data = input_data.drop_duplicates([\"Src Cell\",\"Dst Cell\"]).head(10)"
   ]
  },
  {
   "cell_type": "markdown",
   "id": "697bc166-9de2-4cc2-a667-ba4e28870e4f",
   "metadata": {},
   "source": [
    "### retrieve cell group spatial coordinates"
   ]
  },
  {
   "cell_type": "code",
   "execution_count": 17,
   "id": "5556af1e-afac-45ba-bee8-e28b0202f20a",
   "metadata": {},
   "outputs": [],
   "source": [
    "adata = sc.read_h5ad(\"/data/raw_data/Cardiac_cells/Visium-FZ_GT_P19.h5ad\")\n"
   ]
  },
  {
   "cell_type": "code",
   "execution_count": 18,
   "id": "a4004a17",
   "metadata": {},
   "outputs": [],
   "source": [
    "meta = pd.DataFrame({\"cell\":adata.obs.index.tolist(),\"label\":adata.obs[\"cell_type_original\"].tolist()})\n",
    "meta = meta[meta[\"label\"] != \"Lymphoid\"]\n",
    "meta.index = meta[\"cell\"].tolist()"
   ]
  },
  {
   "cell_type": "code",
   "execution_count": 19,
   "id": "39ab6f62",
   "metadata": {},
   "outputs": [],
   "source": [
    "adata = adata[meta.index.tolist()]\n",
    "spatial_coordinates = adata.obsm[\"X_spatial\"]\n"
   ]
  },
  {
   "cell_type": "code",
   "execution_count": 20,
   "id": "0449099c",
   "metadata": {},
   "outputs": [],
   "source": [
    "spatial_df = pd.DataFrame({\"x\":spatial_coordinates[:,0],\"y\":spatial_coordinates[:,1]},index=meta.index.tolist())"
   ]
  },
  {
   "cell_type": "code",
   "execution_count": 21,
   "id": "53ab4d0f",
   "metadata": {},
   "outputs": [],
   "source": [
    "cell_groups = meta[\"label\"].unique().tolist()"
   ]
  },
  {
   "cell_type": "code",
   "execution_count": 22,
   "id": "58b0ae87",
   "metadata": {},
   "outputs": [],
   "source": [
    "import math\n",
    "import numpy as np"
   ]
  },
  {
   "cell_type": "markdown",
   "id": "980bbb1e-013e-452e-9bfe-0b7e67acac26",
   "metadata": {},
   "source": [
    "### extract from each method, the average eucleadian distance for the top 10 cell group interactions"
   ]
  },
  {
   "cell_type": "code",
   "execution_count": 23,
   "id": "ccf650ab",
   "metadata": {},
   "outputs": [],
   "source": [
    "cellphone_spatial = []\n",
    "for one,two in zip(temp_cellphone_df[\"source\"].tolist(),temp_cellphone_df[\"target\"].tolist()):\n",
    "    cells = meta[meta[\"label\"]==one].index.tolist()\n",
    "    spatial_coords = [(i,j) for i,j in zip(spatial_df.loc[cells][\"x\"].tolist(),spatial_df.loc[cells][\"y\"].tolist())]\n",
    "    #if two != one:\n",
    "    second_cells = meta[meta[\"label\"]==two].index.tolist()\n",
    "    second_spatial_coords = [(i,j) for i,j in zip(spatial_df.loc[second_cells][\"x\"].tolist(),spatial_df.loc[second_cells][\"y\"].tolist())]\n",
    "    min_list = []\n",
    "    for k in spatial_coords:\n",
    "        min_list.append(np.mean([math.dist(k,l) for l in second_spatial_coords]))\n",
    "    cellphone_spatial.append(np.mean(min_list))\n"
   ]
  },
  {
   "cell_type": "code",
   "execution_count": 24,
   "id": "a9a7b272",
   "metadata": {},
   "outputs": [],
   "source": [
    "cellchat_spatial = []\n",
    "for one,two in zip(temp_cellchat_df[\"source\"].tolist(),temp_cellchat_df[\"target\"].tolist()):\n",
    "    cells = meta[meta[\"label\"]==one].index.tolist()\n",
    "    spatial_coords = [(i,j) for i,j in zip(spatial_df.loc[cells][\"x\"].tolist(),spatial_df.loc[cells][\"y\"].tolist())]\n",
    "    #if two != one:\n",
    "    second_cells = meta[meta[\"label\"]==two].index.tolist()\n",
    "    second_spatial_coords = [(i,j) for i,j in zip(spatial_df.loc[second_cells][\"x\"].tolist(),spatial_df.loc[second_cells][\"y\"].tolist())]\n",
    "    min_list = []\n",
    "    for k in spatial_coords:\n",
    "        min_list.append(np.mean([math.dist(k,l) for l in second_spatial_coords]))\n",
    "    cellchat_spatial.append(np.mean(min_list))\n"
   ]
  },
  {
   "cell_type": "code",
   "execution_count": 25,
   "id": "1bc8e7f2",
   "metadata": {},
   "outputs": [],
   "source": [
    "connectome_spatial = []\n",
    "for one,two in zip(temp_connectome_df[\"source\"].tolist(),temp_connectome_df[\"target\"].tolist()):\n",
    "    cells = meta[meta[\"label\"]==one].index.tolist()\n",
    "    spatial_coords = [(i,j) for i,j in zip(spatial_df.loc[cells][\"x\"].tolist(),spatial_df.loc[cells][\"y\"].tolist())]\n",
    "    #if two != one:\n",
    "    second_cells = meta[meta[\"label\"]==two].index.tolist()\n",
    "    second_spatial_coords = [(i,j) for i,j in zip(spatial_df.loc[second_cells][\"x\"].tolist(),spatial_df.loc[second_cells][\"y\"].tolist())]\n",
    "    min_list = []\n",
    "    for k in spatial_coords:\n",
    "        min_list.append(np.mean([math.dist(k,l) for l in second_spatial_coords]))\n",
    "    connectome_spatial.append(np.mean(min_list))\n"
   ]
  },
  {
   "cell_type": "code",
   "execution_count": 26,
   "id": "ea722e16",
   "metadata": {},
   "outputs": [],
   "source": [
    "graphcomm_spatial = []\n",
    "for one,two in zip(input_data[\"Src Cell\"].tolist(),input_data[\"Dst Cell\"].tolist()):\n",
    "    cells = meta[meta[\"label\"]==one].index.tolist()\n",
    "    spatial_coords = [(i,j) for i,j in zip(spatial_df.loc[cells][\"x\"].tolist(),spatial_df.loc[cells][\"y\"].tolist())]\n",
    "    #if two != one:\n",
    "    second_cells = meta[meta[\"label\"]==two].index.tolist()\n",
    "    second_spatial_coords = [(i,j) for i,j in zip(spatial_df.loc[second_cells][\"x\"].tolist(),spatial_df.loc[second_cells][\"y\"].tolist())]\n",
    "    min_list = []\n",
    "    for k in spatial_coords:\n",
    "        min_list.append(np.mean([math.dist(k,l) for l in second_spatial_coords]))\n",
    "    graphcomm_spatial.append(np.mean(min_list))\n"
   ]
  },
  {
   "cell_type": "markdown",
   "id": "b5ed4c19-db4f-4f47-ad70-d9e354185a38",
   "metadata": {},
   "source": [
    "### extract randomized iterations"
   ]
  },
  {
   "cell_type": "code",
   "execution_count": 35,
   "id": "c44f011d",
   "metadata": {},
   "outputs": [],
   "source": [
    "df_list = []\n",
    "for i in range(100):\n",
    "    df_list.append(pd.read_csv(f\"/data/random_data/Cardiac_cells/spatial_{i+1}_random.csv\",index_col=0).drop_duplicates([\"Src Cell\",\"Dst Cell\"]))"
   ]
  },
  {
   "cell_type": "code",
   "execution_count": null,
   "id": "2a9d8015",
   "metadata": {},
   "outputs": [],
   "source": [
    "random_spatial = []\n",
    "for i in df_list:\n",
    "    temp_input = i\n",
    "    input_spatial = []\n",
    "    for one,two in zip(temp_input[\"Src Cell\"].tolist(),temp_input[\"Dst Cell\"].tolist()):\n",
    "        cells = meta[meta[\"label\"]==one].index.tolist()\n",
    "        spatial_coords = [(i,j) for i,j in zip(spatial_df.loc[cells][\"x\"].tolist(),spatial_df.loc[cells][\"y\"].tolist())]\n",
    "        if two != one:\n",
    "            second_cells = meta[meta[\"label\"]==two].index.tolist()\n",
    "            second_spatial_coords = [(i,j) for i,j in zip(spatial_df.loc[second_cells][\"x\"].tolist(),spatial_df.loc[second_cells][\"y\"].tolist())]\n",
    "            min_list = []\n",
    "            for k in spatial_coords:\n",
    "                min_list.append(np.mean([math.dist(k,l) for l in second_spatial_coords]))\n",
    "            input_spatial.append(np.mean(min_list))\n",
    "    random_spatial.append(input_spatial)\n"
   ]
  },
  {
   "cell_type": "code",
   "execution_count": 85,
   "id": "b660c203-d546-484f-b0ab-d61c3e3b0b0a",
   "metadata": {},
   "outputs": [],
   "source": [
    "new_random_spatial = []\n",
    "for i in random_spatial:\n",
    "    new_random_spatial.append([min([k for k in i if not np.isnan(k)]) if np.isnan(j) else j for j in i])"
   ]
  },
  {
   "cell_type": "code",
   "execution_count": 86,
   "id": "05177229",
   "metadata": {},
   "outputs": [],
   "source": [
    "random_average = []\n",
    "for i in range(10):\n",
    "    random_average.append(np.mean([j[i] for j in new_random_spatial]))"
   ]
  },
  {
   "cell_type": "code",
   "execution_count": 87,
   "id": "9fe9548b",
   "metadata": {},
   "outputs": [],
   "source": [
    "from scipy.stats import wilcoxon"
   ]
  },
  {
   "cell_type": "code",
   "execution_count": 88,
   "id": "e2e26dca",
   "metadata": {},
   "outputs": [],
   "source": [
    "x = [connectome_spatial,cellchat_spatial,cellphone_spatial,random_average,graphcomm_spatial]\n",
    "#x = [connectome_spatial,cellchat_spatial,cellphone_spatial,graphcomm_spatial]\n",
    "comparison_labels = ['Connectome',\"CellChat\",\"CellPhone\",\"Random\",\"GraphComm\"]\n",
    "df = pd.DataFrame(x, index=comparison_labels)\n"
   ]
  },
  {
   "cell_type": "markdown",
   "id": "9eab76c5-9c82-4d77-97e2-226071c30496",
   "metadata": {},
   "source": [
    "### visualize via ridgeline plot"
   ]
  },
  {
   "cell_type": "code",
   "execution_count": 91,
   "id": "bbc1f7c3",
   "metadata": {},
   "outputs": [],
   "source": [
    "import seaborn as sns"
   ]
  },
  {
   "cell_type": "code",
   "execution_count": 92,
   "id": "d1c9eeba-0bdd-4921-a588-ffaa46853102",
   "metadata": {},
   "outputs": [],
   "source": [
    "colors = ['#0000ff', '#3300cc', '#660099', '#990066', '#cc0033', '#ff0000']\n"
   ]
  },
  {
   "cell_type": "code",
   "execution_count": 93,
   "id": "4e7d9339-3327-4b6c-9eaf-e9de0db8cb16",
   "metadata": {},
   "outputs": [
    {
     "data": {
      "image/png": "[encoded data removed]",
      "text/plain": [
       "<Figure size 800x600 with 5 Axes>"
      ]
     },
     "metadata": {},
     "output_type": "display_data"
    }
   ],
   "source": [
    "import matplotlib.gridspec as grid_spec\n",
    "%matplotlib inline\n",
    "gs = (grid_spec.GridSpec(len(comparison_labels),1))\n",
    "\n",
    "fig = plt.figure(figsize=(8,6))\n",
    "\n",
    "i = 0\n",
    "\n",
    "#creating empty list\n",
    "ax_objs = []\n",
    "\n",
    "for label in comparison_labels:\n",
    "    # creating new axes object and appending to ax_objs\n",
    "    ax_objs.append(fig.add_subplot(gs[i:i+1, 0:]))\n",
    "\n",
    "    # plotting the distribution\n",
    "    plot = (df.loc[label].plot.kde(ax=ax_objs[-1],color=\"#f0f0f0\", lw=0.5)\n",
    "           )\n",
    "\n",
    "    # grabbing x and y data from the kde plot\n",
    "    x = plot.get_children()[0]._x\n",
    "    y = plot.get_children()[0]._y\n",
    "\n",
    "    # filling the space beneath the distribution\n",
    "    ax_objs[-1].fill_between(x,y,color=colors[i])\n",
    "\n",
    "    # setting uniform x and y lims\n",
    "    ax_objs[-1].set_xlim(0,1)\n",
    "    #ax_objs[-1].set_ylim(0,10)\n",
    "    ax_objs[-1].set_title(label)\n",
    "    i += 1\n",
    "\n",
    "plt.tight_layout()\n",
    "plt.show()"
   ]
  }
 ],
 "metadata": {
  "kernelspec": {
   "display_name": "Python 3 (ipykernel)",
   "language": "python",
   "name": "python3"
  },
  "language_info": {
   "codemirror_mode": {
    "name": "ipython",
    "version": 3
   },
   "file_extension": ".py",
   "mimetype": "text/x-python",
   "name": "python",
   "nbconvert_exporter": "python",
   "pygments_lexer": "ipython3",
   "version": "3.9.12"
  }
 },
 "nbformat": 4,
 "nbformat_minor": 5
}
