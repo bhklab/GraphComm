{
 "cells": [
  {
   "cell_type": "code",
   "execution_count": 1,
   "id": "987709cd-fde2-466e-a6b3-6861a4c4115f",
   "metadata": {},
   "outputs": [
    {
     "name": "stderr",
     "output_type": "stream",
     "text": [
      "/opt/conda/lib/python3.9/site-packages/tqdm/auto.py:22: TqdmWarning: IProgress not found. Please update jupyter and ipywidgets. See https://ipywidgets.readthedocs.io/en/stable/user_install.html\n",
      "  from .autonotebook import tqdm as notebook_tqdm\n"
     ]
    }
   ],
   "source": [
    "import omnipath\n",
    "import pandas as pd\n",
    "import liana"
   ]
  },
  {
   "cell_type": "code",
   "execution_count": 10,
   "id": "2bba3006-1787-4e2a-b817-7b97a6e89995",
   "metadata": {},
   "outputs": [],
   "source": [
    "new_Omnipath_database = pd.read_csv(\"/data/LR_database/complexes.csv\")"
   ]
  },
  {
   "cell_type": "code",
   "execution_count": 15,
   "id": "4bf09b95-c44a-42ff-b4ca-2a1465b30f3a",
   "metadata": {},
   "outputs": [
    {
     "data": {
      "text/plain": [
       "(8022,)"
      ]
     },
     "execution_count": 15,
     "metadata": {},
     "output_type": "execute_result"
    }
   ],
   "source": [
    "new_Omnipath_database[~new_Omnipath_database[\"complex\"].isnull()][\"member\"].unique().shape"
   ]
  },
  {
   "cell_type": "code",
   "execution_count": 16,
   "id": "2ccd1dc6-9459-4c20-b863-41ca9ad637f0",
   "metadata": {},
   "outputs": [
    {
     "data": {
      "text/plain": [
       "'1.0.6'"
      ]
     },
     "execution_count": 16,
     "metadata": {},
     "output_type": "execute_result"
    }
   ],
   "source": [
    "omnipath.__version__"
   ]
  },
  {
   "cell_type": "code",
   "execution_count": 97,
   "id": "378500b6-c477-416e-80de-52c5ddda2b7e",
   "metadata": {},
   "outputs": [],
   "source": [
    "#import validated interactions \n",
    "resource = omnipath.interactions.OmniPath.get()\n",
    "categories = omnipath.requests.Intercell.get()"
   ]
  },
  {
   "cell_type": "code",
   "execution_count": 100,
   "id": "d5154a53-6bfa-48ff-af05-d8c5aabed451",
   "metadata": {},
   "outputs": [
    {
     "name": "stderr",
     "output_type": "stream",
     "text": [
      "3.92MB [00:00, 10.0MB/s]\n"
     ]
    },
    {
     "data": {
      "text/html": [
       "<div>\n",
       "<style scoped>\n",
       "    .dataframe tbody tr th:only-of-type {\n",
       "        vertical-align: middle;\n",
       "    }\n",
       "\n",
       "    .dataframe tbody tr th {\n",
       "        vertical-align: top;\n",
       "    }\n",
       "\n",
       "    .dataframe thead th {\n",
       "        text-align: right;\n",
       "    }\n",
       "</style>\n",
       "<table border=\"1\" class=\"dataframe\">\n",
       "  <thead>\n",
       "    <tr style=\"text-align: right;\">\n",
       "      <th></th>\n",
       "      <th>name</th>\n",
       "      <th>components</th>\n",
       "      <th>components_genesymbols</th>\n",
       "      <th>stoichiometry</th>\n",
       "      <th>sources</th>\n",
       "      <th>references</th>\n",
       "      <th>identifiers</th>\n",
       "      <th>references_stripped</th>\n",
       "      <th>n_references</th>\n",
       "      <th>n_sources</th>\n",
       "      <th>n_primary_sources</th>\n",
       "    </tr>\n",
       "  </thead>\n",
       "  <tbody>\n",
       "    <tr>\n",
       "      <th>0</th>\n",
       "      <td>NFY</td>\n",
       "      <td>P23511_P25208_Q13952</td>\n",
       "      <td>NFYA_NFYB_NFYC</td>\n",
       "      <td>1:1:1</td>\n",
       "      <td>CORUM;Compleat;ComplexPortal;PDB;SIGNOR;SPIKE;...</td>\n",
       "      <td>9372932;14755292;15243141</td>\n",
       "      <td>CORUM:4478;Compleat:HC1449;PDB:4awl;PDB:6qmp;P...</td>\n",
       "      <td>1;2</td>\n",
       "      <td>2</td>\n",
       "      <td>8</td>\n",
       "      <td>8</td>\n",
       "    </tr>\n",
       "    <tr>\n",
       "      <th>1</th>\n",
       "      <td>mTORC2</td>\n",
       "      <td>P42345_P68104_P85299_Q6R327_Q8TB45_Q9BVC4</td>\n",
       "      <td>DEPTOR_EEF1A1_MLST8_MTOR_PRR5_RICTOR</td>\n",
       "      <td>0:0:0:0:0:0</td>\n",
       "      <td>SIGNOR</td>\n",
       "      <td>None</td>\n",
       "      <td>SIGNOR:SIGNOR-C2</td>\n",
       "      <td>None</td>\n",
       "      <td>None</td>\n",
       "      <td>1</td>\n",
       "      <td>1</td>\n",
       "    </tr>\n",
       "    <tr>\n",
       "      <th>2</th>\n",
       "      <td>mTORC1</td>\n",
       "      <td>P42345_Q8N122_Q8TB45_Q96B36_Q9BVC4</td>\n",
       "      <td>AKT1S1_DEPTOR_MLST8_MTOR_RPTOR</td>\n",
       "      <td>0:0:0:0:0</td>\n",
       "      <td>SIGNOR</td>\n",
       "      <td>None</td>\n",
       "      <td>SIGNOR:SIGNOR-C3</td>\n",
       "      <td>None</td>\n",
       "      <td>None</td>\n",
       "      <td>1</td>\n",
       "      <td>1</td>\n",
       "    </tr>\n",
       "    <tr>\n",
       "      <th>3</th>\n",
       "      <td>SCF-betaTRCP</td>\n",
       "      <td>P63208_Q13616_Q9Y297</td>\n",
       "      <td>BTRC_CUL1_SKP1</td>\n",
       "      <td>1:1:1</td>\n",
       "      <td>CORUM;Compleat;SIGNOR;SPIKE</td>\n",
       "      <td>9990852</td>\n",
       "      <td>CORUM:227;Compleat:HC757;SIGNOR:SIGNOR-C5</td>\n",
       "      <td>2</td>\n",
       "      <td>1</td>\n",
       "      <td>4</td>\n",
       "      <td>4</td>\n",
       "    </tr>\n",
       "    <tr>\n",
       "      <th>4</th>\n",
       "      <td>CBP/p300</td>\n",
       "      <td>Q09472_Q92793</td>\n",
       "      <td>CREBBP_EP300</td>\n",
       "      <td>0:0</td>\n",
       "      <td>SIGNOR</td>\n",
       "      <td>None</td>\n",
       "      <td>SIGNOR:SIGNOR-C6</td>\n",
       "      <td>None</td>\n",
       "      <td>None</td>\n",
       "      <td>1</td>\n",
       "      <td>1</td>\n",
       "    </tr>\n",
       "    <tr>\n",
       "      <th>...</th>\n",
       "      <td>...</td>\n",
       "      <td>...</td>\n",
       "      <td>...</td>\n",
       "      <td>...</td>\n",
       "      <td>...</td>\n",
       "      <td>...</td>\n",
       "      <td>...</td>\n",
       "      <td>...</td>\n",
       "      <td>...</td>\n",
       "      <td>...</td>\n",
       "      <td>...</td>\n",
       "    </tr>\n",
       "    <tr>\n",
       "      <th>35454</th>\n",
       "      <td>ING6-MYST4</td>\n",
       "      <td>O95696_P55201_Q8WYB5_Q8WYH8</td>\n",
       "      <td>BRD1_BRPF1_ING5_KAT6B</td>\n",
       "      <td>0:0:0:0</td>\n",
       "      <td>SPIKE</td>\n",
       "      <td>None</td>\n",
       "      <td>None</td>\n",
       "      <td>None</td>\n",
       "      <td>None</td>\n",
       "      <td>1</td>\n",
       "      <td>1</td>\n",
       "    </tr>\n",
       "    <tr>\n",
       "      <th>35455</th>\n",
       "      <td>RNAPIIo</td>\n",
       "      <td>P19387_P24928_P30876</td>\n",
       "      <td>POLR2A_POLR2B_POLR2C</td>\n",
       "      <td>0:0:0</td>\n",
       "      <td>SPIKE</td>\n",
       "      <td>None</td>\n",
       "      <td>None</td>\n",
       "      <td>None</td>\n",
       "      <td>None</td>\n",
       "      <td>1</td>\n",
       "      <td>1</td>\n",
       "    </tr>\n",
       "    <tr>\n",
       "      <th>35456</th>\n",
       "      <td>ING5-MYST2</td>\n",
       "      <td>O95251_Q6IE81_Q8WYH8</td>\n",
       "      <td>ING5_JADE1_KAT7</td>\n",
       "      <td>0:0:0</td>\n",
       "      <td>SPIKE</td>\n",
       "      <td>None</td>\n",
       "      <td>None</td>\n",
       "      <td>None</td>\n",
       "      <td>None</td>\n",
       "      <td>1</td>\n",
       "      <td>1</td>\n",
       "    </tr>\n",
       "    <tr>\n",
       "      <th>35457</th>\n",
       "      <td>MCM</td>\n",
       "      <td>P25205_P33991_P33992_P33993_P49736_Q14566_Q7L590</td>\n",
       "      <td>MCM10_MCM2_MCM3_MCM4_MCM5_MCM6_MCM7</td>\n",
       "      <td>0:0:0:0:0:0:0</td>\n",
       "      <td>SPIKE</td>\n",
       "      <td>None</td>\n",
       "      <td>None</td>\n",
       "      <td>None</td>\n",
       "      <td>None</td>\n",
       "      <td>1</td>\n",
       "      <td>1</td>\n",
       "    </tr>\n",
       "    <tr>\n",
       "      <th>35458</th>\n",
       "      <td>B-AgR</td>\n",
       "      <td>P11912_P40259</td>\n",
       "      <td>CD79A_CD79B</td>\n",
       "      <td>0:0</td>\n",
       "      <td>SPIKE</td>\n",
       "      <td>None</td>\n",
       "      <td>None</td>\n",
       "      <td>None</td>\n",
       "      <td>None</td>\n",
       "      <td>1</td>\n",
       "      <td>1</td>\n",
       "    </tr>\n",
       "  </tbody>\n",
       "</table>\n",
       "<p>35459 rows × 11 columns</p>\n",
       "</div>"
      ],
      "text/plain": [
       "               name                                        components  \\\n",
       "0               NFY                              P23511_P25208_Q13952   \n",
       "1            mTORC2         P42345_P68104_P85299_Q6R327_Q8TB45_Q9BVC4   \n",
       "2            mTORC1                P42345_Q8N122_Q8TB45_Q96B36_Q9BVC4   \n",
       "3      SCF-betaTRCP                              P63208_Q13616_Q9Y297   \n",
       "4          CBP/p300                                     Q09472_Q92793   \n",
       "...             ...                                               ...   \n",
       "35454    ING6-MYST4                       O95696_P55201_Q8WYB5_Q8WYH8   \n",
       "35455       RNAPIIo                              P19387_P24928_P30876   \n",
       "35456    ING5-MYST2                              O95251_Q6IE81_Q8WYH8   \n",
       "35457           MCM  P25205_P33991_P33992_P33993_P49736_Q14566_Q7L590   \n",
       "35458         B-AgR                                     P11912_P40259   \n",
       "\n",
       "                     components_genesymbols  stoichiometry  \\\n",
       "0                            NFYA_NFYB_NFYC          1:1:1   \n",
       "1      DEPTOR_EEF1A1_MLST8_MTOR_PRR5_RICTOR    0:0:0:0:0:0   \n",
       "2            AKT1S1_DEPTOR_MLST8_MTOR_RPTOR      0:0:0:0:0   \n",
       "3                            BTRC_CUL1_SKP1          1:1:1   \n",
       "4                              CREBBP_EP300            0:0   \n",
       "...                                     ...            ...   \n",
       "35454                 BRD1_BRPF1_ING5_KAT6B        0:0:0:0   \n",
       "35455                  POLR2A_POLR2B_POLR2C          0:0:0   \n",
       "35456                       ING5_JADE1_KAT7          0:0:0   \n",
       "35457   MCM10_MCM2_MCM3_MCM4_MCM5_MCM6_MCM7  0:0:0:0:0:0:0   \n",
       "35458                           CD79A_CD79B            0:0   \n",
       "\n",
       "                                                 sources  \\\n",
       "0      CORUM;Compleat;ComplexPortal;PDB;SIGNOR;SPIKE;...   \n",
       "1                                                 SIGNOR   \n",
       "2                                                 SIGNOR   \n",
       "3                            CORUM;Compleat;SIGNOR;SPIKE   \n",
       "4                                                 SIGNOR   \n",
       "...                                                  ...   \n",
       "35454                                              SPIKE   \n",
       "35455                                              SPIKE   \n",
       "35456                                              SPIKE   \n",
       "35457                                              SPIKE   \n",
       "35458                                              SPIKE   \n",
       "\n",
       "                      references  \\\n",
       "0      9372932;14755292;15243141   \n",
       "1                           None   \n",
       "2                           None   \n",
       "3                        9990852   \n",
       "4                           None   \n",
       "...                          ...   \n",
       "35454                       None   \n",
       "35455                       None   \n",
       "35456                       None   \n",
       "35457                       None   \n",
       "35458                       None   \n",
       "\n",
       "                                             identifiers references_stripped  \\\n",
       "0      CORUM:4478;Compleat:HC1449;PDB:4awl;PDB:6qmp;P...                 1;2   \n",
       "1                                       SIGNOR:SIGNOR-C2                None   \n",
       "2                                       SIGNOR:SIGNOR-C3                None   \n",
       "3              CORUM:227;Compleat:HC757;SIGNOR:SIGNOR-C5                   2   \n",
       "4                                       SIGNOR:SIGNOR-C6                None   \n",
       "...                                                  ...                 ...   \n",
       "35454                                               None                None   \n",
       "35455                                               None                None   \n",
       "35456                                               None                None   \n",
       "35457                                               None                None   \n",
       "35458                                               None                None   \n",
       "\n",
       "      n_references  n_sources  n_primary_sources  \n",
       "0                2          8                  8  \n",
       "1             None          1                  1  \n",
       "2             None          1                  1  \n",
       "3                1          4                  4  \n",
       "4             None          1                  1  \n",
       "...            ...        ...                ...  \n",
       "35454         None          1                  1  \n",
       "35455         None          1                  1  \n",
       "35456         None          1                  1  \n",
       "35457         None          1                  1  \n",
       "35458         None          1                  1  \n",
       "\n",
       "[35459 rows x 11 columns]"
      ]
     },
     "execution_count": 100,
     "metadata": {},
     "output_type": "execute_result"
    }
   ],
   "source": [
    "omnipath.requests.Complexes.get()"
   ]
  },
  {
   "cell_type": "code",
   "execution_count": 69,
   "id": "4d95a8f4-8ccc-4c59-86d9-8d6bafe52444",
   "metadata": {},
   "outputs": [],
   "source": [
    "available_ligands = categories[categories[\"category\"]==\"ligand\"][\"uniprot\"].tolist()\n",
    "available_receptors = categories[categories[\"category\"]==\"receptor\"][\"uniprot\"].tolist()"
   ]
  },
  {
   "cell_type": "code",
   "execution_count": 70,
   "id": "67a42e95-7e41-4beb-929c-a6b88d2a7a0f",
   "metadata": {},
   "outputs": [],
   "source": [
    "resource = resource[(resource[\"source\"].isin(available_ligands)) & (resource[\"target\"].isin(available_receptors))]"
   ]
  },
  {
   "cell_type": "markdown",
   "id": "2b9ce5f3-34ff-4b15-83e2-ddedd9fcb367",
   "metadata": {},
   "source": [
    "### map from UniProt to HGNC"
   ]
  },
  {
   "cell_type": "code",
   "execution_count": 71,
   "id": "617d0e80-19eb-44b8-9bdc-4f1bb43d404b",
   "metadata": {},
   "outputs": [],
   "source": [
    "source_mapping = pd.read_csv(\"/data/source_mapping.tsv\",sep=\"\\t\")\n",
    "dest_mapping = pd.read_csv(\"/data/dest_mapping.tsv\",sep=\"\\t\")"
   ]
  },
  {
   "cell_type": "code",
   "execution_count": 72,
   "id": "4b29c597-fcdd-49ce-a6c5-55596a5c5217",
   "metadata": {},
   "outputs": [],
   "source": [
    "resource = resource[(resource[\"source\"].isin(source_mapping[\"From\"]) & (resource[\"target\"].isin(source_mapping[\"From\"])))]\n",
    "resource = resource[[\"source\",\"target\",\"references\"]].drop_duplicates()"
   ]
  },
  {
   "cell_type": "code",
   "execution_count": 73,
   "id": "f9d46864-f74f-4048-aa7e-98840b77aab4",
   "metadata": {},
   "outputs": [
    {
     "data": {
      "text/html": [
       "<div>\n",
       "<style scoped>\n",
       "    .dataframe tbody tr th:only-of-type {\n",
       "        vertical-align: middle;\n",
       "    }\n",
       "\n",
       "    .dataframe tbody tr th {\n",
       "        vertical-align: top;\n",
       "    }\n",
       "\n",
       "    .dataframe thead th {\n",
       "        text-align: right;\n",
       "    }\n",
       "</style>\n",
       "<table border=\"1\" class=\"dataframe\">\n",
       "  <thead>\n",
       "    <tr style=\"text-align: right;\">\n",
       "      <th></th>\n",
       "      <th>source</th>\n",
       "      <th>target</th>\n",
       "      <th>references</th>\n",
       "    </tr>\n",
       "  </thead>\n",
       "  <tbody>\n",
       "    <tr>\n",
       "      <th>26</th>\n",
       "      <td>P19235</td>\n",
       "      <td>Q13507</td>\n",
       "      <td>TRIP:18276585;TRIP:19074769;TRIP:21757714</td>\n",
       "    </tr>\n",
       "    <tr>\n",
       "      <th>38</th>\n",
       "      <td>P06241</td>\n",
       "      <td>Q9UBN4</td>\n",
       "      <td>TRIP:16144838;TRIP:18048348;dbPTM:16144838</td>\n",
       "    </tr>\n",
       "    <tr>\n",
       "      <th>76</th>\n",
       "      <td>P06241</td>\n",
       "      <td>Q9HBA0</td>\n",
       "      <td>HPRD:12538589;SPIKE_LC:16713569;TRIP:12538589</td>\n",
       "    </tr>\n",
       "    <tr>\n",
       "      <th>94</th>\n",
       "      <td>Q9UEF7</td>\n",
       "      <td>Q9NQA5</td>\n",
       "      <td>TRIP:16239475;TRIP:18495742;TRIP:18606998</td>\n",
       "    </tr>\n",
       "    <tr>\n",
       "      <th>96</th>\n",
       "      <td>P60903</td>\n",
       "      <td>Q9NQA5</td>\n",
       "      <td>Lit-BM-17:12660155;TRIP:12660155</td>\n",
       "    </tr>\n",
       "    <tr>\n",
       "      <th>...</th>\n",
       "      <td>...</td>\n",
       "      <td>...</td>\n",
       "      <td>...</td>\n",
       "    </tr>\n",
       "    <tr>\n",
       "      <th>92130</th>\n",
       "      <td>P37840</td>\n",
       "      <td>Q02156</td>\n",
       "      <td>HPRD:10407019</td>\n",
       "    </tr>\n",
       "    <tr>\n",
       "      <th>92132</th>\n",
       "      <td>P37840</td>\n",
       "      <td>P07101</td>\n",
       "      <td>HPRD:11943812</td>\n",
       "    </tr>\n",
       "    <tr>\n",
       "      <th>92185</th>\n",
       "      <td>P41159</td>\n",
       "      <td>P54646</td>\n",
       "      <td>HPRD:11797013</td>\n",
       "    </tr>\n",
       "    <tr>\n",
       "      <th>92188</th>\n",
       "      <td>P06241</td>\n",
       "      <td>P15391</td>\n",
       "      <td>HPRD:7589101;SPIKE_LC:16713569</td>\n",
       "    </tr>\n",
       "    <tr>\n",
       "      <th>92254</th>\n",
       "      <td>P06241</td>\n",
       "      <td>P16070</td>\n",
       "      <td>HPRD:9573028;SPIKE_LC:16713569</td>\n",
       "    </tr>\n",
       "  </tbody>\n",
       "</table>\n",
       "<p>3599 rows × 3 columns</p>\n",
       "</div>"
      ],
      "text/plain": [
       "       source  target                                     references\n",
       "26     P19235  Q13507      TRIP:18276585;TRIP:19074769;TRIP:21757714\n",
       "38     P06241  Q9UBN4     TRIP:16144838;TRIP:18048348;dbPTM:16144838\n",
       "76     P06241  Q9HBA0  HPRD:12538589;SPIKE_LC:16713569;TRIP:12538589\n",
       "94     Q9UEF7  Q9NQA5      TRIP:16239475;TRIP:18495742;TRIP:18606998\n",
       "96     P60903  Q9NQA5               Lit-BM-17:12660155;TRIP:12660155\n",
       "...       ...     ...                                            ...\n",
       "92130  P37840  Q02156                                  HPRD:10407019\n",
       "92132  P37840  P07101                                  HPRD:11943812\n",
       "92185  P41159  P54646                                  HPRD:11797013\n",
       "92188  P06241  P15391                 HPRD:7589101;SPIKE_LC:16713569\n",
       "92254  P06241  P16070                 HPRD:9573028;SPIKE_LC:16713569\n",
       "\n",
       "[3599 rows x 3 columns]"
      ]
     },
     "execution_count": 73,
     "metadata": {},
     "output_type": "execute_result"
    }
   ],
   "source": [
    "resource"
   ]
  },
  {
   "cell_type": "markdown",
   "id": "6cbe1be7-c156-4e64-b034-ff3bc7693dc1",
   "metadata": {},
   "source": [
    "### reassign Uniprot IDs in Omnipath to HGNC"
   ]
  },
  {
   "cell_type": "code",
   "execution_count": 74,
   "id": "d4ee8d89-1fb9-4118-a8f4-e16dd79a2f0d",
   "metadata": {},
   "outputs": [],
   "source": [
    "source_mapping.index = source_mapping[\"From\"].tolist()\n",
    "dest_mapping.index = dest_mapping[\"From\"].tolist()\n",
    "source_mapping  = source_mapping.drop_duplicates([\"From\"])\n",
    "dest_mapping  = dest_mapping.drop_duplicates([\"From\"])"
   ]
  },
  {
   "cell_type": "code",
   "execution_count": 75,
   "id": "6945b3f4-a387-45e3-8f06-0477e65779f9",
   "metadata": {},
   "outputs": [],
   "source": [
    "resource[\"source\"] = source_mapping.loc[resource[\"source\"].tolist()][\"To\"].tolist()\n",
    "resource[\"target\"] = dest_mapping.loc[resource[\"target\"].tolist()][\"To\"].tolist()"
   ]
  },
  {
   "cell_type": "code",
   "execution_count": 82,
   "id": "acf043f6-f32b-4081-9683-b6c967557c44",
   "metadata": {},
   "outputs": [],
   "source": [
    "resource.to_csv(\"/data/LR_database/intercell_Omnipath.csv\")"
   ]
  },
  {
   "cell_type": "code",
   "execution_count": 83,
   "id": "58105225-1d1a-482c-ac7b-ae16e358fb95",
   "metadata": {},
   "outputs": [],
   "source": [
    "nodes = pd.DataFrame({\"category\":[\"ligand\"]*resource.shape[0] + [\"receptor\"]*resource.shape[0], \"identifier\":resource[\"source\"].tolist() + resource[\"target\"].tolist()})"
   ]
  },
  {
   "cell_type": "code",
   "execution_count": 85,
   "id": "930b5876-cd3e-4759-a524-864529a81acf",
   "metadata": {},
   "outputs": [],
   "source": [
    "nodes[\"Id\"] = range(nodes.shape[0])"
   ]
  },
  {
   "cell_type": "code",
   "execution_count": 88,
   "id": "8363e8b9-cb3d-4b21-a341-ea93ec0c9009",
   "metadata": {},
   "outputs": [],
   "source": [
    "nodes = nodes[[\"Id\",\"category\",\"identifier\"]]"
   ]
  },
  {
   "cell_type": "code",
   "execution_count": 89,
   "id": "378ea140-1a8f-4cea-b0f6-52bfbada171b",
   "metadata": {},
   "outputs": [],
   "source": [
    "nodes.to_csv(\"/data/LR_database/intercell_nodes.csv\")"
   ]
  },
  {
   "cell_type": "code",
   "execution_count": 94,
   "id": "10a9736e-f4da-4e0d-bbb9-c5080a9193bc",
   "metadata": {},
   "outputs": [],
   "source": [
    "nodes.index = nodes[\"identifier\"].tolist()"
   ]
  },
  {
   "cell_type": "code",
   "execution_count": null,
   "id": "e4a6cdbe-8ce0-421b-957f-68d5f9b19913",
   "metadata": {},
   "outputs": [],
   "source": [
    "resource[\"source\"] = nodes.loc[resource[\"source\"].tolist()][\"Id\"].tolist()\n",
    "resource[\"target\"] = nodes.loc[resource[\"target\"].tolist()][\"Id\"].tolist()"
   ]
  }
 ],
 "metadata": {
  "kernelspec": {
   "display_name": "Python 3 (ipykernel)",
   "language": "python",
   "name": "python3"
  },
  "language_info": {
   "codemirror_mode": {
    "name": "ipython",
    "version": 3
   },
   "file_extension": ".py",
   "mimetype": "text/x-python",
   "name": "python",
   "nbconvert_exporter": "python",
   "pygments_lexer": "ipython3",
   "version": "3.9.12"
  }
 },
 "nbformat": 4,
 "nbformat_minor": 5
}
