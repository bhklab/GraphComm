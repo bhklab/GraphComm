{
 "cells": [
  {
   "cell_type": "code",
   "execution_count": null,
   "metadata": {},
   "outputs": [],
   "source": [
    "import warnings\n",
    "warnings.filterwarnings('ignore')\n",
    "import pandas as pd\n",
    "import liana as li\n",
    "import anndata\n",
    "import scanpy as sc\n",
    "import os \n",
    "import scipy"
   ]
  },
  {
   "cell_type": "code",
   "execution_count": null,
   "metadata": {
    "colab": {
     "base_uri": "https://localhost:8080/"
    },
    "id": "F1op-CbyLuN4",
    "outputId": "77aaf048-dc7e-491d-a0ed-7a13f3692cc0"
   },
   "outputs": [
    {
     "name": "stdout",
     "output_type": "stream",
     "text": [
      "1.13.1+cu117\n",
      "1.13.1+cu117\n"
     ]
    }
   ],
   "source": [
    "# Install required packages.\n",
    "import os\n",
    "import torch\n",
    "os.environ['TORCH'] = torch.__version__\n",
    "print(torch.__version__)\n",
    "\n",
    "# !pip install -q torch-scatter -f https://data.pyg.org/whl/torch-${TORCH}.html\n",
    "# !pip install -q torch-sparse -f https://data.pyg.org/whl/torch-${TORCH}.html\n",
    "# !pip install -q git+https://github.com/pyg-team/pytorch_geometric.git\n",
    "\n",
    "# Helper function for visualization.\n",
    "%matplotlib inline\n",
    "import matplotlib.pyplot as plt\n",
    "from sklearn.manifold import TSNE\n",
    "from utils import *"
   ]
  },
  {
   "cell_type": "code",
   "execution_count": null,
   "metadata": {},
   "outputs": [],
   "source": [
    "import argparse\n",
    "import os.path as osp\n",
    "\n",
    "import torch\n",
    "import torch.nn.functional as F\n",
    "\n",
    "from torch_geometric.datasets import Entities\n",
    "from torch_geometric.nn import FastRGCNConv, RGCNConv, GCNConv, InnerProductDecoder, GAE, VGAE\n",
    "from torch_geometric.utils import k_hop_subgraph\n",
    "\n",
    "from torch_geometric.datasets import Planetoid\n",
    "from torch_geometric.data.data import Data\n",
    "from torch_geometric.transforms import NormalizeFeatures\n",
    "\n",
    "\n",
    "from sklearn.cluster import KMeans\n",
    "import matplotlib.pyplot as plt\n",
    "\n",
    "import pandas as pd\n",
    "import numpy as np\n",
    "\n",
    "from sklearn.metrics.pairwise import cosine_similarity\n",
    "from sklearn.cluster import SpectralClustering\n",
    "import random\n",
    "from sklearn.manifold import TSNE\n",
    "import matplotlib.pyplot as plt\n",
    "\n",
    "from sklearn.metrics.pairwise import cosine_similarity\n",
    "\n",
    "from scipy.io import mmread\n",
    "\n",
    "from scipy.stats import wilcoxon\n",
    "import anndata\n",
    "import scanpy as sc"
   ]
  },
  {
   "cell_type": "markdown",
   "metadata": {},
   "source": [
    "## Processing with csv file"
   ]
  },
  {
   "cell_type": "code",
   "execution_count": null,
   "metadata": {},
   "outputs": [],
   "source": [
    "matrix = pd.read_csv(\"../../data/GraphComm_Input/Pre_Post/GSE138267/GSM4104147_SC39.LB17019/matrix.csv\",index_col=0)"
   ]
  },
  {
   "cell_type": "code",
   "execution_count": null,
   "metadata": {},
   "outputs": [],
   "source": [
    "adata = anndata.AnnData(matrix.transpose())"
   ]
  },
  {
   "cell_type": "code",
   "execution_count": null,
   "metadata": {},
   "outputs": [],
   "source": [
    "adata"
   ]
  },
  {
   "cell_type": "code",
   "execution_count": null,
   "metadata": {},
   "outputs": [],
   "source": [
    "sc.pp.filter_genes(adata, min_cells=5)\n",
    "sc.pp.normalize_total(adata)\n",
    "sc.pp.log1p(adata)\n",
    "sc.pp.neighbors(adata)\n",
    "sc.tl.leiden(adata)"
   ]
  },
  {
   "cell_type": "code",
   "execution_count": null,
   "metadata": {},
   "outputs": [],
   "source": [
    "meta = pd.DataFrame({\"cell\":adata.obs[\"leiden\"].index.tolist(),\"labels\":adata.obs[\"leiden\"].tolist()})"
   ]
  },
  {
   "cell_type": "code",
   "execution_count": null,
   "metadata": {},
   "outputs": [],
   "source": [
    "meta.index = meta[\"cell\"].tolist()"
   ]
  },
  {
   "cell_type": "code",
   "execution_count": null,
   "metadata": {},
   "outputs": [],
   "source": [
    "adata.obs = meta"
   ]
  },
  {
   "cell_type": "code",
   "execution_count": null,
   "metadata": {},
   "outputs": [],
   "source": [
    "matrix = pd.DataFrame(adata.X.transpose(),columns=adata.obs.index.tolist(),index=adata.var.index.tolist())"
   ]
  },
  {
   "cell_type": "markdown",
   "metadata": {},
   "source": [
    "# Processing with h5ad"
   ]
  },
  {
   "cell_type": "code",
   "execution_count": null,
   "metadata": {},
   "outputs": [],
   "source": [
    "\n",
    "adata = sc.read_h5ad(\"/h/soemily/new_GAT/data/raw_data/Cardiac_cells/Visium-RZ_FZ_P5.h5ad\")\n",
    "matrix = pd.DataFrame.sparse.from_spmatrix(adata.X,index=adata.obs.index.tolist(),columns=adata.var[\"feature_name\"].tolist())\n",
    "sc.pp.filter_genes(adata, min_cells=10)\n",
    "sc.pp.normalize_total(adata)\n",
    "sc.pp.log1p(adata)\n",
    "sc.pp.neighbors(adata)\n",
    "sc.tl.leiden(adata)\n",
    "matrix = pd.DataFrame.sparse.from_spmatrix(adata.X,index=adata.obs.index.tolist(),columns=adata.var[\"feature_name\"].tolist())\n",
    "meta = pd.DataFrame({\"cell\":adata.obs.index.tolist(),\"labels\":adata.obs[\"cell_type_original\"].tolist()})\n",
    "meta.index = meta[\"cell\"].tolist()\n",
    "#removing lymphoid as it is only one cell, cannot be used in benchmarking\n",
    "meta = meta[meta['labels'] != \"Lymphoid\"]\n",
    "adata = adata[meta[\"cell\"].tolist()]\n",
    "matrix = matrix.transpose()\n",
    "\n",
    "matrix = matrix[meta.index.tolist()]\n",
    "\n",
    "index = matrix.index.tolist()\n",
    "adata.obs = meta\n"
   ]
  },
  {
   "cell_type": "markdown",
   "metadata": {},
   "source": [
    "# rest of preprocessing"
   ]
  },
  {
   "cell_type": "code",
   "execution_count": null,
   "metadata": {},
   "outputs": [],
   "source": [
    "#sc.tl.rank_genes_groups(adata, 'labels')\n",
    "cell_groups = meta['labels'].unique().tolist()\n",
    "matrix_list = {}\n",
    "for i in cell_groups:\n",
    "    cells = meta[meta[\"labels\"]==i].index.tolist()\n",
    "    temp_matrix = matrix[cells]\n",
    "    matrix_list[i] = (temp_matrix.mean(axis=1)[temp_matrix.mean(axis=1) >= 0].index.tolist())"
   ]
  },
  {
   "cell_type": "code",
   "execution_count": null,
   "metadata": {},
   "outputs": [],
   "source": [
    "adata = adata.transpose()"
   ]
  },
  {
   "cell_type": "code",
   "execution_count": null,
   "metadata": {},
   "outputs": [],
   "source": [
    "cell_type_df = matrix_list"
   ]
  },
  {
   "cell_type": "code",
   "execution_count": null,
   "metadata": {},
   "outputs": [],
   "source": [
    "#mean_expression = np.mean(matrix.values[matrix.values != 0])\n",
    "nodes = pd.DataFrame({\"category\":[],\"identifier\":[]})"
   ]
  },
  {
   "cell_type": "code",
   "execution_count": null,
   "metadata": {},
   "outputs": [],
   "source": [
    "LR_nodes = pd.read_csv(\"/data/LR_database/new_OmniPath_nodes.csv\",index_col=0)\n",
    "Omnipath_network = pd.read_csv(\"/data/LR_database/new_OmniPath_interactions.csv\",index_col=0)"
   ]
  },
  {
   "cell_type": "code",
   "execution_count": 145,
   "metadata": {},
   "outputs": [],
   "source": [
    "ligands = LR_nodes[LR_nodes[\"category\"]==\"Ligand\"][\"identifier\"].tolist()\n",
    "receptors = LR_nodes[LR_nodes[\"category\"]==\"Receptor\"][\"identifier\"].tolist()"
   ]
  },
  {
   "cell_type": "code",
   "execution_count": 146,
   "metadata": {},
   "outputs": [],
   "source": [
    "ligand_list = []\n",
    "receptor_list = []\n",
    "new_cell_df = {}\n",
    "for i in cell_type_df.keys():\n",
    "    ligand_list.extend(list(set(ligands) & set(cell_type_df[i])))\n",
    "    receptor_list.extend(list(set(receptors) & set(cell_type_df[i])))\n",
    "    new_cell_df[i] = [list(set(ligands) & set(cell_type_df[i])),list(set(receptors) & set(cell_type_df[i]))]"
   ]
  },
  {
   "cell_type": "code",
   "execution_count": 147,
   "metadata": {},
   "outputs": [],
   "source": [
    "for i in new_cell_df.keys():\n",
    "    new_cell_df[i][0] = [j+\"_Ligand\" for j in new_cell_df[i][0]]\n",
    "    new_cell_df[i][1] = [j+\"_Receptor\" for j in new_cell_df[i][1]]"
   ]
  },
  {
   "cell_type": "code",
   "execution_count": 148,
   "metadata": {},
   "outputs": [],
   "source": [
    "ligand_list = list(set(ligand_list))\n",
    "receptor_list = list(set(receptor_list))"
   ]
  },
  {
   "cell_type": "code",
   "execution_count": 149,
   "metadata": {},
   "outputs": [],
   "source": [
    "ligand_list = [i+\"_Ligand\" for i in ligand_list]\n",
    "receptor_list = [i+\"_Receptor\" for i in receptor_list]"
   ]
  },
  {
   "cell_type": "code",
   "execution_count": 150,
   "metadata": {},
   "outputs": [],
   "source": [
    "nodes = pd.concat([nodes,pd.DataFrame({\"category\":[\"Cell Group\"] * len(list(cell_type_df.keys())), \"identifier\":list(cell_type_df.keys())})])\n",
    "nodes = pd.concat([nodes,pd.DataFrame({\"category\":[\"Ligand\"] * len(ligand_list), \"identifier\":ligand_list})])\n",
    "nodes = pd.concat([nodes,pd.DataFrame({\"category\":[\"Receptor\"] * len(receptor_list), \"identifier\":receptor_list})])"
   ]
  },
  {
   "cell_type": "code",
   "execution_count": 151,
   "metadata": {},
   "outputs": [],
   "source": [
    "new_identifier = [row[\"identifier\"] + \"_\" + row[\"category\"] for index,row in LR_nodes.iterrows()]"
   ]
  },
  {
   "cell_type": "code",
   "execution_count": 152,
   "metadata": {},
   "outputs": [],
   "source": [
    "LR_nodes[\"identifier\"] = new_identifier"
   ]
  },
  {
   "cell_type": "code",
   "execution_count": 153,
   "metadata": {},
   "outputs": [],
   "source": [
    "nodes[\"Id\"] = range(0,nodes.shape[0])\n",
    "nodes = nodes[[\"Id\",\"category\",\"identifier\"]]"
   ]
  },
  {
   "cell_type": "code",
   "execution_count": 154,
   "metadata": {},
   "outputs": [],
   "source": [
    "nodes.index = nodes.index.astype('int')\n",
    "nodes[\"Id\"] = nodes[\"Id\"].astype('int')"
   ]
  },
  {
   "cell_type": "code",
   "execution_count": 155,
   "metadata": {},
   "outputs": [],
   "source": [
    "meta.index = meta[\"cell\"].tolist()"
   ]
  },
  {
   "cell_type": "code",
   "execution_count": 156,
   "metadata": {},
   "outputs": [],
   "source": [
    "interactions = pd.DataFrame({\"Src\":[],\"Dst\":[],\"Weight\":[],\"edge_type\":[]})"
   ]
  },
  {
   "cell_type": "code",
   "execution_count": 157,
   "metadata": {},
   "outputs": [],
   "source": [
    "LR_nodes.index = LR_nodes[\"Id\"].tolist()"
   ]
  },
  {
   "cell_type": "code",
   "execution_count": 158,
   "metadata": {},
   "outputs": [],
   "source": [
    "Omnipath_network[\"Src\"] = LR_nodes.loc[Omnipath_network[\"Src\"].tolist()][\"identifier\"].tolist()\n",
    "Omnipath_network[\"Dst\"] = LR_nodes.loc[Omnipath_network[\"Dst\"].tolist()][\"identifier\"].tolist()\n"
   ]
  },
  {
   "cell_type": "code",
   "execution_count": 159,
   "metadata": {},
   "outputs": [],
   "source": [
    "source_list = []\n",
    "dest_list = []\n",
    "weight_list = []\n",
    "edge_type_list = []\n",
    "for i in new_cell_df.keys():\n",
    "    source_list.extend([i] * (len(new_cell_df[i][0]) + len(new_cell_df[i][1])))\n",
    "    dest_list.extend(new_cell_df[i][0])\n",
    "    dest_list.extend(new_cell_df[i][1])\n",
    "    weight_list.extend([1] * (len(new_cell_df[i][0]) + len(new_cell_df[i][1])))\n",
    "    edge_type_list.extend([1] * (len(new_cell_df[i][0]) + len(new_cell_df[i][1])))"
   ]
  },
  {
   "cell_type": "code",
   "execution_count": 160,
   "metadata": {},
   "outputs": [],
   "source": [
    "interactions[\"Src\"] = source_list\n",
    "interactions[\"Dst\"] = dest_list\n",
    "interactions[\"Weight\"] = weight_list\n",
    "interactions[\"edge_type\"] = edge_type_list"
   ]
  },
  {
   "cell_type": "code",
   "execution_count": 161,
   "metadata": {},
   "outputs": [],
   "source": [
    "nodes.index = nodes[\"identifier\"].tolist()"
   ]
  },
  {
   "cell_type": "code",
   "execution_count": 162,
   "metadata": {},
   "outputs": [],
   "source": [
    "nodes = nodes.drop_duplicates(\"identifier\")\n",
    "nodes[\"Id\"] = range(0,nodes.shape[0])"
   ]
  },
  {
   "cell_type": "code",
   "execution_count": 163,
   "metadata": {},
   "outputs": [],
   "source": [
    "interactions[\"Src\"] = nodes.loc[interactions[\"Src\"].tolist()][\"Id\"].tolist()\n",
    "interactions[\"Dst\"] = nodes.loc[interactions[\"Dst\"].tolist()][\"Id\"].tolist()"
   ]
  },
  {
   "cell_type": "code",
   "execution_count": 164,
   "metadata": {},
   "outputs": [],
   "source": [
    "first_data,first_nodes,first_interactions = make_dataset(nodes,interactions,first=False,pathway_encode=False)"
   ]
  },
  {
   "cell_type": "markdown",
   "metadata": {},
   "source": [
    "# Edit the ground truth to only contain information from this dataset"
   ]
  },
  {
   "cell_type": "code",
   "execution_count": 165,
   "metadata": {},
   "outputs": [],
   "source": [
    "LR_nodes.index = LR_nodes[\"identifier\"].tolist()"
   ]
  },
  {
   "cell_type": "code",
   "execution_count": 166,
   "metadata": {},
   "outputs": [],
   "source": [
    "#LR_nodes[\"identifier\"] = [row[\"identifier\"] + \"_\" + row[\"category\"] for index,row in LR_nodes.iterrows()]\n",
    "LR_nodes = LR_nodes[(LR_nodes[\"identifier\"].isin(ligand_list)) | (LR_nodes[\"identifier\"].isin(receptor_list))]\n",
    "Omnipath_network = Omnipath_network[(Omnipath_network[\"Src\"].isin(LR_nodes[\"identifier\"].tolist())) & (Omnipath_network[\"Dst\"].isin(LR_nodes[\"identifier\"].tolist()))]"
   ]
  },
  {
   "cell_type": "code",
   "execution_count": 167,
   "metadata": {},
   "outputs": [],
   "source": [
    "ligand_list = Omnipath_network[\"Src\"].tolist()\n",
    "receptor_list = Omnipath_network[\"Dst\"].tolist()\n",
    "LR_nodes = LR_nodes[(LR_nodes[\"identifier\"].isin(ligand_list)) | (LR_nodes[\"identifier\"].isin(receptor_list))]\n",
    "Omnipath_network = Omnipath_network[(Omnipath_network[\"Src\"].isin(LR_nodes[\"identifier\"].tolist())) & (Omnipath_network[\"Dst\"].isin(LR_nodes[\"identifier\"].tolist()))]"
   ]
  },
  {
   "cell_type": "code",
   "execution_count": 168,
   "metadata": {},
   "outputs": [],
   "source": [
    "ligand_list = Omnipath_network[\"Src\"].tolist()\n",
    "receptor_list = Omnipath_network[\"Dst\"].tolist()"
   ]
  },
  {
   "cell_type": "code",
   "execution_count": 169,
   "metadata": {},
   "outputs": [],
   "source": [
    "LR_nodes[\"Id\"] = range(0,LR_nodes.shape[0])\n",
    "LR_nodes.index = LR_nodes[\"identifier\"].tolist()\n",
    "Omnipath_network[\"Src\"] = LR_nodes.loc[Omnipath_network[\"Src\"].tolist()][\"Id\"].tolist()\n",
    "Omnipath_network[\"Dst\"] = LR_nodes.loc[Omnipath_network[\"Dst\"].tolist()][\"Id\"].tolist()"
   ]
  },
  {
   "cell_type": "code",
   "execution_count": 170,
   "metadata": {},
   "outputs": [],
   "source": [
    "interactions[\"edge_type\"]=1"
   ]
  },
  {
   "cell_type": "code",
   "execution_count": null,
   "metadata": {},
   "outputs": [],
   "source": [
    "pd.read_csv(\"../..\")"
   ]
  },
  {
   "cell_type": "code",
   "execution_count": 77,
   "metadata": {},
   "outputs": [
    {
     "data": {
      "text/plain": [
       "0"
      ]
     },
     "execution_count": 77,
     "metadata": {},
     "output_type": "execute_result"
    }
   ],
   "source": [
    "os.system(\"mkdir -p /h/soemily/new_GAT/data/GraphComm_Input/Drosophila\")"
   ]
  },
  {
   "cell_type": "code",
   "execution_count": 119,
   "metadata": {},
   "outputs": [
    {
     "data": {
      "text/html": [
       "<div>\n",
       "<style scoped>\n",
       "    .dataframe tbody tr th:only-of-type {\n",
       "        vertical-align: middle;\n",
       "    }\n",
       "\n",
       "    .dataframe tbody tr th {\n",
       "        vertical-align: top;\n",
       "    }\n",
       "\n",
       "    .dataframe thead th {\n",
       "        text-align: right;\n",
       "    }\n",
       "</style>\n",
       "<table border=\"1\" class=\"dataframe\">\n",
       "  <thead>\n",
       "    <tr style=\"text-align: right;\">\n",
       "      <th></th>\n",
       "      <th>Id</th>\n",
       "      <th>category</th>\n",
       "      <th>identifier</th>\n",
       "    </tr>\n",
       "  </thead>\n",
       "  <tbody>\n",
       "    <tr>\n",
       "      <th>0</th>\n",
       "      <td>0</td>\n",
       "      <td>Cell Group</td>\n",
       "      <td>0</td>\n",
       "    </tr>\n",
       "    <tr>\n",
       "      <th>13</th>\n",
       "      <td>1</td>\n",
       "      <td>Cell Group</td>\n",
       "      <td>13</td>\n",
       "    </tr>\n",
       "    <tr>\n",
       "      <th>15</th>\n",
       "      <td>2</td>\n",
       "      <td>Cell Group</td>\n",
       "      <td>15</td>\n",
       "    </tr>\n",
       "    <tr>\n",
       "      <th>6</th>\n",
       "      <td>3</td>\n",
       "      <td>Cell Group</td>\n",
       "      <td>6</td>\n",
       "    </tr>\n",
       "    <tr>\n",
       "      <th>7</th>\n",
       "      <td>4</td>\n",
       "      <td>Cell Group</td>\n",
       "      <td>7</td>\n",
       "    </tr>\n",
       "    <tr>\n",
       "      <th>...</th>\n",
       "      <td>...</td>\n",
       "      <td>...</td>\n",
       "      <td>...</td>\n",
       "    </tr>\n",
       "    <tr>\n",
       "      <th>RIOK2_Receptor</th>\n",
       "      <td>433</td>\n",
       "      <td>Receptor</td>\n",
       "      <td>RIOK2_Receptor</td>\n",
       "    </tr>\n",
       "    <tr>\n",
       "      <th>SLU7_Receptor</th>\n",
       "      <td>434</td>\n",
       "      <td>Receptor</td>\n",
       "      <td>SLU7_Receptor</td>\n",
       "    </tr>\n",
       "    <tr>\n",
       "      <th>FEN1_Receptor</th>\n",
       "      <td>435</td>\n",
       "      <td>Receptor</td>\n",
       "      <td>FEN1_Receptor</td>\n",
       "    </tr>\n",
       "    <tr>\n",
       "      <th>RIF1_Receptor</th>\n",
       "      <td>436</td>\n",
       "      <td>Receptor</td>\n",
       "      <td>RIF1_Receptor</td>\n",
       "    </tr>\n",
       "    <tr>\n",
       "      <th>MUS81_Receptor</th>\n",
       "      <td>437</td>\n",
       "      <td>Receptor</td>\n",
       "      <td>MUS81_Receptor</td>\n",
       "    </tr>\n",
       "  </tbody>\n",
       "</table>\n",
       "<p>438 rows × 3 columns</p>\n",
       "</div>"
      ],
      "text/plain": [
       "                 Id    category      identifier\n",
       "0                 0  Cell Group               0\n",
       "13                1  Cell Group              13\n",
       "15                2  Cell Group              15\n",
       "6                 3  Cell Group               6\n",
       "7                 4  Cell Group               7\n",
       "...             ...         ...             ...\n",
       "RIOK2_Receptor  433    Receptor  RIOK2_Receptor\n",
       "SLU7_Receptor   434    Receptor   SLU7_Receptor\n",
       "FEN1_Receptor   435    Receptor   FEN1_Receptor\n",
       "RIF1_Receptor   436    Receptor   RIF1_Receptor\n",
       "MUS81_Receptor  437    Receptor  MUS81_Receptor\n",
       "\n",
       "[438 rows x 3 columns]"
      ]
     },
     "execution_count": 119,
     "metadata": {},
     "output_type": "execute_result"
    }
   ],
   "source": [
    "nodes"
   ]
  },
  {
   "cell_type": "code",
   "execution_count": 44,
   "metadata": {},
   "outputs": [],
   "source": [
    "nodes.to_csv(\"/h/soemily/new_GAT/data/GraphComm_Input/Drosophila/nodes.csv\")\n",
    "interactions.to_csv(\"/h/soemily/new_GAT/data/GraphComm_Input/Drosophila/interactions.csv\")\n",
    "meta.to_csv(\"/h/soemily/new_GAT/data/GraphComm_Input/Drosophila/meta.csv\")\n",
    "#matrix.to_csv(\"/h/soemily/new_GAT/data/GraphComm_Input/Drosophila/matrix.csv\")\n",
    "LR_nodes.to_csv(\"/h/soemily/new_GAT/data/GraphComm_Input/Drosophila/LR_nodes.csv\")\n",
    "Omnipath_network.to_csv(\"/h/soemily/new_GAT/data/GraphComm_Input/Drosophila/Omnipath_network.csv\")"
   ]
  },
  {
   "cell_type": "code",
   "execution_count": 45,
   "metadata": {},
   "outputs": [
    {
     "data": {
      "text/html": [
       "<div>\n",
       "<style scoped>\n",
       "    .dataframe tbody tr th:only-of-type {\n",
       "        vertical-align: middle;\n",
       "    }\n",
       "\n",
       "    .dataframe tbody tr th {\n",
       "        vertical-align: top;\n",
       "    }\n",
       "\n",
       "    .dataframe thead th {\n",
       "        text-align: right;\n",
       "    }\n",
       "</style>\n",
       "<table border=\"1\" class=\"dataframe\">\n",
       "  <thead>\n",
       "    <tr style=\"text-align: right;\">\n",
       "      <th></th>\n",
       "      <th>TCCCTAAAGTAN</th>\n",
       "      <th>TTTAAGCTCTTN</th>\n",
       "      <th>AGAGAGAATACA</th>\n",
       "      <th>GCCCGTGGAGCA</th>\n",
       "      <th>ACTAGACCAAGT</th>\n",
       "      <th>CACTTAATCTAC</th>\n",
       "      <th>CGCCCTTACTAC</th>\n",
       "      <th>CCTTTTATGGAC</th>\n",
       "      <th>GGAATAGACGGT</th>\n",
       "      <th>AGCTATGACATT</th>\n",
       "      <th>...</th>\n",
       "      <th>TCTGTTTCTGGT</th>\n",
       "      <th>TATAGGCCCTGA</th>\n",
       "      <th>GACGGATAACCG</th>\n",
       "      <th>AACGTTCCTCTC</th>\n",
       "      <th>AACATTCGAAAA</th>\n",
       "      <th>ACATTTGAACGT</th>\n",
       "      <th>TTAGTCACATAT</th>\n",
       "      <th>CCAACAGTACTN</th>\n",
       "      <th>AATTATCGCCTA</th>\n",
       "      <th>GCGACACTCTAC</th>\n",
       "    </tr>\n",
       "  </thead>\n",
       "  <tbody>\n",
       "    <tr>\n",
       "      <th>NAN</th>\n",
       "      <td>0.027214</td>\n",
       "      <td>0.061960</td>\n",
       "      <td>0.000000</td>\n",
       "      <td>0.000000</td>\n",
       "      <td>0.024669</td>\n",
       "      <td>0.000000</td>\n",
       "      <td>0.000000</td>\n",
       "      <td>0.000000</td>\n",
       "      <td>0.000000</td>\n",
       "      <td>0.000000</td>\n",
       "      <td>...</td>\n",
       "      <td>0.0</td>\n",
       "      <td>0.0</td>\n",
       "      <td>0.0</td>\n",
       "      <td>0.0</td>\n",
       "      <td>0.0</td>\n",
       "      <td>0.0</td>\n",
       "      <td>0.0</td>\n",
       "      <td>0.0</td>\n",
       "      <td>0.0</td>\n",
       "      <td>0.0</td>\n",
       "    </tr>\n",
       "    <tr>\n",
       "      <th>CG1463</th>\n",
       "      <td>0.243722</td>\n",
       "      <td>0.140006</td>\n",
       "      <td>0.256528</td>\n",
       "      <td>0.178183</td>\n",
       "      <td>0.163851</td>\n",
       "      <td>0.362570</td>\n",
       "      <td>0.245377</td>\n",
       "      <td>0.149403</td>\n",
       "      <td>0.107093</td>\n",
       "      <td>0.138805</td>\n",
       "      <td>...</td>\n",
       "      <td>0.0</td>\n",
       "      <td>0.0</td>\n",
       "      <td>0.0</td>\n",
       "      <td>0.0</td>\n",
       "      <td>0.0</td>\n",
       "      <td>0.0</td>\n",
       "      <td>0.0</td>\n",
       "      <td>0.0</td>\n",
       "      <td>0.0</td>\n",
       "      <td>0.0</td>\n",
       "    </tr>\n",
       "    <tr>\n",
       "      <th>CG15706</th>\n",
       "      <td>0.000000</td>\n",
       "      <td>0.115672</td>\n",
       "      <td>0.000000</td>\n",
       "      <td>0.052641</td>\n",
       "      <td>0.047901</td>\n",
       "      <td>0.062303</td>\n",
       "      <td>0.130457</td>\n",
       "      <td>0.034702</td>\n",
       "      <td>0.074277</td>\n",
       "      <td>0.061500</td>\n",
       "      <td>...</td>\n",
       "      <td>0.0</td>\n",
       "      <td>0.0</td>\n",
       "      <td>0.0</td>\n",
       "      <td>0.0</td>\n",
       "      <td>0.0</td>\n",
       "      <td>0.0</td>\n",
       "      <td>0.0</td>\n",
       "      <td>0.0</td>\n",
       "      <td>0.0</td>\n",
       "      <td>0.0</td>\n",
       "    </tr>\n",
       "    <tr>\n",
       "      <th>HIS3.3B</th>\n",
       "      <td>1.079375</td>\n",
       "      <td>1.069833</td>\n",
       "      <td>1.046530</td>\n",
       "      <td>1.066682</td>\n",
       "      <td>1.057468</td>\n",
       "      <td>1.047348</td>\n",
       "      <td>1.120534</td>\n",
       "      <td>1.042432</td>\n",
       "      <td>1.104816</td>\n",
       "      <td>1.003525</td>\n",
       "      <td>...</td>\n",
       "      <td>0.0</td>\n",
       "      <td>0.0</td>\n",
       "      <td>0.0</td>\n",
       "      <td>0.0</td>\n",
       "      <td>0.0</td>\n",
       "      <td>0.0</td>\n",
       "      <td>0.0</td>\n",
       "      <td>0.0</td>\n",
       "      <td>0.0</td>\n",
       "      <td>0.0</td>\n",
       "    </tr>\n",
       "    <tr>\n",
       "      <th>IX</th>\n",
       "      <td>0.160185</td>\n",
       "      <td>0.089723</td>\n",
       "      <td>0.131374</td>\n",
       "      <td>0.052641</td>\n",
       "      <td>0.163851</td>\n",
       "      <td>0.090161</td>\n",
       "      <td>0.319742</td>\n",
       "      <td>0.096247</td>\n",
       "      <td>0.038722</td>\n",
       "      <td>0.161443</td>\n",
       "      <td>...</td>\n",
       "      <td>0.0</td>\n",
       "      <td>0.0</td>\n",
       "      <td>0.0</td>\n",
       "      <td>0.0</td>\n",
       "      <td>0.0</td>\n",
       "      <td>0.0</td>\n",
       "      <td>0.0</td>\n",
       "      <td>0.0</td>\n",
       "      <td>0.0</td>\n",
       "      <td>0.0</td>\n",
       "    </tr>\n",
       "    <tr>\n",
       "      <th>...</th>\n",
       "      <td>...</td>\n",
       "      <td>...</td>\n",
       "      <td>...</td>\n",
       "      <td>...</td>\n",
       "      <td>...</td>\n",
       "      <td>...</td>\n",
       "      <td>...</td>\n",
       "      <td>...</td>\n",
       "      <td>...</td>\n",
       "      <td>...</td>\n",
       "      <td>...</td>\n",
       "      <td>...</td>\n",
       "      <td>...</td>\n",
       "      <td>...</td>\n",
       "      <td>...</td>\n",
       "      <td>...</td>\n",
       "      <td>...</td>\n",
       "      <td>...</td>\n",
       "      <td>...</td>\n",
       "      <td>...</td>\n",
       "      <td>...</td>\n",
       "    </tr>\n",
       "    <tr>\n",
       "      <th>CG43156</th>\n",
       "      <td>0.052724</td>\n",
       "      <td>0.000000</td>\n",
       "      <td>0.000000</td>\n",
       "      <td>0.000000</td>\n",
       "      <td>0.000000</td>\n",
       "      <td>0.000000</td>\n",
       "      <td>0.000000</td>\n",
       "      <td>0.000000</td>\n",
       "      <td>0.000000</td>\n",
       "      <td>0.000000</td>\n",
       "      <td>...</td>\n",
       "      <td>0.0</td>\n",
       "      <td>0.0</td>\n",
       "      <td>0.0</td>\n",
       "      <td>0.0</td>\n",
       "      <td>0.0</td>\n",
       "      <td>0.0</td>\n",
       "      <td>0.0</td>\n",
       "      <td>0.0</td>\n",
       "      <td>0.0</td>\n",
       "      <td>0.0</td>\n",
       "    </tr>\n",
       "    <tr>\n",
       "      <th>RIC</th>\n",
       "      <td>0.052724</td>\n",
       "      <td>0.162892</td>\n",
       "      <td>0.048766</td>\n",
       "      <td>0.052641</td>\n",
       "      <td>0.110294</td>\n",
       "      <td>0.062303</td>\n",
       "      <td>0.000000</td>\n",
       "      <td>0.066664</td>\n",
       "      <td>0.074277</td>\n",
       "      <td>0.089019</td>\n",
       "      <td>...</td>\n",
       "      <td>0.0</td>\n",
       "      <td>0.0</td>\n",
       "      <td>0.0</td>\n",
       "      <td>0.0</td>\n",
       "      <td>0.0</td>\n",
       "      <td>0.0</td>\n",
       "      <td>0.0</td>\n",
       "      <td>0.0</td>\n",
       "      <td>0.0</td>\n",
       "      <td>0.0</td>\n",
       "    </tr>\n",
       "    <tr>\n",
       "      <th>SA</th>\n",
       "      <td>0.052724</td>\n",
       "      <td>0.089723</td>\n",
       "      <td>0.025113</td>\n",
       "      <td>0.052641</td>\n",
       "      <td>0.069837</td>\n",
       "      <td>0.032347</td>\n",
       "      <td>0.083140</td>\n",
       "      <td>0.123744</td>\n",
       "      <td>0.107093</td>\n",
       "      <td>0.089019</td>\n",
       "      <td>...</td>\n",
       "      <td>0.0</td>\n",
       "      <td>0.0</td>\n",
       "      <td>0.0</td>\n",
       "      <td>0.0</td>\n",
       "      <td>0.0</td>\n",
       "      <td>0.0</td>\n",
       "      <td>0.0</td>\n",
       "      <td>0.0</td>\n",
       "      <td>0.0</td>\n",
       "      <td>0.0</td>\n",
       "    </tr>\n",
       "    <tr>\n",
       "      <th>MRPL10</th>\n",
       "      <td>0.076710</td>\n",
       "      <td>0.089723</td>\n",
       "      <td>0.092247</td>\n",
       "      <td>0.195587</td>\n",
       "      <td>0.110294</td>\n",
       "      <td>0.062303</td>\n",
       "      <td>0.172715</td>\n",
       "      <td>0.000000</td>\n",
       "      <td>0.192317</td>\n",
       "      <td>0.061500</td>\n",
       "      <td>...</td>\n",
       "      <td>0.0</td>\n",
       "      <td>0.0</td>\n",
       "      <td>0.0</td>\n",
       "      <td>0.0</td>\n",
       "      <td>0.0</td>\n",
       "      <td>0.0</td>\n",
       "      <td>0.0</td>\n",
       "      <td>0.0</td>\n",
       "      <td>0.0</td>\n",
       "      <td>0.0</td>\n",
       "    </tr>\n",
       "    <tr>\n",
       "      <th>CR43786</th>\n",
       "      <td>0.000000</td>\n",
       "      <td>0.000000</td>\n",
       "      <td>0.000000</td>\n",
       "      <td>0.000000</td>\n",
       "      <td>0.000000</td>\n",
       "      <td>0.032347</td>\n",
       "      <td>0.000000</td>\n",
       "      <td>0.000000</td>\n",
       "      <td>0.000000</td>\n",
       "      <td>0.000000</td>\n",
       "      <td>...</td>\n",
       "      <td>0.0</td>\n",
       "      <td>0.0</td>\n",
       "      <td>0.0</td>\n",
       "      <td>0.0</td>\n",
       "      <td>0.0</td>\n",
       "      <td>0.0</td>\n",
       "      <td>0.0</td>\n",
       "      <td>0.0</td>\n",
       "      <td>0.0</td>\n",
       "      <td>0.0</td>\n",
       "    </tr>\n",
       "  </tbody>\n",
       "</table>\n",
       "<p>8443 rows × 5835 columns</p>\n",
       "</div>"
      ],
      "text/plain": [
       "         TCCCTAAAGTAN  TTTAAGCTCTTN  AGAGAGAATACA  GCCCGTGGAGCA  ACTAGACCAAGT  \\\n",
       "NAN          0.027214      0.061960      0.000000      0.000000      0.024669   \n",
       "CG1463       0.243722      0.140006      0.256528      0.178183      0.163851   \n",
       "CG15706      0.000000      0.115672      0.000000      0.052641      0.047901   \n",
       "HIS3.3B      1.079375      1.069833      1.046530      1.066682      1.057468   \n",
       "IX           0.160185      0.089723      0.131374      0.052641      0.163851   \n",
       "...               ...           ...           ...           ...           ...   \n",
       "CG43156      0.052724      0.000000      0.000000      0.000000      0.000000   \n",
       "RIC          0.052724      0.162892      0.048766      0.052641      0.110294   \n",
       "SA           0.052724      0.089723      0.025113      0.052641      0.069837   \n",
       "MRPL10       0.076710      0.089723      0.092247      0.195587      0.110294   \n",
       "CR43786      0.000000      0.000000      0.000000      0.000000      0.000000   \n",
       "\n",
       "         CACTTAATCTAC  CGCCCTTACTAC  CCTTTTATGGAC  GGAATAGACGGT  AGCTATGACATT  \\\n",
       "NAN          0.000000      0.000000      0.000000      0.000000      0.000000   \n",
       "CG1463       0.362570      0.245377      0.149403      0.107093      0.138805   \n",
       "CG15706      0.062303      0.130457      0.034702      0.074277      0.061500   \n",
       "HIS3.3B      1.047348      1.120534      1.042432      1.104816      1.003525   \n",
       "IX           0.090161      0.319742      0.096247      0.038722      0.161443   \n",
       "...               ...           ...           ...           ...           ...   \n",
       "CG43156      0.000000      0.000000      0.000000      0.000000      0.000000   \n",
       "RIC          0.062303      0.000000      0.066664      0.074277      0.089019   \n",
       "SA           0.032347      0.083140      0.123744      0.107093      0.089019   \n",
       "MRPL10       0.062303      0.172715      0.000000      0.192317      0.061500   \n",
       "CR43786      0.032347      0.000000      0.000000      0.000000      0.000000   \n",
       "\n",
       "         ...  TCTGTTTCTGGT  TATAGGCCCTGA  GACGGATAACCG  AACGTTCCTCTC  \\\n",
       "NAN      ...           0.0           0.0           0.0           0.0   \n",
       "CG1463   ...           0.0           0.0           0.0           0.0   \n",
       "CG15706  ...           0.0           0.0           0.0           0.0   \n",
       "HIS3.3B  ...           0.0           0.0           0.0           0.0   \n",
       "IX       ...           0.0           0.0           0.0           0.0   \n",
       "...      ...           ...           ...           ...           ...   \n",
       "CG43156  ...           0.0           0.0           0.0           0.0   \n",
       "RIC      ...           0.0           0.0           0.0           0.0   \n",
       "SA       ...           0.0           0.0           0.0           0.0   \n",
       "MRPL10   ...           0.0           0.0           0.0           0.0   \n",
       "CR43786  ...           0.0           0.0           0.0           0.0   \n",
       "\n",
       "         AACATTCGAAAA  ACATTTGAACGT  TTAGTCACATAT  CCAACAGTACTN  AATTATCGCCTA  \\\n",
       "NAN               0.0           0.0           0.0           0.0           0.0   \n",
       "CG1463            0.0           0.0           0.0           0.0           0.0   \n",
       "CG15706           0.0           0.0           0.0           0.0           0.0   \n",
       "HIS3.3B           0.0           0.0           0.0           0.0           0.0   \n",
       "IX                0.0           0.0           0.0           0.0           0.0   \n",
       "...               ...           ...           ...           ...           ...   \n",
       "CG43156           0.0           0.0           0.0           0.0           0.0   \n",
       "RIC               0.0           0.0           0.0           0.0           0.0   \n",
       "SA                0.0           0.0           0.0           0.0           0.0   \n",
       "MRPL10            0.0           0.0           0.0           0.0           0.0   \n",
       "CR43786           0.0           0.0           0.0           0.0           0.0   \n",
       "\n",
       "         GCGACACTCTAC  \n",
       "NAN               0.0  \n",
       "CG1463            0.0  \n",
       "CG15706           0.0  \n",
       "HIS3.3B           0.0  \n",
       "IX                0.0  \n",
       "...               ...  \n",
       "CG43156           0.0  \n",
       "RIC               0.0  \n",
       "SA                0.0  \n",
       "MRPL10            0.0  \n",
       "CR43786           0.0  \n",
       "\n",
       "[8443 rows x 5835 columns]"
      ]
     },
     "execution_count": 45,
     "metadata": {},
     "output_type": "execute_result"
    }
   ],
   "source": [
    "matrix"
   ]
  },
  {
   "cell_type": "code",
   "execution_count": null,
   "metadata": {},
   "outputs": [],
   "source": []
  }
 ],
 "metadata": {
  "colab": {
   "collapsed_sections": [],
   "name": "2. Node Classification.ipynb",
   "provenance": []
  },
  "kernelspec": {
   "display_name": "Python 3",
   "language": "python",
   "name": "python3"
  },
  "language_info": {
   "codemirror_mode": {
    "name": "ipython",
    "version": 3
   },
   "file_extension": ".py",
   "mimetype": "text/x-python",
   "name": "python",
   "nbconvert_exporter": "python",
   "pygments_lexer": "ipython3",
   "version": "3.9.12"
  }
 },
 "nbformat": 4,
 "nbformat_minor": 4
}
