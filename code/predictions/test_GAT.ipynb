{
 "cells": [
  {
   "cell_type": "code",
   "execution_count": 1,
   "id": "3c2bebb9",
   "metadata": {},
   "outputs": [],
   "source": [
    "import warnings\n",
    "warnings.filterwarnings('ignore')\n",
    "import pandas as pd\n",
    "import liana as li\n",
    "import anndata\n",
    "import scanpy as sc\n",
    "import os \n",
    "from utils import *\n",
    "from model import *\n",
    "import argparse\n",
    "import os.path as osp\n",
    "\n",
    "import torch\n",
    "import torch.nn.functional as F\n",
    "\n",
    "from torch_geometric.datasets import Entities\n",
    "from torch_geometric.nn import FastRGCNConv, RGCNConv, GCNConv, GAE, VGAE\n",
    "from torch_geometric.utils import k_hop_subgraph\n",
    "\n",
    "from torch_geometric.datasets import Planetoid\n",
    "from torch_geometric.data.data import Data\n",
    "from torch_geometric.transforms import NormalizeFeatures\n",
    "\n",
    "\n",
    "from sklearn.cluster import KMeans\n",
    "import matplotlib.pyplot as plt\n",
    "\n",
    "import pandas as pd\n",
    "import numpy as np\n",
    "\n",
    "from sklearn.metrics.pairwise import cosine_similarity\n",
    "from sklearn.cluster import SpectralClustering\n",
    "import random\n",
    "from sklearn.manifold import TSNE\n",
    "import matplotlib.pyplot as plt\n",
    "\n",
    "from sklearn.metrics.pairwise import cosine_similarity\n",
    "\n",
    "from scipy.io import mmread\n",
    "\n",
    "import argparse\n"
   ]
  },
  {
   "cell_type": "code",
   "execution_count": 68,
   "id": "b67ac2c6",
   "metadata": {},
   "outputs": [],
   "source": [
    "dataset = \"Cardiac_cells/RZ_FZ_P5\""
   ]
  },
  {
   "cell_type": "code",
   "execution_count": 69,
   "id": "ef294ff9",
   "metadata": {},
   "outputs": [],
   "source": [
    "raw_spatial = \"../../data/raw_data/Cardiac_cells/Visium-RZ_FZ_P5.h5ad\""
   ]
  },
  {
   "cell_type": "code",
   "execution_count": 70,
   "id": "0d847c24",
   "metadata": {},
   "outputs": [],
   "source": [
    "nodes = pd.read_csv(f\"../../data/GraphComm_Input/{dataset}/nodes.csv\",index_col=0)\n",
    "interactions = pd.read_csv(f\"../../data/GraphComm_Input/{dataset}/interactions.csv\",index_col=0)\n",
    "matrix = pd.read_csv(f\"../../data/GraphComm_Input/{dataset}/matrix.csv\",index_col=0)\n",
    "meta = pd.read_csv(f\"../../data/GraphComm_Input/{dataset}/meta.csv\",index_col=0)\n",
    "LR_nodes = pd.read_csv(f\"../../data/GraphComm_Input/{dataset}/LR_nodes.csv\",index_col=0)\n",
    "Omnipath_network = pd.read_csv(f\"../../data/GraphComm_Input/{dataset}/Omnipath_network.csv\",index_col=0)"
   ]
  },
  {
   "cell_type": "code",
   "execution_count": 71,
   "id": "a51071b9",
   "metadata": {},
   "outputs": [],
   "source": [
    "# Omnipath_network[\"Src\"] = Omnipath_network[\"Src\"].sample(frac=1).tolist()\n",
    "# Omnipath_network[\"Dst\"] = Omnipath_network[\"Dst\"].sample(frac=1).tolist()\n"
   ]
  },
  {
   "cell_type": "code",
   "execution_count": 72,
   "id": "3e5869db",
   "metadata": {},
   "outputs": [],
   "source": [
    "Omnipath_data,Omnipath_nodes,Omnipath_interactions = make_dataset(LR_nodes,Omnipath_network,first=False,pathway_encode=False)"
   ]
  },
  {
   "cell_type": "code",
   "execution_count": 73,
   "id": "88a48d62",
   "metadata": {},
   "outputs": [
    {
     "name": "stdout",
     "output_type": "stream",
     "text": [
      "Reproducing results from original paper - no training process\n"
     ]
    }
   ],
   "source": [
    "total_embeddings_df = get_Omnipath_embeddings(LR_nodes,Omnipath_network,reproduce=dataset,lr=0.01)\n"
   ]
  },
  {
   "cell_type": "code",
   "execution_count": 74,
   "id": "85b61343",
   "metadata": {},
   "outputs": [
    {
     "name": "stdout",
     "output_type": "stream",
     "text": [
      "Starting...\n",
      "continuing...\n",
      "Reproducing results from original paper - no training process\n"
     ]
    }
   ],
   "source": [
    "    total_link_df = get_cell_LR_embeddings(matrix,meta,nodes,interactions,total_embeddings_df,Omnipath_nodes,Omnipath_interactions,spatial=raw_spatial,reproduce=dataset,cell_lr=0.01,save=dataset)"
   ]
  },
  {
   "cell_type": "code",
   "execution_count": 75,
   "id": "82386dea",
   "metadata": {},
   "outputs": [],
   "source": [
    "Omnipath_database = pd.read_csv(\"../../data/LR_database/intercell_Omnipath.csv\",index_col=0)[[\"source_genesymbol\",\"target_genesymbol\"]].drop_duplicates()\n",
    "Omnipath_database.columns = [\"from\",\"to\"]"
   ]
  },
  {
   "cell_type": "code",
   "execution_count": 76,
   "id": "87fa5ead",
   "metadata": {},
   "outputs": [],
   "source": [
    "#os.system(\"mkdir -p {}\".format(f\"../../data/random_data/{dataset}/spatial_1_random.csv\"))\n",
    "total_link_df.to_csv(f\"../../results/GraphComm_Output/{dataset}/CCI.csv\")\n",
    "#total_link_df.to_csv(\"../../data/random_data/new_Mouse_1_random.csv\")"
   ]
  },
  {
   "cell_type": "code",
   "execution_count": null,
   "id": "564eefea",
   "metadata": {},
   "outputs": [],
   "source": []
  },
  {
   "cell_type": "code",
   "execution_count": null,
   "id": "154f116c",
   "metadata": {},
   "outputs": [],
   "source": []
  }
 ],
 "metadata": {
  "kernelspec": {
   "display_name": "GATenv",
   "language": "python",
   "name": "gatenv"
  },
  "language_info": {
   "codemirror_mode": {
    "name": "ipython",
    "version": 3
   },
   "file_extension": ".py",
   "mimetype": "text/x-python",
   "name": "python",
   "nbconvert_exporter": "python",
   "pygments_lexer": "ipython3",
   "version": "3.9.13"
  }
 },
 "nbformat": 4,
 "nbformat_minor": 5
}
