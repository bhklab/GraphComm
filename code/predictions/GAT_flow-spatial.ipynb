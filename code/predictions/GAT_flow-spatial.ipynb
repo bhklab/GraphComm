{
 "cells": [
  {
   "cell_type": "code",
   "execution_count": 80,
   "metadata": {},
   "outputs": [],
   "source": [
    "import warnings\n",
    "warnings.filterwarnings('ignore')\n",
    "import pandas as pd\n",
    "import liana as li\n",
    "import anndata\n",
    "import scanpy as sc\n",
    "import os "
   ]
  },
  {
   "cell_type": "code",
   "execution_count": 81,
   "metadata": {
    "colab": {
     "base_uri": "https://localhost:8080/"
    },
    "id": "F1op-CbyLuN4",
    "outputId": "77aaf048-dc7e-491d-a0ed-7a13f3692cc0"
   },
   "outputs": [
    {
     "name": "stdout",
     "output_type": "stream",
     "text": [
      "1.13.1+cu117\n"
     ]
    }
   ],
   "source": [
    "# Install required packages.\n",
    "import os\n",
    "import torch\n",
    "os.environ['TORCH'] = torch.__version__\n",
    "print(torch.__version__)\n",
    "\n",
    "# !pip install -q torch-scatter -f https://data.pyg.org/whl/torch-${TORCH}.html\n",
    "# !pip install -q torch-sparse -f https://data.pyg.org/whl/torch-${TORCH}.html\n",
    "# !pip install -q git+https://github.com/pyg-team/pytorch_geometric.git\n",
    "\n",
    "# Helper function for visualization.\n",
    "%matplotlib inline\n",
    "import matplotlib.pyplot as plt\n",
    "from sklearn.manifold import TSNE\n",
    "from utils import *"
   ]
  },
  {
   "cell_type": "code",
   "execution_count": 82,
   "metadata": {},
   "outputs": [],
   "source": [
    "import argparse\n",
    "import os.path as osp\n",
    "\n",
    "import torch\n",
    "import torch.nn.functional as F\n",
    "\n",
    "from torch_geometric.datasets import Entities\n",
    "from torch_geometric.nn import FastRGCNConv, RGCNConv, GCNConv, InnerProductDecoder, GAE, VGAE\n",
    "from torch_geometric.utils import k_hop_subgraph\n",
    "\n",
    "from torch_geometric.datasets import Planetoid\n",
    "from torch_geometric.data.data import Data\n",
    "from torch_geometric.transforms import NormalizeFeatures\n",
    "\n",
    "\n",
    "from sklearn.cluster import KMeans\n",
    "import matplotlib.pyplot as plt\n",
    "\n",
    "import pandas as pd\n",
    "import numpy as np\n",
    "\n",
    "from sklearn.metrics.pairwise import cosine_similarity\n",
    "from sklearn.cluster import SpectralClustering\n",
    "import random\n",
    "from sklearn.manifold import TSNE\n",
    "import matplotlib.pyplot as plt\n",
    "\n",
    "from sklearn.metrics.pairwise import cosine_similarity\n",
    "\n",
    "from scipy.io import mmread"
   ]
  },
  {
   "cell_type": "markdown",
   "metadata": {},
   "source": [
    "# Pre-processing from original matrix\n"
   ]
  },
  {
   "cell_type": "code",
   "execution_count": 30,
   "metadata": {},
   "outputs": [],
   "source": [
    "adata = sc.read_h5ad(\"/data/raw_data/Cardiac_cells/Visium-FZ_GT_P19.h5ad\")"
   ]
  },
  {
   "cell_type": "code",
   "execution_count": 31,
   "metadata": {},
   "outputs": [],
   "source": [
    "sc.pp.filter_genes(adata, min_cells=10)\n",
    "sc.pp.normalize_total(adata)\n",
    "sc.pp.log1p(adata)\n",
    "sc.pp.neighbors(adata)\n",
    "sc.tl.leiden(adata)\n",
    "matrix = pd.DataFrame.sparse.from_spmatrix(adata.X,index=adata.obs.index.tolist(),columns=adata.var[\"feature_name\"].tolist())"
   ]
  },
  {
   "cell_type": "code",
   "execution_count": 32,
   "metadata": {},
   "outputs": [],
   "source": [
    "matrix = pd.DataFrame.sparse.from_spmatrix(adata.X,index=adata.obs.index.tolist(),columns=adata.var[\"feature_name\"].tolist())"
   ]
  },
  {
   "cell_type": "code",
   "execution_count": 33,
   "metadata": {},
   "outputs": [],
   "source": [
    "meta = pd.DataFrame({\"cell\":adata.obs.index.tolist(),\"labels\":adata.obs[\"cell_type_original\"].tolist()})\n",
    "meta.index = meta[\"cell\"].tolist()"
   ]
  },
  {
   "cell_type": "code",
   "execution_count": 34,
   "metadata": {},
   "outputs": [],
   "source": [
    "matrix = matrix.transpose()"
   ]
  },
  {
   "cell_type": "code",
   "execution_count": 35,
   "metadata": {},
   "outputs": [],
   "source": [
    "matrix = matrix[meta.index.tolist()]"
   ]
  },
  {
   "cell_type": "code",
   "execution_count": 36,
   "metadata": {},
   "outputs": [],
   "source": [
    "from scipy.stats import wilcoxon\n",
    "import anndata\n",
    "import scanpy as sc"
   ]
  },
  {
   "cell_type": "code",
   "execution_count": 37,
   "metadata": {},
   "outputs": [],
   "source": [
    "index = matrix.index.tolist()"
   ]
  },
  {
   "cell_type": "code",
   "execution_count": 38,
   "metadata": {},
   "outputs": [],
   "source": [
    "meta['labels'] = meta[\"labels\"].astype(\"string\").tolist()"
   ]
  },
  {
   "cell_type": "code",
   "execution_count": 39,
   "metadata": {},
   "outputs": [],
   "source": [
    "meta[\"cell\"] = meta[\"cell\"].astype(\"category\")\n",
    "meta[\"labels\"] = meta[\"labels\"].astype(\"category\")"
   ]
  },
  {
   "cell_type": "code",
   "execution_count": 40,
   "metadata": {},
   "outputs": [],
   "source": [
    "matrix = matrix.loc[:,~matrix.columns.duplicated()].copy()\n",
    "meta = meta.loc[~meta.index.duplicated(),:].copy()\n",
    "cell_group = meta.groupby(\"labels\").count()\n",
    "valid_cell_groups = cell_group[cell_group[\"cell\"] > 1].index.tolist()\n",
    "meta = meta[meta[\"labels\"].isin(valid_cell_groups)]\n",
    "meta[\"labels\"] = meta[\"labels\"].cat.remove_unused_categories()\n",
    "matrix = matrix[meta[\"cell\"].tolist()]\n",
    "\n"
   ]
  },
  {
   "cell_type": "code",
   "execution_count": 41,
   "metadata": {},
   "outputs": [],
   "source": [
    "adata = anndata.AnnData(matrix.transpose())"
   ]
  },
  {
   "cell_type": "code",
   "execution_count": 42,
   "metadata": {},
   "outputs": [],
   "source": [
    "sc.pp.filter_genes(adata, min_cells=10)\n"
   ]
  },
  {
   "cell_type": "code",
   "execution_count": 43,
   "metadata": {},
   "outputs": [],
   "source": [
    "#adata = anndata.AnnData(matrix.transpose())\n",
    "adata.obs[\"labels\"] =  meta[\"labels\"].astype(\"category\")"
   ]
  },
  {
   "cell_type": "code",
   "execution_count": 44,
   "metadata": {},
   "outputs": [],
   "source": [
    "sc.pp.normalize_total(adata)"
   ]
  },
  {
   "cell_type": "code",
   "execution_count": 45,
   "metadata": {},
   "outputs": [],
   "source": [
    "adata.obs = meta"
   ]
  },
  {
   "cell_type": "code",
   "execution_count": 46,
   "metadata": {},
   "outputs": [],
   "source": [
    "#sc.tl.rank_genes_groups(adata, 'labels')\n",
    "cell_groups = meta['labels'].unique().tolist()\n",
    "matrix_list = {}\n",
    "for i in cell_groups:\n",
    "    cells = meta[meta[\"labels\"]==i].index.tolist()\n",
    "    temp_matrix = matrix[cells]\n",
    "    matrix_list[i] = (temp_matrix.mean(axis=1)[temp_matrix.mean(axis=1) > 0].index.tolist())"
   ]
  },
  {
   "cell_type": "code",
   "execution_count": 47,
   "metadata": {},
   "outputs": [],
   "source": [
    "adata = adata.transpose()"
   ]
  },
  {
   "cell_type": "code",
   "execution_count": 48,
   "metadata": {},
   "outputs": [],
   "source": [
    "#adata.obs[\"Gene\"] = matrix.index.astype(\"category\")"
   ]
  },
  {
   "cell_type": "code",
   "execution_count": 49,
   "metadata": {},
   "outputs": [],
   "source": [
    "# pval_df = pd.DataFrame.from_records(adata.uns[\"rank_genes_groups\"][\"pvals\"])\n",
    "# pval_df.index = adata.obs.index.tolist()"
   ]
  },
  {
   "cell_type": "code",
   "execution_count": 50,
   "metadata": {},
   "outputs": [],
   "source": [
    "cell_type_df = matrix_list"
   ]
  },
  {
   "cell_type": "code",
   "execution_count": 51,
   "metadata": {},
   "outputs": [],
   "source": [
    "# cell_type_df = {}\n",
    "# for i in pval_df.columns.tolist():\n",
    "#     sub = pval_df[i]\n",
    "#     sub = sub[sub < 0.05]\n",
    "#     cell_type_df[i] = sub.index.tolist()"
   ]
  },
  {
   "cell_type": "code",
   "execution_count": 52,
   "metadata": {},
   "outputs": [],
   "source": [
    "#cell_type_df = matrix_list"
   ]
  },
  {
   "cell_type": "code",
   "execution_count": 85,
   "metadata": {},
   "outputs": [],
   "source": [
    "#mean_expression = np.mean(matrix.values[matrix.values != 0])\n",
    "nodes = pd.DataFrame({\"category\":[],\"identifier\":[]})"
   ]
  },
  {
   "cell_type": "code",
   "execution_count": 86,
   "metadata": {},
   "outputs": [],
   "source": [
    "LR_nodes = pd.read_csv(\"/data/LR_database/OmniPath_nodes.csv\",index_col=0)\n",
    "Omnipath_network = pd.read_csv(\"/data/LR_database/OmniPath_interactions.csv\",index_col=0)"
   ]
  },
  {
   "cell_type": "code",
   "execution_count": 87,
   "metadata": {},
   "outputs": [],
   "source": [
    "ligands = LR_nodes[LR_nodes[\"category\"]==\"Ligand\"][\"identifier\"].tolist()\n",
    "receptors = LR_nodes[LR_nodes[\"category\"]==\"Receptor\"][\"identifier\"].tolist()"
   ]
  },
  {
   "cell_type": "code",
   "execution_count": 88,
   "metadata": {},
   "outputs": [],
   "source": [
    "ligand_list = []\n",
    "receptor_list = []\n",
    "new_cell_df = {}\n",
    "for i in cell_type_df.keys():\n",
    "    ligand_list.extend(list(set(ligands) & set(cell_type_df[i])))\n",
    "    receptor_list.extend(list(set(receptors) & set(cell_type_df[i])))\n",
    "    new_cell_df[i] = [list(set(ligands) & set(cell_type_df[i])),list(set(receptors) & set(cell_type_df[i]))]"
   ]
  },
  {
   "cell_type": "code",
   "execution_count": 89,
   "metadata": {},
   "outputs": [],
   "source": [
    "for i in new_cell_df.keys():\n",
    "    new_cell_df[i][0] = [j+\"_Ligand\" for j in new_cell_df[i][0]]\n",
    "    new_cell_df[i][1] = [j+\"_Receptor\" for j in new_cell_df[i][1]]"
   ]
  },
  {
   "cell_type": "code",
   "execution_count": 90,
   "metadata": {},
   "outputs": [],
   "source": [
    "ligand_list = list(set(ligand_list))\n",
    "receptor_list = list(set(receptor_list))"
   ]
  },
  {
   "cell_type": "code",
   "execution_count": 91,
   "metadata": {},
   "outputs": [],
   "source": [
    "ligand_list = [i+\"_Ligand\" for i in ligand_list]\n",
    "receptor_list = [i+\"_Receptor\" for i in receptor_list]"
   ]
  },
  {
   "cell_type": "code",
   "execution_count": 92,
   "metadata": {},
   "outputs": [],
   "source": [
    "nodes = pd.concat([nodes,pd.DataFrame({\"category\":[\"Cell Group\"] * len(list(cell_type_df.keys())), \"identifier\":list(cell_type_df.keys())})])\n",
    "nodes = pd.concat([nodes,pd.DataFrame({\"category\":[\"Ligand\"] * len(ligand_list), \"identifier\":ligand_list})])\n",
    "nodes = pd.concat([nodes,pd.DataFrame({\"category\":[\"Receptor\"] * len(receptor_list), \"identifier\":receptor_list})])"
   ]
  },
  {
   "cell_type": "code",
   "execution_count": 93,
   "metadata": {},
   "outputs": [],
   "source": [
    "new_identifier = [row[\"identifier\"] + \"_\" + row[\"category\"] for index,row in LR_nodes.iterrows()]"
   ]
  },
  {
   "cell_type": "code",
   "execution_count": 94,
   "metadata": {},
   "outputs": [],
   "source": [
    "LR_nodes[\"identifier\"] = new_identifier"
   ]
  },
  {
   "cell_type": "code",
   "execution_count": 95,
   "metadata": {},
   "outputs": [],
   "source": [
    "nodes[\"Id\"] = range(0,nodes.shape[0])\n",
    "nodes = nodes[[\"Id\",\"category\",\"identifier\"]]"
   ]
  },
  {
   "cell_type": "code",
   "execution_count": 96,
   "metadata": {},
   "outputs": [],
   "source": [
    "nodes.index = nodes.index.astype('int')\n",
    "nodes[\"Id\"] = nodes[\"Id\"].astype('int')"
   ]
  },
  {
   "cell_type": "code",
   "execution_count": 97,
   "metadata": {},
   "outputs": [],
   "source": [
    "meta.index = meta[\"cell\"]"
   ]
  },
  {
   "cell_type": "code",
   "execution_count": 98,
   "metadata": {},
   "outputs": [],
   "source": [
    "interactions = pd.DataFrame({\"Src\":[],\"Dst\":[],\"Weight\":[],\"edge_type\":[]})"
   ]
  },
  {
   "cell_type": "code",
   "execution_count": 99,
   "metadata": {},
   "outputs": [],
   "source": [
    "LR_nodes.index = LR_nodes[\"Id\"].tolist()"
   ]
  },
  {
   "cell_type": "code",
   "execution_count": 100,
   "metadata": {},
   "outputs": [],
   "source": [
    "Omnipath_network[\"Src\"] = LR_nodes.loc[Omnipath_network[\"Src\"].tolist()][\"identifier\"].tolist()\n",
    "Omnipath_network[\"Dst\"] = LR_nodes.loc[Omnipath_network[\"Dst\"].tolist()][\"identifier\"].tolist()\n"
   ]
  },
  {
   "cell_type": "code",
   "execution_count": 101,
   "metadata": {},
   "outputs": [],
   "source": [
    "source_list = []\n",
    "dest_list = []\n",
    "weight_list = []\n",
    "edge_type_list = []\n",
    "for i in new_cell_df.keys():\n",
    "    source_list.extend([i] * (len(new_cell_df[i][0]) + len(new_cell_df[i][1])))\n",
    "    dest_list.extend(new_cell_df[i][0])\n",
    "    dest_list.extend(new_cell_df[i][1])\n",
    "    weight_list.extend([1] * (len(new_cell_df[i][0]) + len(new_cell_df[i][1])))\n",
    "    edge_type_list.extend([1] * (len(new_cell_df[i][0]) + len(new_cell_df[i][1])))"
   ]
  },
  {
   "cell_type": "code",
   "execution_count": 102,
   "metadata": {},
   "outputs": [],
   "source": [
    "interactions[\"Src\"] = source_list\n",
    "interactions[\"Dst\"] = dest_list\n",
    "interactions[\"Weight\"] = weight_list\n",
    "interactions[\"edge_type\"] = edge_type_list"
   ]
  },
  {
   "cell_type": "code",
   "execution_count": 103,
   "metadata": {},
   "outputs": [],
   "source": [
    "nodes.index = nodes[\"identifier\"].tolist()"
   ]
  },
  {
   "cell_type": "code",
   "execution_count": 104,
   "metadata": {},
   "outputs": [],
   "source": [
    "nodes = nodes.drop_duplicates(\"identifier\")\n",
    "nodes[\"Id\"] = range(0,nodes.shape[0])"
   ]
  },
  {
   "cell_type": "code",
   "execution_count": 105,
   "metadata": {},
   "outputs": [],
   "source": [
    "interactions[\"Src\"] = nodes.loc[interactions[\"Src\"].tolist()][\"Id\"].tolist()\n",
    "interactions[\"Dst\"] = nodes.loc[interactions[\"Dst\"].tolist()][\"Id\"].tolist()"
   ]
  },
  {
   "cell_type": "code",
   "execution_count": 106,
   "metadata": {},
   "outputs": [],
   "source": [
    "first_data,first_nodes,first_interactions = make_dataset(nodes,interactions,first=False,pathway_encode=False)"
   ]
  },
  {
   "cell_type": "markdown",
   "metadata": {},
   "source": [
    "# Link Prediction with GAT"
   ]
  },
  {
   "cell_type": "code",
   "execution_count": 107,
   "metadata": {},
   "outputs": [],
   "source": [
    "from torch_geometric.nn import GATConv\n",
    "class GAT(torch.nn.Module):\n",
    "    def __init__(self,data,num_classes=3):\n",
    "        super(GAT, self).__init__()\n",
    "        self.hid = 3\n",
    "        self.in_head = 3\n",
    "        self.out_head = 3\n",
    "        \n",
    "        \n",
    "        self.conv1 = GATConv(data.x.shape[1], self.hid, heads=self.in_head, dropout=0.6)\n",
    "        self.conv2 = GATConv(self.hid*self.in_head,num_classes, concat=False,\n",
    "                             heads=self.out_head, dropout=0.6)\n",
    "\n",
    "    def forward(self, data):\n",
    "        x, edge_index = data.x, data.edge_index\n",
    "                \n",
    "        x = F.dropout(x, p=0.6, training=self.training)\n",
    "        x = self.conv1(x, edge_index)\n",
    "        x = F.elu(x)\n",
    "        x = F.dropout(x, p=0.6, training=self.training)\n",
    "        x = self.conv2(x, edge_index)\n",
    "        x = F.elu(x)\n",
    "        x = F.logsigmoid(x)\n",
    "        return x\n",
    "    \n",
    "    \n",
    "    \n",
    "device = torch.device('cuda' if torch.cuda.is_available() else 'cpu')\n",
    "device = \"cpu\"\n",
    "    "
   ]
  },
  {
   "cell_type": "markdown",
   "metadata": {},
   "source": [
    "# Get Omnipath embedding"
   ]
  },
  {
   "cell_type": "code",
   "execution_count": 108,
   "metadata": {},
   "outputs": [],
   "source": [
    "LR_nodes = LR_nodes[(LR_nodes[\"identifier\"].isin(ligand_list)) | (LR_nodes[\"identifier\"].isin(receptor_list))]"
   ]
  },
  {
   "cell_type": "code",
   "execution_count": 109,
   "metadata": {},
   "outputs": [],
   "source": [
    "Omnipath_network = Omnipath_network[(Omnipath_network[\"Src\"].isin(LR_nodes[\"identifier\"].tolist())) & (Omnipath_network[\"Dst\"].isin(LR_nodes[\"identifier\"].tolist()))]"
   ]
  },
  {
   "cell_type": "code",
   "execution_count": 110,
   "metadata": {},
   "outputs": [],
   "source": [
    "LR_nodes[\"Id\"] = range(0,LR_nodes.shape[0])"
   ]
  },
  {
   "cell_type": "code",
   "execution_count": 111,
   "metadata": {},
   "outputs": [],
   "source": [
    "LR_nodes.index = LR_nodes[\"identifier\"].tolist()\n",
    "Omnipath_network[\"Src\"] = LR_nodes.loc[Omnipath_network[\"Src\"].tolist()][\"Id\"].tolist()\n",
    "Omnipath_network[\"Dst\"] = LR_nodes.loc[Omnipath_network[\"Dst\"].tolist()][\"Id\"].tolist()"
   ]
  },
  {
   "cell_type": "code",
   "execution_count": 112,
   "metadata": {},
   "outputs": [],
   "source": [
    "LR_nodes = LR_nodes[(LR_nodes[\"Id\"].isin(Omnipath_network[\"Src\"].tolist())) | (LR_nodes[\"Id\"].isin(Omnipath_network[\"Dst\"].tolist()))]"
   ]
  },
  {
   "cell_type": "code",
   "execution_count": 113,
   "metadata": {},
   "outputs": [],
   "source": [
    "LR_nodes.index = LR_nodes[\"Id\"].tolist()\n",
    "Omnipath_network[\"Src\"] = LR_nodes.loc[Omnipath_network[\"Src\"].tolist()][\"identifier\"].tolist()\n",
    "Omnipath_network[\"Dst\"] = LR_nodes.loc[Omnipath_network[\"Dst\"].tolist()][\"identifier\"].tolist()"
   ]
  },
  {
   "cell_type": "code",
   "execution_count": 114,
   "metadata": {},
   "outputs": [],
   "source": [
    "LR_nodes.index = LR_nodes[\"identifier\"].tolist()\n",
    "LR_nodes[\"Id\"] = range(0,LR_nodes.shape[0])\n",
    "Omnipath_network[\"Src\"] = LR_nodes.loc[Omnipath_network[\"Src\"].tolist()][\"Id\"].tolist()\n",
    "Omnipath_network[\"Dst\"] = LR_nodes.loc[Omnipath_network[\"Dst\"].tolist()][\"Id\"].tolist()"
   ]
  },
  {
   "cell_type": "code",
   "execution_count": 115,
   "metadata": {},
   "outputs": [],
   "source": [
    "Omnipath_data,Omnipath_nodes,Omnipath_interactions = make_dataset(LR_nodes,Omnipath_network,first=False,pathway_encode=False)"
   ]
  },
  {
   "cell_type": "code",
   "execution_count": 116,
   "metadata": {},
   "outputs": [],
   "source": [
    "node_info = pd.DataFrame(np.zeros((Omnipath_nodes.shape[0],Omnipath_nodes.shape[0])),index=Omnipath_nodes[\"identifier\"].tolist(),columns=Omnipath_nodes[\"identifier\"].tolist())"
   ]
  },
  {
   "cell_type": "code",
   "execution_count": 117,
   "metadata": {},
   "outputs": [],
   "source": [
    "temp_identifiers = [i.split(\"_\")[0] for i in Omnipath_nodes[\"identifier\"].tolist()]"
   ]
  },
  {
   "cell_type": "code",
   "execution_count": 120,
   "metadata": {},
   "outputs": [],
   "source": [
    "complexes = pd.read_csv(\"/data/LR_database/complexes.csv\")\n",
    "complexes = complexes[complexes[\"member\"].isin(temp_identifiers)]"
   ]
  },
  {
   "cell_type": "code",
   "execution_count": 121,
   "metadata": {},
   "outputs": [],
   "source": [
    "temp_nodes = Omnipath_nodes.copy()\n",
    "temp_nodes.index = temp_identifiers\n",
    "temp_nodes = temp_nodes[~temp_nodes.index.duplicated(keep='first')]"
   ]
  },
  {
   "cell_type": "code",
   "execution_count": 122,
   "metadata": {},
   "outputs": [],
   "source": [
    "complexes[\"member\"] = temp_nodes.loc[complexes[\"member\"].tolist()][\"identifier\"].tolist()"
   ]
  },
  {
   "cell_type": "code",
   "execution_count": 123,
   "metadata": {},
   "outputs": [],
   "source": [
    "group_complex = complexes.groupby(\"complex\").agg(list)"
   ]
  },
  {
   "cell_type": "code",
   "execution_count": 124,
   "metadata": {},
   "outputs": [],
   "source": [
    "group_complex.index=range(0,group_complex.shape[0])"
   ]
  },
  {
   "cell_type": "code",
   "execution_count": 125,
   "metadata": {},
   "outputs": [],
   "source": [
    "for index,row in group_complex.iterrows():\n",
    "    node_info.loc[list(set(row[\"member\"])),list(set(row[\"member\"]))] = index"
   ]
  },
  {
   "cell_type": "code",
   "execution_count": 126,
   "metadata": {},
   "outputs": [],
   "source": [
    "# for i in group_complex[\"member\"].tolist():\n",
    "#     node_info.loc[list(set(i)),list(set(i))] = 1"
   ]
  },
  {
   "cell_type": "code",
   "execution_count": 128,
   "metadata": {},
   "outputs": [],
   "source": [
    "pathways = pd.read_csv(\"/data/LR_database/kegg_pathways.csv\",index_col=0)\n",
    "pathways = pathways[pathways[\"genesymbol\"].isin(temp_identifiers)]\n",
    "pathways[\"genesymbol\"] = temp_nodes.loc[pathways[\"genesymbol\"].tolist()][\"identifier\"].tolist()\n",
    "group_pathway = pathways.groupby(\"pathway\").agg(list)"
   ]
  },
  {
   "cell_type": "code",
   "execution_count": 129,
   "metadata": {},
   "outputs": [],
   "source": [
    "group_pathway.index=range(0,group_pathway.shape[0])"
   ]
  },
  {
   "cell_type": "code",
   "execution_count": 130,
   "metadata": {},
   "outputs": [],
   "source": [
    "for index,row in group_pathway.iterrows():\n",
    "    node_info.loc[list(set(row[\"genesymbol\"])),list(set(row[\"genesymbol\"]))] += index"
   ]
  },
  {
   "cell_type": "code",
   "execution_count": 132,
   "metadata": {},
   "outputs": [],
   "source": [
    "truth_info = pd.DataFrame(np.zeros((Omnipath_nodes.shape[0],Omnipath_nodes.shape[0])),index=Omnipath_nodes[\"identifier\"].tolist(),columns=Omnipath_nodes[\"identifier\"].tolist())"
   ]
  },
  {
   "cell_type": "code",
   "execution_count": 133,
   "metadata": {},
   "outputs": [],
   "source": [
    "Omnipath_nodes.index = Omnipath_nodes[\"Id\"].tolist()"
   ]
  },
  {
   "cell_type": "code",
   "execution_count": 134,
   "metadata": {},
   "outputs": [],
   "source": [
    "ident_interactions = Omnipath_interactions.copy()\n",
    "ident_interactions[\"Src\"] = Omnipath_nodes.loc[ident_interactions[\"Src\"].tolist()][\"identifier\"].tolist()\n",
    "ident_interactions[\"Dst\"] = Omnipath_nodes.loc[ident_interactions[\"Dst\"].tolist()][\"identifier\"].tolist()"
   ]
  },
  {
   "cell_type": "code",
   "execution_count": 135,
   "metadata": {},
   "outputs": [],
   "source": [
    "for index,row in ident_interactions.iterrows():\n",
    "    truth_info.loc[row[\"Src\"],row[\"Dst\"]] = 1"
   ]
  },
  {
   "cell_type": "code",
   "execution_count": 136,
   "metadata": {},
   "outputs": [],
   "source": [
    "ligands = Omnipath_nodes[Omnipath_nodes[\"category\"]==\"Ligand\"][\"identifier\"].tolist()\n",
    "receptors = Omnipath_nodes[Omnipath_nodes[\"category\"]==\"Receptor\"][\"identifier\"].tolist()\n",
    "#truth_info = truth_info.loc[ligands,receptors]\n",
    "truth_info = torch.Tensor(truth_info.values).to(device)\n"
   ]
  },
  {
   "cell_type": "code",
   "execution_count": 137,
   "metadata": {},
   "outputs": [],
   "source": [
    "ligands = Omnipath_nodes[Omnipath_nodes[\"category\"]==\"Ligand\"][\"Id\"].tolist()\n",
    "receptors = Omnipath_nodes[Omnipath_nodes[\"category\"]==\"Receptor\"][\"Id\"].tolist()\n"
   ]
  },
  {
   "cell_type": "code",
   "execution_count": 138,
   "metadata": {},
   "outputs": [],
   "source": [
    "ident_interactions = ident_interactions.drop_duplicates(\"Src\")\n",
    "ident_interactions = ident_interactions.drop_duplicates(\"Dst\")"
   ]
  },
  {
   "cell_type": "code",
   "execution_count": 139,
   "metadata": {},
   "outputs": [],
   "source": [
    "ident_interactions.index = range(0,ident_interactions.shape[0])"
   ]
  },
  {
   "cell_type": "code",
   "execution_count": 140,
   "metadata": {},
   "outputs": [],
   "source": [
    "truth_list = []\n",
    "for i in Omnipath_nodes[\"identifier\"].tolist():\n",
    "    if \"Ligand\" in i:\n",
    "        if i in ident_interactions[\"Src\"].tolist():\n",
    "            #truth_list.append(ident_interactions[ident_interactions[\"Src\"]==i].index.tolist()[0] + 1)\n",
    "            truth_list.append(1)\n",
    "        else:\n",
    "            truth_list.append(0)\n",
    "    if \"Receptor\" in i:\n",
    "        if i in ident_interactions[\"Dst\"].tolist():\n",
    "            #truth_list.append(ident_interactions[ident_interactions[\"Dst\"]==i].index.tolist()[0] + 1)\n",
    "            truth_list.append(1)\n",
    "        else:\n",
    "            truth_list.append(0)"
   ]
  },
  {
   "cell_type": "code",
   "execution_count": 141,
   "metadata": {},
   "outputs": [],
   "source": [
    "node_info.values[np.where(np.isnan(node_info.values))] = 0\n",
    "node_info.values[np.where(np.isinf(node_info.values))] = 0"
   ]
  },
  {
   "cell_type": "code",
   "execution_count": 142,
   "metadata": {},
   "outputs": [],
   "source": [
    "Omnipath_data.x = torch.Tensor(node_info.values)"
   ]
  },
  {
   "cell_type": "code",
   "execution_count": 143,
   "metadata": {},
   "outputs": [],
   "source": [
    "#Omnipath_data.y = torch.Tensor(truth_list).type(torch.LongTensor)\n",
    "Omnipath_data.y = truth_info"
   ]
  },
  {
   "cell_type": "code",
   "execution_count": 144,
   "metadata": {},
   "outputs": [],
   "source": [
    "Omnipath_nodes.index = Omnipath_nodes[\"Id\"].tolist()"
   ]
  },
  {
   "cell_type": "code",
   "execution_count": 145,
   "metadata": {},
   "outputs": [],
   "source": [
    "Omnipath_interactions[\"Src\"] = [Omnipath_nodes.loc[i][\"identifier\"] for i in Omnipath_interactions[\"Src\"].tolist()]\n",
    "Omnipath_interactions[\"Dst\"] = [Omnipath_nodes.loc[i][\"identifier\"] for i in Omnipath_interactions[\"Dst\"].tolist()]"
   ]
  },
  {
   "cell_type": "code",
   "execution_count": 146,
   "metadata": {},
   "outputs": [],
   "source": [
    "#edge_weights = [max(node_info.loc[i,j],node_info.loc[j,i]) for i,j in zip(Omnipath_interactions[\"Src\"].tolist(),Omnipath_interactions[\"Dst\"].tolist())]\n",
    "edge_weights = [1 for i,j in zip(Omnipath_interactions[\"Src\"].tolist(),Omnipath_interactions[\"Dst\"].tolist())]"
   ]
  },
  {
   "cell_type": "markdown",
   "metadata": {},
   "source": [
    "# Random Walks"
   ]
  },
  {
   "cell_type": "code",
   "execution_count": 147,
   "metadata": {},
   "outputs": [],
   "source": [
    "from torch_geometric.nn import Node2Vec\n",
    "import os.path as osp\n",
    "import torch\n",
    "import matplotlib.pyplot as plt\n",
    "from sklearn.manifold import TSNE\n",
    "from torch_geometric.datasets import Planetoid\n",
    "from tqdm.notebook import tqdm"
   ]
  },
  {
   "cell_type": "code",
   "execution_count": 148,
   "metadata": {},
   "outputs": [],
   "source": [
    "data = Omnipath_data"
   ]
  },
  {
   "cell_type": "markdown",
   "metadata": {},
   "source": [
    "## data loader"
   ]
  },
  {
   "cell_type": "code",
   "execution_count": 149,
   "metadata": {},
   "outputs": [],
   "source": [
    "model = Node2Vec(data.edge_index, embedding_dim=2, walk_length=40,\n",
    "                 context_size=40, walks_per_node=10,\n",
    "                 num_negative_samples=1, p=1, q=1, sparse=True).to(device)\n",
    "\n",
    "loader = model.loader(batch_size=2, shuffle=True, num_workers=8)\n",
    "optimizer = torch.optim.SparseAdam(list(model.parameters()), lr=0.01)"
   ]
  },
  {
   "cell_type": "code",
   "execution_count": 150,
   "metadata": {},
   "outputs": [],
   "source": [
    "def train():\n",
    "    model.train()\n",
    "    total_loss = 0\n",
    "    for pos_rw, neg_rw in (loader):\n",
    "        optimizer.zero_grad()\n",
    "        loss = model.loss(pos_rw.to(device), neg_rw.to(device))\n",
    "        loss.backward()\n",
    "        optimizer.step()\n",
    "        total_loss += loss.item()\n",
    "    return total_loss / len(loader)"
   ]
  },
  {
   "cell_type": "code",
   "execution_count": 151,
   "metadata": {},
   "outputs": [],
   "source": [
    "@torch.no_grad()\n",
    "def test():\n",
    "    model.eval()\n",
    "    z = model()\n",
    "    acc = model.test(z[data.train_mask], data.y[data.train_mask],\n",
    "                     z[data.test_mask], data.y[data.test_mask],\n",
    "                     max_iter=150)\n",
    "    return acc"
   ]
  },
  {
   "cell_type": "code",
   "execution_count": 153,
   "metadata": {},
   "outputs": [],
   "source": [
    "model = torch.load(\"/data/models/Cardiac_cells/FZ_GT_P19/Omnipath.pt\")"
   ]
  },
  {
   "cell_type": "code",
   "execution_count": 154,
   "metadata": {},
   "outputs": [],
   "source": [
    "z = model(torch.arange(data.num_nodes, device=device)).detach()"
   ]
  },
  {
   "cell_type": "code",
   "execution_count": 155,
   "metadata": {},
   "outputs": [],
   "source": [
    "ligand_ids = Omnipath_nodes[Omnipath_nodes[\"category\"].str.contains(\"Ligand\")][\"Id\"].tolist()\n",
    "receptor_ids = Omnipath_nodes[Omnipath_nodes[\"category\"].str.contains(\"Receptor\")][\"Id\"].tolist()"
   ]
  },
  {
   "cell_type": "code",
   "execution_count": 156,
   "metadata": {},
   "outputs": [],
   "source": [
    "ligand_embeddings = z[ligand_ids,:]\n",
    "receptor_embeddings = z[receptor_ids,:]"
   ]
  },
  {
   "cell_type": "code",
   "execution_count": 157,
   "metadata": {},
   "outputs": [],
   "source": [
    "total_embeddings = torch.inner(ligand_embeddings,receptor_embeddings)"
   ]
  },
  {
   "cell_type": "code",
   "execution_count": 158,
   "metadata": {},
   "outputs": [],
   "source": [
    "total_embeddings_df = pd.DataFrame(total_embeddings.numpy(),index=Omnipath_nodes[Omnipath_nodes[\"category\"].str.contains(\"Ligand\")][\"identifier\"].tolist(),columns=Omnipath_nodes[Omnipath_nodes[\"category\"].str.contains(\"Receptor\")][\"identifier\"].tolist())"
   ]
  },
  {
   "cell_type": "markdown",
   "metadata": {},
   "source": [
    "# make cell -> ligand and receptor graphs "
   ]
  },
  {
   "cell_type": "code",
   "execution_count": 159,
   "metadata": {},
   "outputs": [],
   "source": [
    "cell_LR_data,cell_LR_nodes,cell_LR_ints = make_dataset(nodes,interactions,first=False,pathway_encode=False)"
   ]
  },
  {
   "cell_type": "code",
   "execution_count": 160,
   "metadata": {},
   "outputs": [],
   "source": [
    "full_matrix = pd.DataFrame(np.zeros((cell_LR_nodes.shape[0],cell_LR_nodes.shape[0])),index=cell_LR_nodes[\"identifier\"].tolist(),columns=cell_LR_nodes[\"identifier\"].tolist())"
   ]
  },
  {
   "cell_type": "code",
   "execution_count": 161,
   "metadata": {},
   "outputs": [],
   "source": [
    "ligands = Omnipath_nodes[Omnipath_nodes[\"category\"]==\"Ligand\"][\"Id\"].tolist()\n",
    "receptors = Omnipath_nodes[Omnipath_nodes[\"category\"]==\"Receptor\"][\"Id\"].tolist()"
   ]
  },
  {
   "cell_type": "code",
   "execution_count": 162,
   "metadata": {},
   "outputs": [],
   "source": [
    "total_out_df = total_embeddings_df"
   ]
  },
  {
   "cell_type": "code",
   "execution_count": 163,
   "metadata": {},
   "outputs": [],
   "source": [
    "#matrix = matrix.transpose()"
   ]
  },
  {
   "cell_type": "code",
   "execution_count": 164,
   "metadata": {},
   "outputs": [],
   "source": [
    "gene_mean = matrix.mean(axis=1)"
   ]
  },
  {
   "cell_type": "code",
   "execution_count": 166,
   "metadata": {},
   "outputs": [],
   "source": [
    "Omnipath_nodes.index = [i.split(\"_\")[0] for i in Omnipath_nodes[\"identifier\"].tolist()]"
   ]
  },
  {
   "cell_type": "code",
   "execution_count": 167,
   "metadata": {},
   "outputs": [],
   "source": [
    "Omnipath_nodes = Omnipath_nodes.loc[~Omnipath_nodes.index.duplicated(),:].copy()\n"
   ]
  },
  {
   "cell_type": "code",
   "execution_count": 168,
   "metadata": {},
   "outputs": [],
   "source": [
    "gene_mean = gene_mean.loc[Omnipath_nodes.index.tolist()]"
   ]
  },
  {
   "cell_type": "code",
   "execution_count": 169,
   "metadata": {},
   "outputs": [],
   "source": [
    "gene_mean.index = Omnipath_nodes[\"identifier\"].tolist()"
   ]
  },
  {
   "cell_type": "code",
   "execution_count": 170,
   "metadata": {},
   "outputs": [],
   "source": [
    "ligands = [i for i in gene_mean.index.tolist() if \"Ligand\" in i]\n",
    "receptors = [i for i in gene_mean.index.tolist() if \"Receptor\" in i]\n",
    "ligands = list(set(full_matrix.index.tolist()) & set(ligands))\n",
    "receptors = list(set(full_matrix.index.tolist()) & set(receptors))"
   ]
  },
  {
   "cell_type": "code",
   "execution_count": 171,
   "metadata": {},
   "outputs": [],
   "source": [
    "for i,j in zip(ligands,receptors):\n",
    "    if (i in gene_mean.index.tolist()) and (j in gene_mean.index.tolist()):\n",
    "        full_matrix.loc[i,j] = gene_mean.loc[i]*gene_mean.loc[j]"
   ]
  },
  {
   "cell_type": "code",
   "execution_count": 172,
   "metadata": {},
   "outputs": [],
   "source": [
    "ligands = list(set(ligands) & set(total_out_df.index.tolist()))\n",
    "receptors = list(set(receptors) & set(total_out_df.columns.tolist()))"
   ]
  },
  {
   "cell_type": "code",
   "execution_count": 173,
   "metadata": {},
   "outputs": [],
   "source": [
    "for i,j in zip(ligands,receptors):\n",
    "    full_matrix.loc[i,j] += total_out_df.loc[i,j]\n",
    "    "
   ]
  },
  {
   "cell_type": "code",
   "execution_count": 174,
   "metadata": {},
   "outputs": [],
   "source": [
    "#full_matrix.loc[true_df.index.tolist(),true_df.columns.tolist()] = true_df.values"
   ]
  },
  {
   "cell_type": "code",
   "execution_count": 175,
   "metadata": {},
   "outputs": [],
   "source": [
    "cell_groups = meta[\"labels\"].unique().tolist()"
   ]
  },
  {
   "cell_type": "code",
   "execution_count": 176,
   "metadata": {},
   "outputs": [],
   "source": [
    "ligands = cell_LR_nodes[cell_LR_nodes[\"category\"]==\"Ligand\"][\"identifier\"].tolist()\n",
    "ligands = [i.split(\"_\")[0] for i in ligands]\n",
    "ligand_matrix = matrix.loc[ligands]"
   ]
  },
  {
   "cell_type": "code",
   "execution_count": 177,
   "metadata": {},
   "outputs": [],
   "source": [
    "mean_dict = {}\n",
    "for i in cell_groups:\n",
    "    cells = meta[meta[\"labels\"]==i][\"cell\"].tolist()\n",
    "    mean_dict[i] = ligand_matrix[cells].mean(axis=1)"
   ]
  },
  {
   "cell_type": "code",
   "execution_count": 178,
   "metadata": {},
   "outputs": [],
   "source": [
    "for i in mean_dict.keys():\n",
    "    temp_index = [i+\"_Ligand\" for i in mean_dict[i].index.tolist()]\n",
    "    full_matrix.loc[i,temp_index] = mean_dict[i].values\n",
    "    full_matrix.loc[temp_index,i] = mean_dict[i].values"
   ]
  },
  {
   "cell_type": "code",
   "execution_count": 179,
   "metadata": {},
   "outputs": [],
   "source": [
    "receptors = cell_LR_nodes[cell_LR_nodes[\"category\"]==\"Receptor\"][\"identifier\"].tolist()\n",
    "receptors = [i.split(\"_\")[0] for i in receptors]\n",
    "receptors_matrix = matrix.loc[receptors]"
   ]
  },
  {
   "cell_type": "code",
   "execution_count": 180,
   "metadata": {},
   "outputs": [],
   "source": [
    "mean_dict = {}\n",
    "for i in cell_groups:\n",
    "    cells = meta[meta[\"labels\"]==i][\"cell\"].tolist()\n",
    "    mean_dict[i] = receptors_matrix[cells].mean(axis=1)"
   ]
  },
  {
   "cell_type": "code",
   "execution_count": 181,
   "metadata": {},
   "outputs": [],
   "source": [
    "for i in mean_dict.keys():\n",
    "    temp_index = [i+\"_Receptor\" for i in mean_dict[i].index.tolist()]\n",
    "    full_matrix.loc[i,temp_index] = mean_dict[i].values\n",
    "    full_matrix.loc[temp_index,i] = mean_dict[i].values"
   ]
  },
  {
   "cell_type": "code",
   "execution_count": 182,
   "metadata": {},
   "outputs": [],
   "source": [
    "#full_matrix = (full_matrix - np.min(full_matrix)) / (np.max(full_matrix) - np.min(full_matrix))"
   ]
  },
  {
   "cell_type": "code",
   "execution_count": 183,
   "metadata": {},
   "outputs": [],
   "source": [
    "full_matrix.values[np.where(np.isnan(full_matrix.values))] = 0\n",
    "full_matrix.values[np.where(np.isinf(full_matrix.values))] = 0"
   ]
  },
  {
   "cell_type": "code",
   "execution_count": 184,
   "metadata": {},
   "outputs": [],
   "source": [
    "adata = sc.read_h5ad(\"/data/raw_data/Cardiac_cells/Visium-FZ_GT_P19.h5ad\")\n",
    "adata = adata[meta.index.tolist()]"
   ]
  },
  {
   "cell_type": "code",
   "execution_count": 191,
   "metadata": {},
   "outputs": [],
   "source": [
    "spatial_coordinates = adata.obs[['Adipocyte', 'Cardiomyocyte','Endothelial', 'Fibroblast', 'Lymphoid', 'Mast', 'Myeloid', 'Neuronal','Pericyte']]"
   ]
  },
  {
   "cell_type": "code",
   "execution_count": 192,
   "metadata": {},
   "outputs": [],
   "source": [
    "cell_groups = meta[\"labels\"].unique().tolist()"
   ]
  },
  {
   "cell_type": "code",
   "execution_count": 195,
   "metadata": {},
   "outputs": [],
   "source": [
    "j = \"Pericyte\""
   ]
  },
  {
   "cell_type": "code",
   "execution_count": 196,
   "metadata": {},
   "outputs": [],
   "source": [
    " cells = meta[meta[\"labels\"]==i].index.tolist()"
   ]
  },
  {
   "cell_type": "code",
   "execution_count": 207,
   "metadata": {},
   "outputs": [],
   "source": [
    "spatial_coords = spatial_coordinates.loc[cells].values"
   ]
  },
  {
   "cell_type": "code",
   "execution_count": 202,
   "metadata": {},
   "outputs": [],
   "source": [
    "import math"
   ]
  },
  {
   "cell_type": "code",
   "execution_count": 281,
   "metadata": {},
   "outputs": [],
   "source": [
    "LRs = list(set(nodes[nodes[\"category\"]==\"Ligand\"][\"identifier\"].tolist() + nodes[nodes[\"category\"]==\"Receptor\"][\"identifier\"].tolist()))"
   ]
  },
  {
   "cell_type": "code",
   "execution_count": 284,
   "metadata": {},
   "outputs": [],
   "source": [
    "new_matrix = matrix.loc[[i.split(\"_\")[0] for i in LRs]]"
   ]
  },
  {
   "cell_type": "code",
   "execution_count": 285,
   "metadata": {},
   "outputs": [],
   "source": [
    "new_matrix = matrix.transpose()"
   ]
  },
  {
   "cell_type": "code",
   "execution_count": 219,
   "metadata": {},
   "outputs": [],
   "source": [
    "#deconvolution embedding\n",
    "spatial_dict = {}\n",
    "for i in cell_groups:\n",
    "    cells = meta[meta[\"labels\"]==i].index.tolist()\n",
    "    spatial_coords = [tuple(i) for i in spatial_coordinates.loc[cells].values]\n",
    "    for j in cell_groups:\n",
    "        if j != i:\n",
    "            second_cells = meta[meta[\"labels\"]==j].index.tolist()\n",
    "            second_spatial_coords = [tuple(i) for i in spatial_coordinates.loc[second_cells].values]\n",
    "            min_list = []\n",
    "            for k in spatial_coords:\n",
    "                min_list.append(min([math.dist(k,l) for l in second_spatial_coords]))\n",
    "            spatial_dict[(i,j)] = min(min_list)\n",
    "\n",
    "            "
   ]
  },
  {
   "cell_type": "code",
   "execution_count": 291,
   "metadata": {},
   "outputs": [],
   "source": [
    "import numpy as np"
   ]
  },
  {
   "cell_type": "code",
   "execution_count": 296,
   "metadata": {},
   "outputs": [],
   "source": [
    "    spatial_coords = new_matrix.loc[cells].values\n"
   ]
  },
  {
   "cell_type": "code",
   "execution_count": 300,
   "metadata": {},
   "outputs": [
    {
     "data": {
      "text/plain": [
       "0.09168209836511541"
      ]
     },
     "execution_count": 300,
     "metadata": {},
     "output_type": "execute_result"
    }
   ],
   "source": [
    "np.mean(spatial_coords)"
   ]
  },
  {
   "cell_type": "code",
   "execution_count": 305,
   "metadata": {},
   "outputs": [
    {
     "data": {
      "text/plain": [
       "array([0.0354877 , 0.19403787, 0.14786798, ..., 0.10677629, 0.03728484,\n",
       "       0.06707481])"
      ]
     },
     "execution_count": 305,
     "metadata": {},
     "output_type": "execute_result"
    }
   ],
   "source": [
    "new_matrix.loc[cells].mean(axis=0).values"
   ]
  },
  {
   "cell_type": "code",
   "execution_count": 309,
   "metadata": {},
   "outputs": [
    {
     "data": {
      "text/plain": [
       "['Fibroblast',\n",
       " 'Endothelial',\n",
       " 'Myeloid',\n",
       " 'Cardiomyocyte',\n",
       " 'vSMCs',\n",
       " 'Mast',\n",
       " 'Pericyte',\n",
       " 'Neuronal']"
      ]
     },
     "execution_count": 309,
     "metadata": {},
     "output_type": "execute_result"
    }
   ],
   "source": [
    "cell_groups"
   ]
  },
  {
   "cell_type": "code",
   "execution_count": 311,
   "metadata": {},
   "outputs": [
    {
     "name": "stdout",
     "output_type": "stream",
     "text": [
      "Fibroblast\n",
      "Endothelial\n",
      "Myeloid\n",
      "Cardiomyocyte\n",
      "vSMCs\n",
      "Mast\n",
      "Pericyte\n",
      "Neuronal\n"
     ]
    }
   ],
   "source": [
    "#expression embedding\n",
    "spatial_dict = {}\n",
    "for i in cell_groups:\n",
    "    print(i)\n",
    "    cells = meta[meta[\"labels\"]==i].index.tolist()\n",
    "    spatial_coords = new_matrix.loc[cells].mean(axis=0).values\n",
    "    for j in cell_groups:\n",
    "        if j != i:\n",
    "            second_cells = meta[meta[\"labels\"]==j].index.tolist()\n",
    "            second_spatial_coords = new_matrix.loc[second_cells].mean(axis=0).values\n",
    "            min_list = []\n",
    "            min_list.append(math.dist(spatial_coords,second_spatial_coords))\n",
    "            spatial_dict[(i,j)] = min(min_list)\n"
   ]
  },
  {
   "cell_type": "code",
   "execution_count": 312,
   "metadata": {},
   "outputs": [],
   "source": [
    "for k in spatial_dict.keys():\n",
    "    full_matrix.loc[k[0],k[1]] = spatial_dict[k]\n",
    "    full_matrix.loc[k[1],k[0]] = spatial_dict[k]\n"
   ]
  },
  {
   "cell_type": "code",
   "execution_count": 313,
   "metadata": {},
   "outputs": [],
   "source": [
    "cell_LR_data.x = torch.Tensor(full_matrix.values)"
   ]
  },
  {
   "cell_type": "code",
   "execution_count": 314,
   "metadata": {},
   "outputs": [],
   "source": [
    "LR_ids = cell_LR_nodes[(cell_LR_nodes[\"category\"]==\"Ligand\") | (cell_LR_nodes[\"category\"]==\"Receptor\")][\"Id\"].tolist()"
   ]
  },
  {
   "cell_type": "code",
   "execution_count": 315,
   "metadata": {},
   "outputs": [],
   "source": [
    "# true_values[\"Src\"] = [i + \"_Ligand\" for i in true_values[\"Src\"].tolist()]\n",
    "# true_values[\"Dst\"] = [i + \"_Receptor\" for i in true_values[\"Dst\"].tolist()]"
   ]
  },
  {
   "cell_type": "code",
   "execution_count": 316,
   "metadata": {},
   "outputs": [],
   "source": [
    "cell_groups = cell_LR_nodes[cell_LR_nodes[\"category\"]==\"Cell Group\"]['identifier'].tolist()"
   ]
  },
  {
   "cell_type": "code",
   "execution_count": 317,
   "metadata": {},
   "outputs": [],
   "source": [
    "truth_list = []\n",
    "for i in cell_LR_nodes[\"identifier\"].tolist():\n",
    "    if \"Ligand\" in i:\n",
    "        if i in ident_interactions[\"Src\"].tolist():\n",
    "            #truth_list.append(ident_interactions[ident_interactions[\"Src\"]==i].index.tolist()[0] + 1)\n",
    "            truth_list.append(1)\n",
    "        else:\n",
    "            truth_list.append(0)\n",
    "    elif \"Receptor\" in i:\n",
    "        if i in ident_interactions[\"Dst\"].tolist():\n",
    "            #truth_list.append(ident_interactions[ident_interactions[\"Dst\"]==i].index.tolist()[0] + 1)\n",
    "            truth_list.append(1)\n",
    "        else:\n",
    "            truth_list.append(0)\n",
    "    else:\n",
    "        truth_list.append(2)"
   ]
  },
  {
   "cell_type": "code",
   "execution_count": 318,
   "metadata": {},
   "outputs": [],
   "source": [
    "cell_LR_data.y = torch.Tensor(truth_list).type(torch.LongTensor)"
   ]
  },
  {
   "cell_type": "code",
   "execution_count": 319,
   "metadata": {},
   "outputs": [],
   "source": [
    "truth_array = np.array(truth_list)\n",
    "positive_classes = np.where(truth_array==1)[0].tolist()\n",
    "negative_classes = np.where(truth_array==0)[0].tolist()[:len(positive_classes)]"
   ]
  },
  {
   "cell_type": "code",
   "execution_count": 320,
   "metadata": {},
   "outputs": [],
   "source": [
    "new_train_mask = np.array([False]*truth_array.shape[0])\n",
    "new_train_mask[positive_classes + negative_classes] = True\n"
   ]
  },
  {
   "cell_type": "code",
   "execution_count": 321,
   "metadata": {},
   "outputs": [],
   "source": [
    "device = torch.device('cuda' if torch.cuda.is_available() else 'cpu')\n",
    "device = \"cpu\"\n",
    "\n",
    "model = GAT(cell_LR_data,num_classes=2).to(device)\n",
    "data = cell_LR_data.to(device)"
   ]
  },
  {
   "cell_type": "code",
   "execution_count": 322,
   "metadata": {},
   "outputs": [],
   "source": [
    "data.train_mask = torch.Tensor(new_train_mask).type(torch.LongTensor)"
   ]
  },
  {
   "cell_type": "code",
   "execution_count": 323,
   "metadata": {},
   "outputs": [],
   "source": [
    "optimizer = torch.optim.Adam(model.parameters(), lr=0.001)\n",
    "criterion = torch.nn.CrossEntropyLoss()"
   ]
  },
  {
   "cell_type": "code",
   "execution_count": 324,
   "metadata": {},
   "outputs": [],
   "source": [
    "ligands = cell_LR_nodes[cell_LR_nodes[\"category\"]==\"Ligand\"][\"Id\"].tolist()\n",
    "receptors = cell_LR_nodes[cell_LR_nodes[\"category\"]==\"Receptor\"][\"Id\"].tolist()"
   ]
  },
  {
   "cell_type": "code",
   "execution_count": 325,
   "metadata": {},
   "outputs": [],
   "source": [
    "truth_df = full_matrix.loc[cell_LR_nodes[cell_LR_nodes[\"category\"]==\"Ligand\"][\"identifier\"].tolist(),cell_LR_nodes[cell_LR_nodes[\"category\"]==\"Receptor\"][\"identifier\"].tolist()]"
   ]
  },
  {
   "cell_type": "code",
   "execution_count": 326,
   "metadata": {},
   "outputs": [],
   "source": [
    "truth_Tensor = torch.Tensor(truth_df.values).to(device)"
   ]
  },
  {
   "cell_type": "code",
   "execution_count": 327,
   "metadata": {},
   "outputs": [
    {
     "name": "stdout",
     "output_type": "stream",
     "text": [
      "tensor(0.8972, grad_fn=<NllLossBackward0>)\n",
      "tensor(0.2932, grad_fn=<NllLossBackward0>)\n",
      "tensor(0.2099, grad_fn=<NllLossBackward0>)\n",
      "tensor(0.3331, grad_fn=<NllLossBackward0>)\n",
      "tensor(0.3276, grad_fn=<NllLossBackward0>)\n"
     ]
    }
   ],
   "source": [
    "for epoch in range(100):\n",
    "    model.train()\n",
    "    optimizer.zero_grad()\n",
    "    out = model(data)\n",
    "    loss = F.nll_loss(out[new_train_mask],data.y[new_train_mask])\n",
    "    ligand_out = out[ligands,:]\n",
    "    receptor_out = out[receptors,:]\n",
    "    total_out = torch.inner(ligand_out,receptor_out)\n",
    "    #loss = criterion(out[LR_ids],data.y)\n",
    "    #loss = criterion(total_out,truth_Tensor)\n",
    "    #loss = criterion(out[new_train_mask],data.y[new_train_mask])\n",
    "    if epoch%20 == 0:\n",
    "        print(loss)\n",
    "    \n",
    "    loss.backward()\n",
    "    optimizer.step()\n",
    "    "
   ]
  },
  {
   "cell_type": "code",
   "execution_count": 328,
   "metadata": {},
   "outputs": [],
   "source": [
    "model.eval()\n",
    "cell_LR_out = model(data)"
   ]
  },
  {
   "cell_type": "code",
   "execution_count": 329,
   "metadata": {},
   "outputs": [],
   "source": [
    "out = cell_LR_out"
   ]
  },
  {
   "cell_type": "code",
   "execution_count": 330,
   "metadata": {},
   "outputs": [],
   "source": [
    "ligands = cell_LR_nodes[cell_LR_nodes[\"category\"]==\"Ligand\"][\"Id\"].tolist()\n",
    "receptors = cell_LR_nodes[cell_LR_nodes[\"category\"]==\"Receptor\"][\"Id\"].tolist()"
   ]
  },
  {
   "cell_type": "code",
   "execution_count": 331,
   "metadata": {},
   "outputs": [],
   "source": [
    "ligand_out = cell_LR_out[ligands,:]\n",
    "receptor_out = cell_LR_out[receptors,:]\n",
    "_,ligand_pred = ligand_out.max(dim=1)\n",
    "_,receptor_pred = receptor_out.max(dim=1)\n",
    "\n",
    "total_out = torch.inner(ligand_out,receptor_out).cpu().detach().numpy()"
   ]
  },
  {
   "cell_type": "code",
   "execution_count": 332,
   "metadata": {},
   "outputs": [],
   "source": [
    "cell_LR_nodes.index = cell_LR_nodes[\"Id\"].tolist()\n"
   ]
  },
  {
   "cell_type": "code",
   "execution_count": 333,
   "metadata": {},
   "outputs": [],
   "source": [
    "ligand_df = cell_LR_nodes[cell_LR_nodes[\"category\"]==\"Ligand\"]\n",
    "receptor_df = cell_LR_nodes[cell_LR_nodes[\"category\"]==\"Receptor\"]\n",
    "ligand_df.index = range(ligand_df.shape[0])\n",
    "receptor_df.index = range(receptor_df.shape[0])"
   ]
  },
  {
   "cell_type": "code",
   "execution_count": 334,
   "metadata": {},
   "outputs": [],
   "source": [
    "valid_ligands = ligand_df\n",
    "valid_receptors = receptor_df\n"
   ]
  },
  {
   "cell_type": "code",
   "execution_count": 335,
   "metadata": {},
   "outputs": [],
   "source": [
    "ligand_pred = ligand_pred.cpu().detach().numpy()\n",
    "receptor_pred = receptor_pred.cpu().detach().numpy()"
   ]
  },
  {
   "cell_type": "code",
   "execution_count": 336,
   "metadata": {},
   "outputs": [],
   "source": [
    "from sklearn.metrics import recall_score, precision_score"
   ]
  },
  {
   "cell_type": "code",
   "execution_count": 337,
   "metadata": {},
   "outputs": [
    {
     "data": {
      "text/plain": [
       "0.3526530612244898"
      ]
     },
     "execution_count": 337,
     "metadata": {},
     "output_type": "execute_result"
    }
   ],
   "source": [
    "precision_score(truth_array[ligands], ligand_pred, average='binary')"
   ]
  },
  {
   "cell_type": "code",
   "execution_count": 338,
   "metadata": {},
   "outputs": [
    {
     "data": {
      "text/plain": [
       "0.4267369114257491"
      ]
     },
     "execution_count": 338,
     "metadata": {},
     "output_type": "execute_result"
    }
   ],
   "source": [
    "precision_score(truth_array[receptors], receptor_pred, average='binary')"
   ]
  },
  {
   "cell_type": "code",
   "execution_count": 339,
   "metadata": {},
   "outputs": [
    {
     "name": "stdout",
     "output_type": "stream",
     "text": [
      "Recall: 1.000\n"
     ]
    }
   ],
   "source": [
    "recall = recall_score(truth_array[ligands], ligand_pred, average='binary')\n",
    "print('Recall: %.3f' % recall)"
   ]
  },
  {
   "cell_type": "code",
   "execution_count": 340,
   "metadata": {},
   "outputs": [
    {
     "name": "stdout",
     "output_type": "stream",
     "text": [
      "Recall: 1.000\n"
     ]
    }
   ],
   "source": [
    "recall = recall_score(truth_array[receptors], receptor_pred, average='binary')\n",
    "print('Recall: %.3f' % recall)"
   ]
  },
  {
   "cell_type": "code",
   "execution_count": 341,
   "metadata": {},
   "outputs": [],
   "source": [
    "ligand_out = ligand_out[valid_ligands.index.tolist()]\n",
    "receptor_out = receptor_out[valid_receptors.index.tolist()]"
   ]
  },
  {
   "cell_type": "code",
   "execution_count": 342,
   "metadata": {},
   "outputs": [],
   "source": [
    "ligand_nodes = cell_LR_nodes[cell_LR_nodes[\"category\"] == \"Ligand\"]\n",
    "ligand_nodes.index = range(0,ligand_nodes.shape[0])\n",
    "ligand_idents = ligand_nodes.iloc[np.where(ligand_pred==1)]['identifier'].tolist()"
   ]
  },
  {
   "cell_type": "code",
   "execution_count": 343,
   "metadata": {},
   "outputs": [],
   "source": [
    "total_out_df = pd.DataFrame(total_out,index=valid_ligands[\"identifier\"].tolist(),columns=valid_receptors[\"identifier\"].tolist())"
   ]
  },
  {
   "cell_type": "code",
   "execution_count": 344,
   "metadata": {},
   "outputs": [],
   "source": [
    "# true_values[\"Prob\"] = (true_values[\"Prob\"] - np.min(true_values[\"Prob\"])) / (np.max(true_values[\"Prob\"]) - np.min(true_values[\"Prob\"]))"
   ]
  },
  {
   "cell_type": "code",
   "execution_count": 345,
   "metadata": {},
   "outputs": [],
   "source": [
    "# true_values = true_values.drop_duplicates()"
   ]
  },
  {
   "cell_type": "code",
   "execution_count": 346,
   "metadata": {},
   "outputs": [],
   "source": [
    "# link_df[\"Prob\"] = (link_df[\"Prob\"] - np.min(link_df[\"Prob\"])) / (np.max(link_df[\"Prob\"]) - np.min(link_df[\"Prob\"]))\n",
    "# #link_df[\"Src\"] = [i+\"_Ligand\" for i in link_df[\"Src\"].tolist()]\n",
    "# #link_df[\"Dst\"] = [i+\"_Receptor\" for i in link_df[\"Dst\"].tolist()]"
   ]
  },
  {
   "cell_type": "code",
   "execution_count": 347,
   "metadata": {},
   "outputs": [],
   "source": [
    "# for index,row in true_values.iterrows():\n",
    "#     total_out_df.loc[row[\"Src\"],row[\"Dst\"]] += row[\"Prob\"]"
   ]
  },
  {
   "cell_type": "code",
   "execution_count": 348,
   "metadata": {},
   "outputs": [],
   "source": [
    "indicies = np.where(total_out_df.values > 0)\n",
    "source = list(indicies[0])\n",
    "dest = list(indicies[1])"
   ]
  },
  {
   "cell_type": "code",
   "execution_count": 349,
   "metadata": {},
   "outputs": [],
   "source": [
    "index_df = pd.DataFrame({\"Id\":range(0,total_out_df.shape[0]),\"identifier\":total_out_df.index.tolist()})\n",
    "column_df = pd.DataFrame({\"Id\":range(0,total_out_df.shape[1]),\"identifier\":total_out_df.columns.tolist()})"
   ]
  },
  {
   "cell_type": "code",
   "execution_count": 350,
   "metadata": {},
   "outputs": [],
   "source": [
    "source_list = index_df.loc[source][\"identifier\"].tolist()\n",
    "dest_list = column_df.loc[dest][\"identifier\"].tolist()"
   ]
  },
  {
   "cell_type": "code",
   "execution_count": 351,
   "metadata": {},
   "outputs": [],
   "source": [
    "total_link_df = pd.DataFrame({\"Src\":source_list,\"Dst\":dest_list,\"Prob\":total_out_df.values[indicies]})"
   ]
  },
  {
   "cell_type": "code",
   "execution_count": 352,
   "metadata": {},
   "outputs": [],
   "source": [
    "total_link_df = total_link_df.sort_values(\"Prob\",ascending=False)"
   ]
  },
  {
   "cell_type": "code",
   "execution_count": 353,
   "metadata": {},
   "outputs": [],
   "source": [
    "Omnipath_db = pd.read_csv(\"/data/LR_database/Omnipath_database.csv\")"
   ]
  },
  {
   "cell_type": "code",
   "execution_count": 354,
   "metadata": {},
   "outputs": [],
   "source": [
    "total_link_df[\"Src\"] = [i.split(\"_\")[0] for i in total_link_df[\"Src\"].tolist()]\n",
    "total_link_df[\"Dst\"] = [i.split(\"_\")[0] for i in total_link_df[\"Dst\"].tolist()]"
   ]
  },
  {
   "cell_type": "code",
   "execution_count": 355,
   "metadata": {},
   "outputs": [],
   "source": [
    "total_link_df = total_link_df.drop_duplicates()"
   ]
  },
  {
   "cell_type": "code",
   "execution_count": 356,
   "metadata": {},
   "outputs": [],
   "source": [
    "Omnipath_db = Omnipath_db.drop_duplicates([\"from\",\"to\"])"
   ]
  },
  {
   "cell_type": "code",
   "execution_count": 357,
   "metadata": {},
   "outputs": [
    {
     "data": {
      "text/html": [
       "<div>\n",
       "<style scoped>\n",
       "    .dataframe tbody tr th:only-of-type {\n",
       "        vertical-align: middle;\n",
       "    }\n",
       "\n",
       "    .dataframe tbody tr th {\n",
       "        vertical-align: top;\n",
       "    }\n",
       "\n",
       "    .dataframe thead th {\n",
       "        text-align: right;\n",
       "    }\n",
       "</style>\n",
       "<table border=\"1\" class=\"dataframe\">\n",
       "  <thead>\n",
       "    <tr style=\"text-align: right;\">\n",
       "      <th></th>\n",
       "      <th>Src</th>\n",
       "      <th>Dst</th>\n",
       "      <th>Prob</th>\n",
       "      <th>Unnamed: 0</th>\n",
       "      <th>from</th>\n",
       "      <th>to</th>\n",
       "      <th>sources</th>\n",
       "    </tr>\n",
       "  </thead>\n",
       "  <tbody>\n",
       "    <tr>\n",
       "      <th>0</th>\n",
       "      <td>PTPN22</td>\n",
       "      <td>ZAP70</td>\n",
       "      <td>0.001870</td>\n",
       "      <td>20270</td>\n",
       "      <td>PTPN22</td>\n",
       "      <td>ZAP70</td>\n",
       "      <td>DEPOD;HPRD;IntAct;KEA;Kinexus_KEA;ProtMapper;R...</td>\n",
       "    </tr>\n",
       "    <tr>\n",
       "      <th>1</th>\n",
       "      <td>PTPN22</td>\n",
       "      <td>LCK</td>\n",
       "      <td>0.001870</td>\n",
       "      <td>34133</td>\n",
       "      <td>PTPN22</td>\n",
       "      <td>LCK</td>\n",
       "      <td>DEPOD;HPRD;IntAct;KEA;Kinexus_KEA;ProtMapper;R...</td>\n",
       "    </tr>\n",
       "    <tr>\n",
       "      <th>2</th>\n",
       "      <td>LCK</td>\n",
       "      <td>CD3G</td>\n",
       "      <td>0.001870</td>\n",
       "      <td>15192</td>\n",
       "      <td>LCK</td>\n",
       "      <td>CD3G</td>\n",
       "      <td>SIGNOR;Wang</td>\n",
       "    </tr>\n",
       "    <tr>\n",
       "      <th>3</th>\n",
       "      <td>MATK</td>\n",
       "      <td>LCK</td>\n",
       "      <td>0.001830</td>\n",
       "      <td>85846</td>\n",
       "      <td>MATK</td>\n",
       "      <td>LCK</td>\n",
       "      <td>iPTMnet</td>\n",
       "    </tr>\n",
       "    <tr>\n",
       "      <th>4</th>\n",
       "      <td>ZAP70</td>\n",
       "      <td>LCK</td>\n",
       "      <td>0.001830</td>\n",
       "      <td>2814</td>\n",
       "      <td>ZAP70</td>\n",
       "      <td>LCK</td>\n",
       "      <td>BioGRID;Cui2007;DOMINO;HPRD;InnateDB;IntAct;Li...</td>\n",
       "    </tr>\n",
       "    <tr>\n",
       "      <th>5</th>\n",
       "      <td>LCK</td>\n",
       "      <td>ZAP70</td>\n",
       "      <td>0.001830</td>\n",
       "      <td>2813</td>\n",
       "      <td>LCK</td>\n",
       "      <td>ZAP70</td>\n",
       "      <td>BioGRID;Cui2007;DOMINO;HPRD;HPRD-phos;HPRD_KEA...</td>\n",
       "    </tr>\n",
       "    <tr>\n",
       "      <th>6</th>\n",
       "      <td>ELANE</td>\n",
       "      <td>SLPI</td>\n",
       "      <td>0.001830</td>\n",
       "      <td>88996</td>\n",
       "      <td>ELANE</td>\n",
       "      <td>SLPI</td>\n",
       "      <td>HPRD;Wang</td>\n",
       "    </tr>\n",
       "    <tr>\n",
       "      <th>7</th>\n",
       "      <td>SLPI</td>\n",
       "      <td>ELANE</td>\n",
       "      <td>0.001830</td>\n",
       "      <td>88995</td>\n",
       "      <td>SLPI</td>\n",
       "      <td>ELANE</td>\n",
       "      <td>HPRD;Wang</td>\n",
       "    </tr>\n",
       "    <tr>\n",
       "      <th>8</th>\n",
       "      <td>NTRK1</td>\n",
       "      <td>SHC3</td>\n",
       "      <td>0.001830</td>\n",
       "      <td>78311</td>\n",
       "      <td>NTRK1</td>\n",
       "      <td>SHC3</td>\n",
       "      <td>HPRD;MIMP;PhosphoPoint;PhosphoSite;PhosphoSite...</td>\n",
       "    </tr>\n",
       "    <tr>\n",
       "      <th>9</th>\n",
       "      <td>NTRK1</td>\n",
       "      <td>MATK</td>\n",
       "      <td>0.001830</td>\n",
       "      <td>7655</td>\n",
       "      <td>NTRK1</td>\n",
       "      <td>MATK</td>\n",
       "      <td>HPRD;Lit-BM-17;PhosphoPoint;SignaLink3;Wang</td>\n",
       "    </tr>\n",
       "    <tr>\n",
       "      <th>10</th>\n",
       "      <td>ZAP70</td>\n",
       "      <td>SLAMF6</td>\n",
       "      <td>0.001830</td>\n",
       "      <td>89143</td>\n",
       "      <td>ZAP70</td>\n",
       "      <td>SLAMF6</td>\n",
       "      <td>HPRD;PhosphoPoint</td>\n",
       "    </tr>\n",
       "    <tr>\n",
       "      <th>11</th>\n",
       "      <td>CDK1</td>\n",
       "      <td>PPP1R1B</td>\n",
       "      <td>0.001800</td>\n",
       "      <td>82056</td>\n",
       "      <td>CDK1</td>\n",
       "      <td>PPP1R1B</td>\n",
       "      <td>HPRD_MIMP;KEA;MIMP;NetworKIN_KEA;PhosphoSite_M...</td>\n",
       "    </tr>\n",
       "    <tr>\n",
       "      <th>12</th>\n",
       "      <td>CDK1</td>\n",
       "      <td>SPAG5</td>\n",
       "      <td>0.001800</td>\n",
       "      <td>78845</td>\n",
       "      <td>CDK1</td>\n",
       "      <td>SPAG5</td>\n",
       "      <td>HPRD;PhosphoPoint;PhosphoSite;PhosphoSite_Prot...</td>\n",
       "    </tr>\n",
       "    <tr>\n",
       "      <th>13</th>\n",
       "      <td>LCK</td>\n",
       "      <td>TRPV4</td>\n",
       "      <td>0.001765</td>\n",
       "      <td>79</td>\n",
       "      <td>LCK</td>\n",
       "      <td>TRPV4</td>\n",
       "      <td>HPRD;PhosphoPoint;TRIP</td>\n",
       "    </tr>\n",
       "    <tr>\n",
       "      <th>14</th>\n",
       "      <td>ZAP70</td>\n",
       "      <td>SLA2</td>\n",
       "      <td>0.001765</td>\n",
       "      <td>5462</td>\n",
       "      <td>ZAP70</td>\n",
       "      <td>SLA2</td>\n",
       "      <td>HPRD;NetPath;PhosphoPoint;SPIKE;SPIKE_LC;Wang</td>\n",
       "    </tr>\n",
       "    <tr>\n",
       "      <th>15</th>\n",
       "      <td>CHEK1</td>\n",
       "      <td>CDC7</td>\n",
       "      <td>0.001765</td>\n",
       "      <td>32840</td>\n",
       "      <td>CHEK1</td>\n",
       "      <td>CDC7</td>\n",
       "      <td>SIGNOR</td>\n",
       "    </tr>\n",
       "    <tr>\n",
       "      <th>16</th>\n",
       "      <td>LCK</td>\n",
       "      <td>CD3D</td>\n",
       "      <td>0.001765</td>\n",
       "      <td>24505</td>\n",
       "      <td>LCK</td>\n",
       "      <td>CD3D</td>\n",
       "      <td>SIGNOR;Wang</td>\n",
       "    </tr>\n",
       "    <tr>\n",
       "      <th>17</th>\n",
       "      <td>SIGLEC8</td>\n",
       "      <td>LRRC4C</td>\n",
       "      <td>0.001765</td>\n",
       "      <td>76453</td>\n",
       "      <td>SIGLEC8</td>\n",
       "      <td>LRRC4C</td>\n",
       "      <td>Cellinker</td>\n",
       "    </tr>\n",
       "    <tr>\n",
       "      <th>18</th>\n",
       "      <td>IL1RN</td>\n",
       "      <td>IL2RG</td>\n",
       "      <td>0.001765</td>\n",
       "      <td>8611</td>\n",
       "      <td>IL1RN</td>\n",
       "      <td>IL2RG</td>\n",
       "      <td>Guide2Pharma;scConnect</td>\n",
       "    </tr>\n",
       "    <tr>\n",
       "      <th>19</th>\n",
       "      <td>CHEK1</td>\n",
       "      <td>E2F6</td>\n",
       "      <td>0.001762</td>\n",
       "      <td>25376</td>\n",
       "      <td>CHEK1</td>\n",
       "      <td>E2F6</td>\n",
       "      <td>MIMP;PhosphoSite;PhosphoSite_MIMP;PhosphoSite_...</td>\n",
       "    </tr>\n",
       "  </tbody>\n",
       "</table>\n",
       "</div>"
      ],
      "text/plain": [
       "        Src      Dst      Prob  Unnamed: 0     from       to  \\\n",
       "0    PTPN22    ZAP70  0.001870       20270   PTPN22    ZAP70   \n",
       "1    PTPN22      LCK  0.001870       34133   PTPN22      LCK   \n",
       "2       LCK     CD3G  0.001870       15192      LCK     CD3G   \n",
       "3      MATK      LCK  0.001830       85846     MATK      LCK   \n",
       "4     ZAP70      LCK  0.001830        2814    ZAP70      LCK   \n",
       "5       LCK    ZAP70  0.001830        2813      LCK    ZAP70   \n",
       "6     ELANE     SLPI  0.001830       88996    ELANE     SLPI   \n",
       "7      SLPI    ELANE  0.001830       88995     SLPI    ELANE   \n",
       "8     NTRK1     SHC3  0.001830       78311    NTRK1     SHC3   \n",
       "9     NTRK1     MATK  0.001830        7655    NTRK1     MATK   \n",
       "10    ZAP70   SLAMF6  0.001830       89143    ZAP70   SLAMF6   \n",
       "11     CDK1  PPP1R1B  0.001800       82056     CDK1  PPP1R1B   \n",
       "12     CDK1    SPAG5  0.001800       78845     CDK1    SPAG5   \n",
       "13      LCK    TRPV4  0.001765          79      LCK    TRPV4   \n",
       "14    ZAP70     SLA2  0.001765        5462    ZAP70     SLA2   \n",
       "15    CHEK1     CDC7  0.001765       32840    CHEK1     CDC7   \n",
       "16      LCK     CD3D  0.001765       24505      LCK     CD3D   \n",
       "17  SIGLEC8   LRRC4C  0.001765       76453  SIGLEC8   LRRC4C   \n",
       "18    IL1RN    IL2RG  0.001765        8611    IL1RN    IL2RG   \n",
       "19    CHEK1     E2F6  0.001762       25376    CHEK1     E2F6   \n",
       "\n",
       "                                              sources  \n",
       "0   DEPOD;HPRD;IntAct;KEA;Kinexus_KEA;ProtMapper;R...  \n",
       "1   DEPOD;HPRD;IntAct;KEA;Kinexus_KEA;ProtMapper;R...  \n",
       "2                                         SIGNOR;Wang  \n",
       "3                                             iPTMnet  \n",
       "4   BioGRID;Cui2007;DOMINO;HPRD;InnateDB;IntAct;Li...  \n",
       "5   BioGRID;Cui2007;DOMINO;HPRD;HPRD-phos;HPRD_KEA...  \n",
       "6                                           HPRD;Wang  \n",
       "7                                           HPRD;Wang  \n",
       "8   HPRD;MIMP;PhosphoPoint;PhosphoSite;PhosphoSite...  \n",
       "9         HPRD;Lit-BM-17;PhosphoPoint;SignaLink3;Wang  \n",
       "10                                  HPRD;PhosphoPoint  \n",
       "11  HPRD_MIMP;KEA;MIMP;NetworKIN_KEA;PhosphoSite_M...  \n",
       "12  HPRD;PhosphoPoint;PhosphoSite;PhosphoSite_Prot...  \n",
       "13                             HPRD;PhosphoPoint;TRIP  \n",
       "14      HPRD;NetPath;PhosphoPoint;SPIKE;SPIKE_LC;Wang  \n",
       "15                                             SIGNOR  \n",
       "16                                        SIGNOR;Wang  \n",
       "17                                          Cellinker  \n",
       "18                             Guide2Pharma;scConnect  \n",
       "19  MIMP;PhosphoSite;PhosphoSite_MIMP;PhosphoSite_...  "
      ]
     },
     "execution_count": 357,
     "metadata": {},
     "output_type": "execute_result"
    }
   ],
   "source": [
    "pd.merge(total_link_df.head(10000),Omnipath_db,left_on=[\"Src\",\"Dst\"],right_on=[\"from\",\"to\"])"
   ]
  },
  {
   "cell_type": "code",
   "execution_count": 358,
   "metadata": {},
   "outputs": [],
   "source": [
    "LR_out = cell_LR_out[valid_ligands[\"Id\"].tolist() + valid_receptors[\"Id\"].tolist(),:]\n",
    "cell_group_out = cell_LR_out[cell_LR_nodes[cell_LR_nodes[\"category\"]==\"Cell Group\"][\"Id\"].tolist(),:]\n",
    "cell_LR_out = torch.inner(LR_out,cell_group_out).cpu().detach().numpy()"
   ]
  },
  {
   "cell_type": "code",
   "execution_count": 359,
   "metadata": {},
   "outputs": [],
   "source": [
    "cell_LR_df = pd.DataFrame(cell_LR_out,index=valid_ligands[\"identifier\"].tolist() + valid_receptors[\"identifier\"].tolist(),columns=cell_LR_nodes[cell_LR_nodes[\"category\"]==\"Cell Group\"][\"identifier\"].tolist())"
   ]
  },
  {
   "cell_type": "code",
   "execution_count": 360,
   "metadata": {},
   "outputs": [],
   "source": [
    "ligands = nodes[nodes[\"category\"]==\"Ligand\"][\"identifier\"].tolist()\n",
    "receptors = nodes[nodes[\"category\"]==\"Receptor\"][\"identifier\"].tolist()\n",
    "expression_df = matrix"
   ]
  },
  {
   "cell_type": "code",
   "execution_count": 361,
   "metadata": {},
   "outputs": [],
   "source": [
    "cell_groups = meta[\"labels\"].unique().tolist()\n",
    "\n",
    "\n",
    "# In[30]:\n",
    "\n",
    "\n",
    "mean_matrix = pd.DataFrame(columns=cell_groups,index=ligands+receptors)\n",
    "\n",
    "\n",
    "# In[31]:\n",
    "\n",
    "\n",
    "for i in cell_groups:\n",
    "    cells = meta[meta[\"labels\"]==i][\"cell\"].tolist()\n",
    "    temp_ligands = [i.split(\"_\")[0] for i in ligands]\n",
    "    ligand_df = expression_df[cells].mean(axis=1).loc[temp_ligands]\n",
    "    ligand_df.index = [i+\"_Ligand\" for i in ligand_df.index.tolist()]\n",
    "    temp_receptors = receptors = [i.split(\"_\")[0] for i in receptors]\n",
    "    receptor_df = expression_df[cells].mean(axis=1).loc[temp_receptors]\n",
    "    receptor_df.index = [i+\"_Receptor\" for i in receptor_df.index.tolist()]\n",
    "    total_df = pd.concat([ligand_df,receptor_df])\n",
    "    mean_matrix[i] = total_df.tolist()"
   ]
  },
  {
   "cell_type": "code",
   "execution_count": 362,
   "metadata": {},
   "outputs": [],
   "source": [
    "ligands = cell_LR_nodes[cell_LR_nodes[\"category\"]==\"Ligand\"][\"Id\"].tolist()\n",
    "receptors = cell_LR_nodes[cell_LR_nodes[\"category\"]==\"Receptor\"][\"Id\"].tolist()"
   ]
  },
  {
   "cell_type": "code",
   "execution_count": 363,
   "metadata": {},
   "outputs": [],
   "source": [
    "interacting_ligands = list(set(ligands) & set(cell_LR_ints[\"Dst\"].tolist()))\n",
    "interacting_receptors = list(set(receptors) & set(cell_LR_ints[\"Dst\"].tolist()))\n",
    "\n",
    "\n",
    "# In[99]:\n",
    "\n",
    "\n",
    "cell_LR_ints.index = cell_LR_ints[\"Dst\"].tolist()\n",
    "ligand_cells = cell_LR_ints.loc[interacting_ligands][\"Src\"].unique().tolist()\n",
    "receptor_cells = cell_LR_ints.loc[interacting_receptors][\"Src\"].unique().tolist()"
   ]
  },
  {
   "cell_type": "code",
   "execution_count": 364,
   "metadata": {},
   "outputs": [],
   "source": [
    "cell_LR_out = torch.Tensor(cell_LR_out)"
   ]
  },
  {
   "cell_type": "code",
   "execution_count": 365,
   "metadata": {},
   "outputs": [],
   "source": [
    "ligand_cell_out = out[ligand_cells,:]\n",
    "ligand_out = out[ligands,:]\n",
    "total_ligand_out = torch.inner(ligand_out,ligand_cell_out).cpu().detach().numpy()\n",
    "receptor_cell_out = out[receptor_cells,:]\n",
    "receptor_out = out[receptors,:]\n",
    "total_receptor_out = torch.inner(receptor_out,receptor_cell_out).cpu().detach().numpy()"
   ]
  },
  {
   "cell_type": "code",
   "execution_count": 366,
   "metadata": {},
   "outputs": [],
   "source": [
    "ligand_matrix = mean_matrix[mean_matrix.index.str.contains(\"Ligand\")]\n",
    "receptor_matrix = mean_matrix[mean_matrix.index.str.contains(\"Receptor\")]\n",
    "\n",
    "\n",
    "# In[112]:\n",
    "\n",
    "\n",
    "ligand_cell_out = np.multiply(ligand_matrix,total_ligand_out)\n",
    "receptor_cell_out = np.multiply(receptor_matrix,total_receptor_out)\n",
    "\n",
    "\n",
    "# In[113]:\n",
    "\n",
    "\n",
    "ligand_maxes = (ligand_cell_out.idxmax(axis=1))\n",
    "receptor_maxes = (receptor_cell_out.idxmax(axis=1))\n"
   ]
  },
  {
   "cell_type": "code",
   "execution_count": 367,
   "metadata": {},
   "outputs": [],
   "source": [
    "ligand_maxes.index = [i.split(\"_\")[0] for i in ligand_maxes.index.tolist()]\n",
    "receptor_maxes.index = [i.split(\"_\")[0] for i in receptor_maxes.index.tolist()]"
   ]
  },
  {
   "cell_type": "code",
   "execution_count": 368,
   "metadata": {},
   "outputs": [],
   "source": [
    "total_link_df[\"Src Cell\"] = ligand_maxes.loc[total_link_df['Src']].tolist()\n",
    "total_link_df[\"Dst Cell\"] = receptor_maxes.loc[total_link_df['Dst']].tolist()\n"
   ]
  },
  {
   "cell_type": "code",
   "execution_count": 369,
   "metadata": {},
   "outputs": [],
   "source": [
    "total_link_df.to_csv(\"/results/gene_spatial.csv\")"
   ]
  }
 ],
 "metadata": {
  "colab": {
   "collapsed_sections": [],
   "name": "2. Node Classification.ipynb",
   "provenance": []
  },
  "kernelspec": {
   "display_name": "Python 3",
   "language": "python",
   "name": "python3"
  },
  "language_info": {
   "codemirror_mode": {
    "name": "ipython",
    "version": 3
   },
   "file_extension": ".py",
   "mimetype": "text/x-python",
   "name": "python",
   "nbconvert_exporter": "python",
   "pygments_lexer": "ipython3",
   "version": "3.9.12"
  }
 },
 "nbformat": 4,
 "nbformat_minor": 4
}
